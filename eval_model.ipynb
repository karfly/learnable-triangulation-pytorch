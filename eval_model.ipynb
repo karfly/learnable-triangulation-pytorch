{
 "cells": [
  {
   "cell_type": "code",
   "execution_count": 1,
   "id": "formed-george",
   "metadata": {},
   "outputs": [],
   "source": [
    "%load_ext autoreload\n",
    "%reload_ext autoreload\n",
    "%autoreload 2\n",
    "%matplotlib inline"
   ]
  },
  {
   "cell_type": "code",
   "execution_count": 2,
   "id": "annual-fireplace",
   "metadata": {},
   "outputs": [],
   "source": [
    "import torch\n",
    "from torch import nn\n",
    "\n",
    "from mvn.utils.minimon import MiniMon\n",
    "from mvn.utils.misc import flush_cache\n",
    "\n",
    "from mvn.ipynb import get_args, get_config, build_labels\n",
    "from mvn.pipeline.setup import setup_dataloaders, setup_experiment, build_env\n",
    "from mvn.pipeline.training import do_train"
   ]
  },
  {
   "cell_type": "code",
   "execution_count": 3,
   "id": "latter-advance",
   "metadata": {},
   "outputs": [
    {
     "name": "stdout",
     "output_type": "stream",
     "text": [
      "|===========================================================================|\n",
      "|                  PyTorch CUDA memory summary, device ID 0                 |\n",
      "|---------------------------------------------------------------------------|\n",
      "|            CUDA OOMs: 0            |        cudaMalloc retries: 0         |\n",
      "|===========================================================================|\n",
      "|        Metric         | Cur Usage  | Peak Usage | Tot Alloc  | Tot Freed  |\n",
      "|---------------------------------------------------------------------------|\n",
      "| Allocated memory      |       0 B  |       0 B  |       0 B  |       0 B  |\n",
      "|       from large pool |       0 B  |       0 B  |       0 B  |       0 B  |\n",
      "|       from small pool |       0 B  |       0 B  |       0 B  |       0 B  |\n",
      "|---------------------------------------------------------------------------|\n",
      "| Active memory         |       0 B  |       0 B  |       0 B  |       0 B  |\n",
      "|       from large pool |       0 B  |       0 B  |       0 B  |       0 B  |\n",
      "|       from small pool |       0 B  |       0 B  |       0 B  |       0 B  |\n",
      "|---------------------------------------------------------------------------|\n",
      "| GPU reserved memory   |       0 B  |       0 B  |       0 B  |       0 B  |\n",
      "|       from large pool |       0 B  |       0 B  |       0 B  |       0 B  |\n",
      "|       from small pool |       0 B  |       0 B  |       0 B  |       0 B  |\n",
      "|---------------------------------------------------------------------------|\n",
      "| Non-releasable memory |       0 B  |       0 B  |       0 B  |       0 B  |\n",
      "|       from large pool |       0 B  |       0 B  |       0 B  |       0 B  |\n",
      "|       from small pool |       0 B  |       0 B  |       0 B  |       0 B  |\n",
      "|---------------------------------------------------------------------------|\n",
      "| Allocations           |       0    |       0    |       0    |       0    |\n",
      "|       from large pool |       0    |       0    |       0    |       0    |\n",
      "|       from small pool |       0    |       0    |       0    |       0    |\n",
      "|---------------------------------------------------------------------------|\n",
      "| Active allocs         |       0    |       0    |       0    |       0    |\n",
      "|       from large pool |       0    |       0    |       0    |       0    |\n",
      "|       from small pool |       0    |       0    |       0    |       0    |\n",
      "|---------------------------------------------------------------------------|\n",
      "| GPU reserved segments |       0    |       0    |       0    |       0    |\n",
      "|       from large pool |       0    |       0    |       0    |       0    |\n",
      "|       from small pool |       0    |       0    |       0    |       0    |\n",
      "|---------------------------------------------------------------------------|\n",
      "| Non-releasable allocs |       0    |       0    |       0    |       0    |\n",
      "|       from large pool |       0    |       0    |       0    |       0    |\n",
      "|       from small pool |       0    |       0    |       0    |       0    |\n",
      "|===========================================================================|\n",
      "\n",
      "using dev cuda:0\n",
      "# available GPUs: 1\n"
     ]
    }
   ],
   "source": [
    "flush_cache()\n",
    "\n",
    "is_distributed = False\n",
    "master = True\n",
    "device = torch.device(0)\n",
    "print('using dev {}'.format(device))\n",
    "    \n",
    "args = get_args()\n",
    "\n",
    "# just to get a feeling of the dataset\n",
    "# labels, mask, indices = build_labels(config.dataset.train.labels_path, 10000)\n",
    "# labels, mask, indices = build_labels(config.dataset.train.labels_path, 10, allowed_subjects=['S9', 'S11'])"
   ]
  },
  {
   "cell_type": "code",
   "execution_count": 38,
   "id": "dedicated-speech",
   "metadata": {
    "scrolled": false
   },
   "outputs": [
    {
     "name": "stdout",
     "output_type": "stream",
     "text": [
      "cam2cam model (res):\n",
      "                    R_backbone has       1750 params (~ 50.7) %\n",
      "                    t_backbone has       1699 params (~ 49.3) %\n",
      "total params:                 3449\n",
      "cam2cam estimation => adding 3449 params to grad ...\n",
      "  training dataset length: 12\n",
      "  validation dataset length: 5\n",
      "Experiment name: human36m_alg_AlgebraicTriangulationNet@14.05.2021-20:17:20\n",
      "#[do_train]: epoch    0 has started!\n",
      "#[cam2cam]: training batch iter 0 losses: GEO ~ 6.356, TRANS ~ 61.294, POSE ~ 93404.648, ROTO ~ 9.590, 3D ~ 611.121, SELF R ~ 65.033, SELF t ~ 4.769, TOTAL ~ 667.482\n",
      "#[cam2cam]: training batch iter 0 MPJPE: ~ 462.383 mm\n",
      "#[cam2cam]: training batch iter 1 losses: GEO ~ 7.106, TRANS ~ 62.470, POSE ~ 89285.234, ROTO ~ 10.218, 3D ~ 598.001, SELF R ~ 58.202, SELF t ~ 3.981, TOTAL ~ 647.008\n",
      "#[cam2cam]: training batch iter 1 MPJPE: ~ 490.822 mm\n",
      "#[cam2cam]: training batch iter 2 losses: GEO ~ 7.110, TRANS ~ 62.600, POSE ~ 95463.625, ROTO ~ 10.031, 3D ~ 607.945, SELF R ~ 64.179, SELF t ~ 5.578, TOTAL ~ 667.922\n",
      "#[cam2cam]: training batch iter 2 MPJPE: ~ 426.403 mm\n",
      "#[cam2cam]: training batch iter 3 losses: GEO ~ 7.006, TRANS ~ 59.200, POSE ~ 92008.000, ROTO ~ 9.431, 3D ~ 592.957, SELF R ~ 54.906, SELF t ~ 3.695, TOTAL ~ 638.885\n",
      "#[cam2cam]: training batch iter 3 MPJPE: ~ 462.935 mm\n",
      "#[epoch]: training MPJPE relative to pelvis: 460.636 mm\n",
      "#[epoch]: eval MPJPE relative to pelvis: 637.184 mm\n",
      "#[do_train]: epoch time ~ 3.7\" => 961 epochs / hour, 23069 epochs / day\n",
      "#[do_train]: epoch    0 complete!\n",
      "#[do_train]: epoch    1 has started!\n",
      "#[cam2cam]: training batch iter 0 losses: GEO ~ 7.279, TRANS ~ 60.567, POSE ~ 96009.555, ROTO ~ 9.966, 3D ~ 618.495, SELF R ~ 61.419, SELF t ~ 5.479, TOTAL ~ 676.601\n",
      "#[cam2cam]: training batch iter 0 MPJPE: ~ 509.678 mm\n",
      "#[cam2cam]: training batch iter 1 losses: GEO ~ 7.087, TRANS ~ 61.588, POSE ~ 86425.078, ROTO ~ 10.063, 3D ~ 594.673, SELF R ~ 57.368, SELF t ~ 4.022, TOTAL ~ 643.466\n",
      "#[cam2cam]: training batch iter 1 MPJPE: ~ 460.488 mm\n",
      "#[cam2cam]: training batch iter 2 losses: GEO ~ 6.225, TRANS ~ 62.510, POSE ~ 85168.203, ROTO ~ 9.104, 3D ~ 592.779, SELF R ~ 64.308, SELF t ~ 4.699, TOTAL ~ 648.430\n",
      "#[cam2cam]: training batch iter 2 MPJPE: ~ 407.016 mm\n",
      "#[cam2cam]: training batch iter 3 losses: GEO ~ 6.818, TRANS ~ 62.070, POSE ~ 89441.062, ROTO ~ 9.704, 3D ~ 587.166, SELF R ~ 55.856, SELF t ~ 3.770, TOTAL ~ 633.945\n",
      "#[cam2cam]: training batch iter 3 MPJPE: ~ 447.273 mm\n",
      "#[epoch]: training MPJPE relative to pelvis: 456.114 mm\n",
      "#[epoch]: eval MPJPE relative to pelvis: 643.410 mm\n",
      "#[do_train]: epoch time ~ 3.7\" => 979 epochs / hour, 23489 epochs / day\n",
      "#[do_train]: epoch    1 complete!\n",
      "          BB forward x         12 ~        0.0 [min:        0.0,    max:        0.0,    last:        0.0]\n",
      "    evaluate results x          4 ~        0.0 [min:        0.0,    max:        0.0,    last:        0.0]\n",
      "     cam2cam forward x         12 ~        0.0 [min:        0.0,    max:        0.0,    last:        0.0]\n",
      "         cam2cam DLT x         12 ~        0.0 [min:        0.0,    max:        0.0,    last:        0.0]\n",
      "       backward pass x          8 ~        0.1 [min:        0.1,    max:        0.1,    last:        0.1]\n",
      "             do eval x          2 ~        0.9 [min:        0.9,    max:        0.9,    last:        0.9]\n",
      "            do train x          2 ~        2.8 [min:        2.7,    max:        2.9,    last:        2.7]\n",
      "    all times are in seconds\n"
     ]
    }
   ],
   "source": [
    "config = get_config(args)\n",
    "do_train(None, None, config, device, is_distributed, master)"
   ]
  }
 ],
 "metadata": {
  "kernelspec": {
   "display_name": "learnable-triangulation-pytorch",
   "language": "python",
   "name": "learnable-triangulation-pytorch"
  },
  "language_info": {
   "codemirror_mode": {
    "name": "ipython",
    "version": 3
   },
   "file_extension": ".py",
   "mimetype": "text/x-python",
   "name": "python",
   "nbconvert_exporter": "python",
   "pygments_lexer": "ipython3",
   "version": "3.8.5"
  }
 },
 "nbformat": 4,
 "nbformat_minor": 5
}
