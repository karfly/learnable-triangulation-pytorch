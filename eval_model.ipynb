{
 "cells": [
  {
   "cell_type": "code",
   "execution_count": 2,
   "id": "formed-george",
   "metadata": {},
   "outputs": [],
   "source": [
    "%load_ext autoreload\n",
    "%reload_ext autoreload\n",
    "%autoreload 2\n",
    "%matplotlib inline"
   ]
  },
  {
   "cell_type": "code",
   "execution_count": 3,
   "id": "annual-fireplace",
   "metadata": {},
   "outputs": [],
   "source": [
    "import torch\n",
    "\n",
    "from mvn.utils.minimon import MiniMon\n",
    "from mvn.utils.misc import flush_cache\n",
    "\n",
    "from mvn.ipynb import get_args, get_config, build_labels\n",
    "from train import setup_dataloaders, setup_experiment, build_env, do_train"
   ]
  },
  {
   "cell_type": "code",
   "execution_count": 4,
   "id": "latter-advance",
   "metadata": {},
   "outputs": [
    {
     "name": "stdout",
     "output_type": "stream",
     "text": [
      "|===========================================================================|\n",
      "|                  PyTorch CUDA memory summary, device ID 0                 |\n",
      "|---------------------------------------------------------------------------|\n",
      "|            CUDA OOMs: 0            |        cudaMalloc retries: 0         |\n",
      "|===========================================================================|\n",
      "|        Metric         | Cur Usage  | Peak Usage | Tot Alloc  | Tot Freed  |\n",
      "|---------------------------------------------------------------------------|\n",
      "| Allocated memory      |       0 B  |       0 B  |       0 B  |       0 B  |\n",
      "|       from large pool |       0 B  |       0 B  |       0 B  |       0 B  |\n",
      "|       from small pool |       0 B  |       0 B  |       0 B  |       0 B  |\n",
      "|---------------------------------------------------------------------------|\n",
      "| Active memory         |       0 B  |       0 B  |       0 B  |       0 B  |\n",
      "|       from large pool |       0 B  |       0 B  |       0 B  |       0 B  |\n",
      "|       from small pool |       0 B  |       0 B  |       0 B  |       0 B  |\n",
      "|---------------------------------------------------------------------------|\n",
      "| GPU reserved memory   |       0 B  |       0 B  |       0 B  |       0 B  |\n",
      "|       from large pool |       0 B  |       0 B  |       0 B  |       0 B  |\n",
      "|       from small pool |       0 B  |       0 B  |       0 B  |       0 B  |\n",
      "|---------------------------------------------------------------------------|\n",
      "| Non-releasable memory |       0 B  |       0 B  |       0 B  |       0 B  |\n",
      "|       from large pool |       0 B  |       0 B  |       0 B  |       0 B  |\n",
      "|       from small pool |       0 B  |       0 B  |       0 B  |       0 B  |\n",
      "|---------------------------------------------------------------------------|\n",
      "| Allocations           |       0    |       0    |       0    |       0    |\n",
      "|       from large pool |       0    |       0    |       0    |       0    |\n",
      "|       from small pool |       0    |       0    |       0    |       0    |\n",
      "|---------------------------------------------------------------------------|\n",
      "| Active allocs         |       0    |       0    |       0    |       0    |\n",
      "|       from large pool |       0    |       0    |       0    |       0    |\n",
      "|       from small pool |       0    |       0    |       0    |       0    |\n",
      "|---------------------------------------------------------------------------|\n",
      "| GPU reserved segments |       0    |       0    |       0    |       0    |\n",
      "|       from large pool |       0    |       0    |       0    |       0    |\n",
      "|       from small pool |       0    |       0    |       0    |       0    |\n",
      "|---------------------------------------------------------------------------|\n",
      "| Non-releasable allocs |       0    |       0    |       0    |       0    |\n",
      "|       from large pool |       0    |       0    |       0    |       0    |\n",
      "|       from small pool |       0    |       0    |       0    |       0    |\n",
      "|===========================================================================|\n",
      "\n",
      "using dev cuda:0\n",
      "# available GPUs: 1\n"
     ]
    }
   ],
   "source": [
    "flush_cache()\n",
    "\n",
    "is_distributed = False\n",
    "master = True\n",
    "device = torch.device(0)\n",
    "print('using dev {}'.format(device))\n",
    "    \n",
    "args = get_args()\n",
    "\n",
    "# just to get a feeling of the dataset\n",
    "# labels, mask, indices = build_labels(config.dataset.train.labels_path, 10000)\n",
    "# labels, mask, indices = build_labels(config.dataset.train.labels_path, 10, allowed_subjects=['S9', 'S11'])"
   ]
  },
  {
   "cell_type": "code",
   "execution_count": 12,
   "id": "dedicated-speech",
   "metadata": {
    "scrolled": true
   },
   "outputs": [
    {
     "name": "stdout",
     "output_type": "stream",
     "text": [
      "cam2cam model:\n",
      "RotoTransNetMLP(\n",
      "  (roto_extractor): Sequential(\n",
      "    (0): View()\n",
      "    (1): MLPResNetBlock(\n",
      "      (model): Sequential(\n",
      "        (0): Linear(in_features=68, out_features=16, bias=False)\n",
      "        (1): LeakyReLU(negative_slope=0.01)\n",
      "        (2): ResNetBlock(\n",
      "          (layer1): Linear(in_features=16, out_features=16, bias=False)\n",
      "          (layer2): Linear(in_features=16, out_features=16, bias=False)\n",
      "          (activation): LeakyReLU(negative_slope=0.01)\n",
      "        )\n",
      "        (3): Linear(in_features=16, out_features=6, bias=False)\n",
      "      )\n",
      "    )\n",
      "  )\n",
      "  (trans_extractor): Sequential(\n",
      "    (0): View()\n",
      "    (1): MLPResNetBlock(\n",
      "      (model): Sequential(\n",
      "        (0): Linear(in_features=68, out_features=16, bias=False)\n",
      "        (1): LeakyReLU(negative_slope=0.01)\n",
      "        (2): ResNetBlock(\n",
      "          (layer1): Linear(in_features=16, out_features=16, bias=False)\n",
      "          (layer2): Linear(in_features=16, out_features=16, bias=False)\n",
      "          (activation): LeakyReLU(negative_slope=0.01)\n",
      "        )\n",
      "        (3): Linear(in_features=16, out_features=3, bias=False)\n",
      "      )\n",
      "    )\n",
      "  )\n",
      ")\n",
      "                roto_extractor has       1696 params (~ 50.7) %\n",
      "               trans_extractor has       1648 params (~ 49.3) %\n",
      "total params:                 3344\n",
      "  training dataset length: 12\n",
      "  validation dataset length: 5\n",
      "Experiment name: human36m_alg_AlgebraicTriangulationNet@06.05.2021-23:22:38\n",
      "#[do_train]: cam2cam loss weights: geo: 0.0, trans: 0.0, proj: 0.1\n",
      "#[do_train]: epoch    0 has started!\n",
      "#[cam2cam]: training batch iter 0 avg per sample loss: GEO ~ 2.375, TRANS ~ 677.822, POSE ~ 49388.418, TOTAL ~ 4938.842\n",
      "#[cam2cam]: training batch iter 1 avg per sample loss: GEO ~ 2.290, TRANS ~ 759.153, POSE ~ 41198.062, TOTAL ~ 4119.806\n",
      "#[epoch]: training MPJPE relative to pelvis: 22378.560 mm\n",
      "#[epoch]: eval MPJPE relative to pelvis: 482.932 mm\n",
      "#[do_train]: epoch time ~ 1.6\" => 2189 epochs / hour, 52547 epochs / day\n",
      "#[do_train]: epoch    0 complete!\n",
      "#[do_train]: epoch    1 has started!\n",
      "#[cam2cam]: training batch iter 0 avg per sample loss: GEO ~ 2.467, TRANS ~ 678.252, POSE ~ 47135.281, TOTAL ~ 4713.527\n",
      "#[cam2cam]: training batch iter 1 avg per sample loss: GEO ~ 2.600, TRANS ~ 681.330, POSE ~ 38388.410, TOTAL ~ 3838.841\n",
      "#[epoch]: training MPJPE relative to pelvis: 128455.083 mm\n",
      "#[epoch]: eval MPJPE relative to pelvis: 504.495 mm\n",
      "#[do_train]: epoch time ~ 1.7\" => 2166 epochs / hour, 51975 epochs / day\n",
      "#[do_train]: epoch    1 complete!\n",
      "    evaluate results x          4 ~        0.0 [min:        0.0,    max:        0.0,    last:        0.0]\n",
      "       alg: backbone x          6 ~        0.0 [min:        0.0,    max:        0.0,    last:        0.0]\n",
      "     cam2cam forward x          6 ~        0.0 [min:        0.0,    max:        0.0,    last:        0.0]\n",
      "     BB forward pass x          6 ~        0.0 [min:        0.0,    max:        0.0,    last:        0.0]\n",
      "           calc loss x          4 ~        0.0 [min:        0.0,    max:        0.0,    last:        0.0]\n",
      "         cam2cam DLT x          6 ~        0.0 [min:        0.0,    max:        0.0,    last:        0.0]\n",
      "       backward pass x          4 ~        0.1 [min:        0.1,    max:        0.1,    last:        0.1]\n",
      "             do eval x          2 ~        0.6 [min:        0.5,    max:        0.6,    last:        0.6]\n",
      "            do train x          2 ~        1.1 [min:        1.1,    max:        1.1,    last:        1.1]\n",
      "    all times are in seconds\n"
     ]
    }
   ],
   "source": [
    "config = get_config(args)\n",
    "do_train(None, None, config, device, is_distributed, master)"
   ]
  },
  {
   "cell_type": "code",
   "execution_count": null,
   "id": "killing-narrative",
   "metadata": {},
   "outputs": [],
   "source": [
    "from torchviz import make_dot"
   ]
  }
 ],
 "metadata": {
  "kernelspec": {
   "display_name": "learnable-triangulation-pytorch",
   "language": "python",
   "name": "learnable-triangulation-pytorch"
  },
  "language_info": {
   "codemirror_mode": {
    "name": "ipython",
    "version": 3
   },
   "file_extension": ".py",
   "mimetype": "text/x-python",
   "name": "python",
   "nbconvert_exporter": "python",
   "pygments_lexer": "ipython3",
   "version": "3.8.5"
  }
 },
 "nbformat": 4,
 "nbformat_minor": 5
}
