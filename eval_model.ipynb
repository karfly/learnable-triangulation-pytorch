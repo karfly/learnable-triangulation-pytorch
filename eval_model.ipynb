{
 "cells": [
  {
   "cell_type": "code",
   "execution_count": 1,
   "id": "formed-george",
   "metadata": {},
   "outputs": [],
   "source": [
    "%load_ext autoreload\n",
    "%reload_ext autoreload\n",
    "%autoreload 2\n",
    "%matplotlib inline"
   ]
  },
  {
   "cell_type": "code",
   "execution_count": 2,
   "id": "annual-fireplace",
   "metadata": {},
   "outputs": [],
   "source": [
    "import torch\n",
    "\n",
    "from mvn.utils.minimon import MiniMon\n",
    "from mvn.utils.misc import flush_cache\n",
    "\n",
    "from mvn.ipynb import get_args, get_config, build_labels\n",
    "from train import setup_dataloaders, setup_experiment, build_env, do_train"
   ]
  },
  {
   "cell_type": "code",
   "execution_count": 33,
   "id": "latter-advance",
   "metadata": {},
   "outputs": [
    {
     "name": "stdout",
     "output_type": "stream",
     "text": [
      "|===========================================================================|\n",
      "|                  PyTorch CUDA memory summary, device ID 0                 |\n",
      "|---------------------------------------------------------------------------|\n",
      "|            CUDA OOMs: 1            |        cudaMalloc retries: 3         |\n",
      "|===========================================================================|\n",
      "|        Metric         | Cur Usage  | Peak Usage | Tot Alloc  | Tot Freed  |\n",
      "|---------------------------------------------------------------------------|\n",
      "| Allocated memory      |     898 MB |    3905 MB |  237027 MB |  236128 MB |\n",
      "|       from large pool |     884 MB |    3795 MB |  230846 MB |  229961 MB |\n",
      "|       from small pool |      14 MB |     134 MB |    6181 MB |    6167 MB |\n",
      "|---------------------------------------------------------------------------|\n",
      "| Active memory         |     898 MB |    3905 MB |  237027 MB |  236128 MB |\n",
      "|       from large pool |     884 MB |    3795 MB |  230846 MB |  229961 MB |\n",
      "|       from small pool |      14 MB |     134 MB |    6181 MB |    6167 MB |\n",
      "|---------------------------------------------------------------------------|\n",
      "| GPU reserved memory   |     992 MB |    3980 MB |    6424 MB |    5432 MB |\n",
      "|       from large pool |     956 MB |    3858 MB |    6260 MB |    5304 MB |\n",
      "|       from small pool |      36 MB |     136 MB |     164 MB |     128 MB |\n",
      "|---------------------------------------------------------------------------|\n",
      "| Non-releasable memory |   95339 KB |  280309 KB |  104290 MB |  104197 MB |\n",
      "|       from large pool |   72832 KB |  274016 KB |   97068 MB |   96997 MB |\n",
      "|       from small pool |   22507 KB |   31944 KB |    7222 MB |    7200 MB |\n",
      "|---------------------------------------------------------------------------|\n",
      "| Allocations           |     331    |    2066    |  143508    |  143177    |\n",
      "|       from large pool |      33    |     161    |   13661    |   13628    |\n",
      "|       from small pool |     298    |    1910    |  129847    |  129549    |\n",
      "|---------------------------------------------------------------------------|\n",
      "| Active allocs         |     331    |    2066    |  143508    |  143177    |\n",
      "|       from large pool |      33    |     161    |   13661    |   13628    |\n",
      "|       from small pool |     298    |    1910    |  129847    |  129549    |\n",
      "|---------------------------------------------------------------------------|\n",
      "| GPU reserved segments |      35    |     114    |     157    |     122    |\n",
      "|       from large pool |      17    |      46    |      75    |      58    |\n",
      "|       from small pool |      18    |      68    |      82    |      64    |\n",
      "|---------------------------------------------------------------------------|\n",
      "| Non-releasable allocs |      33    |      55    |   91915    |   91882    |\n",
      "|       from large pool |       9    |      17    |    7019    |    7010    |\n",
      "|       from small pool |      24    |      43    |   84896    |   84872    |\n",
      "|===========================================================================|\n",
      "\n",
      "using dev cuda:0\n",
      "# available GPUs: 1\n"
     ]
    }
   ],
   "source": [
    "flush_cache()\n",
    "\n",
    "is_distributed = False\n",
    "master = True\n",
    "device = torch.device(0)\n",
    "print('using dev {}'.format(device))\n",
    "    \n",
    "args = get_args()\n",
    "\n",
    "# just to get a feeling of the dataset\n",
    "# labels, mask, indices = build_labels(config.dataset.train.labels_path, 10000)\n",
    "# labels, mask, indices = build_labels(config.dataset.train.labels_path, 10, allowed_subjects=['S9', 'S11'])"
   ]
  },
  {
   "cell_type": "code",
   "execution_count": 44,
   "id": "dedicated-speech",
   "metadata": {
    "scrolled": false
   },
   "outputs": [
    {
     "name": "stdout",
     "output_type": "stream",
     "text": [
      "                         conv1 has       9408 params (~  0.1) %\n",
      "                           bn1 has        128 params (~  0.0) %\n",
      "                          relu has          0 params (~  0.0) %\n",
      "                       maxpool has          0 params (~  0.0) %\n",
      "                        layer1 has     147968 params (~  1.0) %\n",
      "                        layer2 has     525568 params (~  3.4) %\n",
      "                        layer3 has    2099712 params (~ 13.7) %\n",
      "                        layer4 has    8393728 params (~ 54.9) %\n",
      "               alg_confidences has    3808529 params (~ 24.9) %\n",
      "                 deconv_layers has     295104 params (~  1.9) %\n",
      "                   final_layer has        561 params (~  0.0) %\n",
      "total params:             15280706\n",
      "freezing Conv2d\n",
      "freezing BatchNorm2d\n",
      "freezing ReLU\n",
      "freezing MaxPool2d\n",
      "freezing Sequential\n",
      "freezing Sequential\n",
      "freezing Sequential\n",
      "freezing Sequential\n",
      "                         conv1 has          0 params (~  0.0) %\n",
      "                           bn1 has          0 params (~  0.0) %\n",
      "                          relu has          0 params (~  0.0) %\n",
      "                       maxpool has          0 params (~  0.0) %\n",
      "                        layer1 has          0 params (~  0.0) %\n",
      "                        layer2 has          0 params (~  0.0) %\n",
      "                        layer3 has          0 params (~  0.0) %\n",
      "                        layer4 has          0 params (~  0.0) %\n",
      "               alg_confidences has    3808529 params (~ 92.8) %\n",
      "                 deconv_layers has     295104 params (~  7.2) %\n",
      "                   final_layer has        561 params (~  0.0) %\n",
      "total params:              4104194\n",
      "cam2cam model:\n",
      "                  roto_encoder has   29705872 params (~ 50.0) %\n",
      "                  roto_decoder has        374 params (~  0.0) %\n",
      "                 trans_encoder has   29705872 params (~ 50.0) %\n",
      "                 trans_decoder has        323 params (~  0.0) %\n",
      "total params:             59412441\n",
      "  training dataset length: 12\n",
      "  validation dataset length: 5\n",
      "Experiment name: human36m_alg_AlgebraicTriangulationNet@04.05.2021-13:50:24\n",
      "#[do_train]: cam2cam loss weights: geo: 0.0, trans: 0.0, proj: 0.1\n",
      "#[do_train]: epoch    0 has started!\n",
      "#[cam2cam]: training batch iter 0 loss ~ 64721.750\n",
      "#[cam2cam]: training batch iter 1 loss ~ 33511.188\n",
      "#[epoch]: training MPJPE relative to pelvis: 465.078 mm\n",
      "#[epoch]: eval MPJPE relative to pelvis: 471.462 mm\n",
      "#[do_train]: epoch time ~ 1.8\" => 2016 epochs / hour, 48376 epochs / day\n",
      "#[do_train]: epoch    0 complete!\n",
      "#[do_train]: epoch    1 has started!\n",
      "#[cam2cam]: training batch iter 0 loss ~ 62996.488\n",
      "#[cam2cam]: training batch iter 1 loss ~ 33715.797\n",
      "#[epoch]: training MPJPE relative to pelvis: 454.429 mm\n",
      "#[epoch]: eval MPJPE relative to pelvis: 471.383 mm\n",
      "#[do_train]: epoch time ~ 1.8\" => 1986 epochs / hour, 47670 epochs / day\n",
      "#[do_train]: epoch    1 complete!\n",
      "    evaluate results x          4 ~        0.0 [min:        0.0,    max:        0.0,    last:        0.0]\n",
      "       alg: backbone x          6 ~        0.0 [min:        0.0,    max:        0.0,    last:        0.0]\n",
      "     BB forward pass x          6 ~        0.0 [min:        0.0,    max:        0.0,    last:        0.0]\n",
      "           calc loss x          4 ~        0.0 [min:        0.0,    max:        0.0,    last:        0.0]\n",
      "     cam2cam forward x          6 ~        0.0 [min:        0.0,    max:        0.0,    last:        0.0]\n",
      "         cam2cam DLT x          6 ~        0.0 [min:        0.0,    max:        0.0,    last:        0.0]\n",
      "       backward pass x          4 ~        0.1 [min:        0.1,    max:        0.2,    last:        0.1]\n",
      "             do eval x          2 ~        0.6 [min:        0.6,    max:        0.6,    last:        0.6]\n",
      "            do train x          2 ~        1.2 [min:        1.2,    max:        1.2,    last:        1.2]\n",
      "    all times are in seconds\n"
     ]
    }
   ],
   "source": [
    "config = get_config(args)\n",
    "do_train(None, None, config, device, is_distributed, master)"
   ]
  }
 ],
 "metadata": {
  "kernelspec": {
   "display_name": "learnable-triangulation-pytorch",
   "language": "python",
   "name": "learnable-triangulation-pytorch"
  },
  "language_info": {
   "codemirror_mode": {
    "name": "ipython",
    "version": 3
   },
   "file_extension": ".py",
   "mimetype": "text/x-python",
   "name": "python",
   "nbconvert_exporter": "python",
   "pygments_lexer": "ipython3",
   "version": "3.8.5"
  }
 },
 "nbformat": 4,
 "nbformat_minor": 5
}
