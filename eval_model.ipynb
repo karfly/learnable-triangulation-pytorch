{
 "cells": [
  {
   "cell_type": "code",
   "execution_count": 1,
   "id": "formed-george",
   "metadata": {},
   "outputs": [],
   "source": [
    "%load_ext autoreload\n",
    "%reload_ext autoreload\n",
    "%autoreload 2\n",
    "%matplotlib inline"
   ]
  },
  {
   "cell_type": "code",
   "execution_count": 2,
   "id": "annual-fireplace",
   "metadata": {},
   "outputs": [],
   "source": [
    "import torch\n",
    "from torch import nn\n",
    "\n",
    "from mvn.utils.minimon import MiniMon\n",
    "from mvn.utils.misc import flush_cache\n",
    "\n",
    "from mvn.ipynb import get_args, get_config, build_labels\n",
    "from mvn.pipeline.setup import setup_dataloaders, setup_experiment, build_env\n",
    "from mvn.pipeline.training import do_train"
   ]
  },
  {
   "cell_type": "code",
   "execution_count": 3,
   "id": "latter-advance",
   "metadata": {},
   "outputs": [
    {
     "name": "stdout",
     "output_type": "stream",
     "text": [
      "|===========================================================================|\n",
      "|                  PyTorch CUDA memory summary, device ID 0                 |\n",
      "|---------------------------------------------------------------------------|\n",
      "|            CUDA OOMs: 0            |        cudaMalloc retries: 0         |\n",
      "|===========================================================================|\n",
      "|        Metric         | Cur Usage  | Peak Usage | Tot Alloc  | Tot Freed  |\n",
      "|---------------------------------------------------------------------------|\n",
      "| Allocated memory      |       0 B  |       0 B  |       0 B  |       0 B  |\n",
      "|       from large pool |       0 B  |       0 B  |       0 B  |       0 B  |\n",
      "|       from small pool |       0 B  |       0 B  |       0 B  |       0 B  |\n",
      "|---------------------------------------------------------------------------|\n",
      "| Active memory         |       0 B  |       0 B  |       0 B  |       0 B  |\n",
      "|       from large pool |       0 B  |       0 B  |       0 B  |       0 B  |\n",
      "|       from small pool |       0 B  |       0 B  |       0 B  |       0 B  |\n",
      "|---------------------------------------------------------------------------|\n",
      "| GPU reserved memory   |       0 B  |       0 B  |       0 B  |       0 B  |\n",
      "|       from large pool |       0 B  |       0 B  |       0 B  |       0 B  |\n",
      "|       from small pool |       0 B  |       0 B  |       0 B  |       0 B  |\n",
      "|---------------------------------------------------------------------------|\n",
      "| Non-releasable memory |       0 B  |       0 B  |       0 B  |       0 B  |\n",
      "|       from large pool |       0 B  |       0 B  |       0 B  |       0 B  |\n",
      "|       from small pool |       0 B  |       0 B  |       0 B  |       0 B  |\n",
      "|---------------------------------------------------------------------------|\n",
      "| Allocations           |       0    |       0    |       0    |       0    |\n",
      "|       from large pool |       0    |       0    |       0    |       0    |\n",
      "|       from small pool |       0    |       0    |       0    |       0    |\n",
      "|---------------------------------------------------------------------------|\n",
      "| Active allocs         |       0    |       0    |       0    |       0    |\n",
      "|       from large pool |       0    |       0    |       0    |       0    |\n",
      "|       from small pool |       0    |       0    |       0    |       0    |\n",
      "|---------------------------------------------------------------------------|\n",
      "| GPU reserved segments |       0    |       0    |       0    |       0    |\n",
      "|       from large pool |       0    |       0    |       0    |       0    |\n",
      "|       from small pool |       0    |       0    |       0    |       0    |\n",
      "|---------------------------------------------------------------------------|\n",
      "| Non-releasable allocs |       0    |       0    |       0    |       0    |\n",
      "|       from large pool |       0    |       0    |       0    |       0    |\n",
      "|       from small pool |       0    |       0    |       0    |       0    |\n",
      "|===========================================================================|\n",
      "\n",
      "using dev cuda:0\n",
      "# available GPUs: 1\n"
     ]
    }
   ],
   "source": [
    "flush_cache()\n",
    "\n",
    "is_distributed = False\n",
    "master = True\n",
    "device = torch.device(0)\n",
    "print('using dev {}'.format(device))\n",
    "    \n",
    "args = get_args()\n",
    "\n",
    "# just to get a feeling of the dataset\n",
    "# labels, mask, indices = build_labels(config.dataset.train.labels_path, 10000)\n",
    "# labels, mask, indices = build_labels(config.dataset.train.labels_path, 10, allowed_subjects=['S9', 'S11'])"
   ]
  },
  {
   "cell_type": "code",
   "execution_count": 15,
   "id": "dedicated-speech",
   "metadata": {
    "scrolled": false
   },
   "outputs": [
    {
     "name": "stdout",
     "output_type": "stream",
     "text": [
      "cam2cam model (kiss):\n",
      "                    R_backbone has       1750 params (~ 50.6) %\n",
      "                    t_backbone has       1711 params (~ 49.4) %\n",
      "total params:                 3461\n",
      "cam2cam estimation => adding 3461 params to grad ...\n",
      "  training dataset length: 12\n",
      "  validation dataset length: 5\n",
      "Experiment name: human36m_alg_AlgebraicTriangulationNet@14.05.2021-10:31:41\n",
      "#[do_train]: epoch    0 has started!\n",
      "#[cam2cam]: training batch iter 0 avg per sample loss: GEO ~ 6.088, TRANS ~ 204.762, POSE ~ 73253.945, ROTO ~ 10.068, 3D ~ 589.640, SELF ~ 46.894, TOTAL ~ 824.111\n",
      "#[cam2cam]: training batch iter 1 avg per sample loss: GEO ~ 6.140, TRANS ~ 204.659, POSE ~ 76752.250, ROTO ~ 9.660, 3D ~ 601.910, SELF ~ 47.650, TOTAL ~ 840.157\n",
      "#[cam2cam]: training batch iter 2 avg per sample loss: GEO ~ 6.409, TRANS ~ 206.790, POSE ~ 77341.203, ROTO ~ 10.219, 3D ~ 584.708, SELF ~ 47.486, TOTAL ~ 822.138\n",
      "#[cam2cam]: training batch iter 3 avg per sample loss: GEO ~ 6.004, TRANS ~ 206.518, POSE ~ 82916.688, ROTO ~ 9.433, 3D ~ 609.352, SELF ~ 48.043, TOTAL ~ 849.569\n",
      "#[epoch]: training MPJPE relative to pelvis: 437.218 mm\n",
      "#[epoch]: eval MPJPE relative to pelvis: 467.852 mm\n",
      "#[do_train]: epoch time ~ 2.9\" => 1224 epochs / hour, 29365 epochs / day\n",
      "#[do_train]: epoch    0 complete!\n",
      "#[do_train]: epoch    1 has started!\n",
      "#[cam2cam]: training batch iter 0 avg per sample loss: GEO ~ 6.131, TRANS ~ 205.274, POSE ~ 76129.328, ROTO ~ 10.135, 3D ~ 586.881, SELF ~ 46.610, TOTAL ~ 819.930\n",
      "#[cam2cam]: training batch iter 1 avg per sample loss: GEO ~ 6.487, TRANS ~ 205.435, POSE ~ 74638.406, ROTO ~ 9.844, 3D ~ 594.271, SELF ~ 47.582, TOTAL ~ 832.182\n",
      "#[cam2cam]: training batch iter 2 avg per sample loss: GEO ~ 6.023, TRANS ~ 206.353, POSE ~ 78781.234, ROTO ~ 9.703, 3D ~ 608.612, SELF ~ 47.428, TOTAL ~ 845.750\n",
      "#[cam2cam]: training batch iter 3 avg per sample loss: GEO ~ 5.988, TRANS ~ 205.665, POSE ~ 80895.742, ROTO ~ 9.775, 3D ~ 595.464, SELF ~ 48.117, TOTAL ~ 836.052\n",
      "#[epoch]: training MPJPE relative to pelvis: 437.179 mm\n",
      "#[epoch]: eval MPJPE relative to pelvis: 467.811 mm\n",
      "#[do_train]: epoch time ~ 3.0\" => 1192 epochs / hour, 28603 epochs / day\n",
      "#[do_train]: epoch    1 complete!\n",
      "          BB forward x         12 ~        0.0 [min:        0.0,    max:        0.0,    last:        0.0]\n",
      "    evaluate results x          4 ~        0.0 [min:        0.0,    max:        0.0,    last:        0.0]\n",
      "     cam2cam forward x         12 ~        0.0 [min:        0.0,    max:        0.0,    last:        0.0]\n",
      "         cam2cam DLT x         12 ~        0.0 [min:        0.0,    max:        0.0,    last:        0.0]\n",
      "           calc loss x          8 ~        0.0 [min:        0.0,    max:        0.0,    last:        0.0]\n",
      "       backward pass x          8 ~        0.0 [min:        0.0,    max:        0.0,    last:        0.0]\n",
      "             do eval x          2 ~        0.8 [min:        0.8,    max:        0.8,    last:        0.8]\n",
      "            do train x          2 ~        2.2 [min:        2.2,    max:        2.3,    last:        2.3]\n",
      "    all times are in seconds\n"
     ]
    }
   ],
   "source": [
    "config = get_config(args)\n",
    "do_train(None, None, config, device, is_distributed, master)"
   ]
  }
 ],
 "metadata": {
  "kernelspec": {
   "display_name": "learnable-triangulation-pytorch",
   "language": "python",
   "name": "learnable-triangulation-pytorch"
  },
  "language_info": {
   "codemirror_mode": {
    "name": "ipython",
    "version": 3
   },
   "file_extension": ".py",
   "mimetype": "text/x-python",
   "name": "python",
   "nbconvert_exporter": "python",
   "pygments_lexer": "ipython3",
   "version": "3.8.5"
  }
 },
 "nbformat": 4,
 "nbformat_minor": 5
}
