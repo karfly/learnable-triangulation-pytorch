{
 "cells": [
  {
   "cell_type": "code",
   "execution_count": 47,
   "id": "formed-george",
   "metadata": {},
   "outputs": [
    {
     "name": "stdout",
     "output_type": "stream",
     "text": [
      "The autoreload extension is already loaded. To reload it, use:\n",
      "  %reload_ext autoreload\n"
     ]
    }
   ],
   "source": [
    "%load_ext autoreload\n",
    "%reload_ext autoreload\n",
    "%autoreload 2\n",
    "%matplotlib inline"
   ]
  },
  {
   "cell_type": "code",
   "execution_count": 61,
   "id": "annual-fireplace",
   "metadata": {},
   "outputs": [
    {
     "name": "stdout",
     "output_type": "stream",
     "text": [
      "|===========================================================================|\n",
      "|                  PyTorch CUDA memory summary, device ID 0                 |\n",
      "|---------------------------------------------------------------------------|\n",
      "|            CUDA OOMs: 0            |        cudaMalloc retries: 0         |\n",
      "|===========================================================================|\n",
      "|        Metric         | Cur Usage  | Peak Usage | Tot Alloc  | Tot Freed  |\n",
      "|---------------------------------------------------------------------------|\n",
      "| Allocated memory      |  116709 KB |     944 MB |  166843 MB |  166729 MB |\n",
      "|       from large pool |  104448 KB |     871 MB |  161351 MB |  161249 MB |\n",
      "|       from small pool |   12261 KB |      81 MB |    5492 MB |    5480 MB |\n",
      "|---------------------------------------------------------------------------|\n",
      "| Active memory         |  116709 KB |     944 MB |  166843 MB |  166729 MB |\n",
      "|       from large pool |  104448 KB |     871 MB |  161351 MB |  161249 MB |\n",
      "|       from small pool |   12261 KB |      81 MB |    5492 MB |    5480 MB |\n",
      "|---------------------------------------------------------------------------|\n",
      "| GPU reserved memory   |  335872 KB |    1018 MB |    2122 MB |    1794 MB |\n",
      "|       from large pool |  313344 KB |     934 MB |    1958 MB |    1652 MB |\n",
      "|       from small pool |   22528 KB |      84 MB |     164 MB |     142 MB |\n",
      "|---------------------------------------------------------------------------|\n",
      "| Non-releasable memory |  219162 KB |  365820 KB |  168046 MB |  167832 MB |\n",
      "|       from large pool |  208896 KB |  352128 KB |  161696 MB |  161492 MB |\n",
      "|       from small pool |   10266 KB |   22712 KB |    6350 MB |    6340 MB |\n",
      "|---------------------------------------------------------------------------|\n",
      "| Allocations           |     244    |    1629    |  210779    |  210535    |\n",
      "|       from large pool |      18    |     139    |   12328    |   12310    |\n",
      "|       from small pool |     226    |    1518    |  198451    |  198225    |\n",
      "|---------------------------------------------------------------------------|\n",
      "| Active allocs         |     244    |    1629    |  210779    |  210535    |\n",
      "|       from large pool |      18    |     139    |   12328    |   12310    |\n",
      "|       from small pool |     226    |    1518    |  198451    |  198225    |\n",
      "|---------------------------------------------------------------------------|\n",
      "| GPU reserved segments |      14    |      56    |     118    |     104    |\n",
      "|       from large pool |       3    |      18    |      36    |      33    |\n",
      "|       from small pool |      11    |      42    |      82    |      71    |\n",
      "|---------------------------------------------------------------------------|\n",
      "| Non-releasable allocs |      26    |      74    |  113655    |  113629    |\n",
      "|       from large pool |       7    |      16    |    5897    |    5890    |\n",
      "|       from small pool |      19    |      61    |  107758    |  107739    |\n",
      "|===========================================================================|\n",
      "\n"
     ]
    }
   ],
   "source": [
    "import torch\n",
    "\n",
    "from mvn.utils.minimon import MiniMon\n",
    "from mvn.utils.misc import flush_cache\n",
    "\n",
    "from mvn.ipynb import get_args, get_config, build_labels\n",
    "from train import setup_dataloaders, setup_experiment, build_env, do_train\n",
    "\n",
    "\n",
    "flush_cache()"
   ]
  },
  {
   "cell_type": "code",
   "execution_count": 62,
   "id": "latter-advance",
   "metadata": {},
   "outputs": [
    {
     "name": "stdout",
     "output_type": "stream",
     "text": [
      "using dev cuda:0\n",
      "# available GPUs: 1\n"
     ]
    }
   ],
   "source": [
    "is_distributed = False\n",
    "master = True\n",
    "device = torch.device(0)\n",
    "print('using dev {}'.format(device))\n",
    "    \n",
    "args = get_args()\n",
    "\n",
    "# just to get a feeling of the dataset\n",
    "# labels, mask, indices = build_labels(config.dataset.train.labels_path, 10000)\n",
    "# labels, mask, indices = build_labels(config.dataset.train.labels_path, 10, allowed_subjects=['S9', 'S11'])"
   ]
  },
  {
   "cell_type": "code",
   "execution_count": 65,
   "id": "dedicated-speech",
   "metadata": {
    "scrolled": false
   },
   "outputs": [
    {
     "name": "stdout",
     "output_type": "stream",
     "text": [
      "                         conv1 has       9408 params (~  0.1) %\n",
      "                           bn1 has        128 params (~  0.0) %\n",
      "                          relu has          0 params (~  0.0) %\n",
      "                       maxpool has          0 params (~  0.0) %\n",
      "                        layer1 has     147968 params (~  1.0) %\n",
      "                        layer2 has     525568 params (~  3.4) %\n",
      "                        layer3 has    2099712 params (~ 13.7) %\n",
      "                        layer4 has    8393728 params (~ 54.9) %\n",
      "               alg_confidences has    3808529 params (~ 24.9) %\n",
      "                 deconv_layers has     295104 params (~  1.9) %\n",
      "                   final_layer has        561 params (~  0.0) %\n",
      "total params: 15280706\n",
      "freezing Conv2d\n",
      "freezing BatchNorm2d\n",
      "freezing ReLU\n",
      "freezing MaxPool2d\n",
      "freezing Sequential\n",
      "freezing Sequential\n",
      "freezing Sequential\n",
      "freezing Sequential\n",
      "                         conv1 has          0 params (~  0.0) %\n",
      "                           bn1 has          0 params (~  0.0) %\n",
      "                          relu has          0 params (~  0.0) %\n",
      "                       maxpool has          0 params (~  0.0) %\n",
      "                        layer1 has          0 params (~  0.0) %\n",
      "                        layer2 has          0 params (~  0.0) %\n",
      "                        layer3 has          0 params (~  0.0) %\n",
      "                        layer4 has          0 params (~  0.0) %\n",
      "               alg_confidences has    3808529 params (~ 92.8) %\n",
      "                 deconv_layers has     295104 params (~  7.2) %\n",
      "                   final_layer has        561 params (~  0.0) %\n",
      "total params: 4104194\n",
      "  training dataset length: 12\n",
      "  validation dataset length: 5\n",
      "Experiment name: human36m_alg_AlgebraicTriangulationNet@02.05.2021-11:59:02\n",
      "epoch    0 has started!\n",
      "  training batch iter 0 loss ~ 8461.510\n",
      "  training batch iter 1 loss ~ 4375.216\n",
      "  training MPJPE relative to pelvis: 679.517 mm\n",
      "  eval MPJPE relative to pelvis: 472.868 mm\n",
      "epoch    1 has started!\n",
      "  training batch iter 0 loss ~ 8632.980\n",
      "  training batch iter 1 loss ~ 4011.516\n",
      "  training MPJPE relative to pelvis: 675.049 mm\n",
      "  eval MPJPE relative to pelvis: 474.567 mm\n",
      "    evaluate results x          4 ~        0.0 [min:        0.0,    max:        0.0,    last:        0.0]\n",
      "       alg: backbone x          6 ~        0.0 [min:        0.0,    max:        0.0,    last:        0.0]\n",
      "           calc loss x          4 ~        0.0 [min:        0.0,    max:        0.0,    last:        0.0]\n",
      "lg: tri in cam space x          6 ~        0.0 [min:        0.0,    max:        0.1,    last:        0.0]\n",
      "     BB forward pass x          6 ~        0.1 [min:        0.0,    max:        0.1,    last:        0.0]\n",
      "       backward pass x          4 ~        0.1 [min:        0.0,    max:        0.1,    last:        0.0]\n",
      "             do eval x          2 ~        0.5 [min:        0.5,    max:        0.5,    last:        0.5]\n",
      "            do train x          2 ~        1.1 [min:        1.1,    max:        1.1,    last:        1.1]\n",
      "    all times are in seconds\n"
     ]
    }
   ],
   "source": [
    "config = get_config(args)\n",
    "do_train(None, None, config, device, is_distributed, master)"
   ]
  }
 ],
 "metadata": {
  "kernelspec": {
   "display_name": "learnable-triangulation-pytorch",
   "language": "python",
   "name": "learnable-triangulation-pytorch"
  },
  "language_info": {
   "codemirror_mode": {
    "name": "ipython",
    "version": 3
   },
   "file_extension": ".py",
   "mimetype": "text/x-python",
   "name": "python",
   "nbconvert_exporter": "python",
   "pygments_lexer": "ipython3",
   "version": "3.8.5"
  }
 },
 "nbformat": 4,
 "nbformat_minor": 5
}
