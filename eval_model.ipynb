{
 "cells": [
  {
   "cell_type": "code",
   "execution_count": 1,
   "id": "formed-george",
   "metadata": {},
   "outputs": [],
   "source": [
    "%load_ext autoreload\n",
    "%reload_ext autoreload\n",
    "%autoreload 2\n",
    "%matplotlib inline"
   ]
  },
  {
   "cell_type": "code",
   "execution_count": 2,
   "id": "annual-fireplace",
   "metadata": {},
   "outputs": [],
   "source": [
    "import torch\n",
    "from torch import nn\n",
    "\n",
    "from mvn.utils.minimon import MiniMon\n",
    "from mvn.utils.misc import flush_cache\n",
    "\n",
    "from mvn.ipynb import get_args, get_config, build_labels\n",
    "from mvn.pipeline.setup import setup_dataloaders, setup_experiment, build_env\n",
    "from mvn.pipeline.training import do_train"
   ]
  },
  {
   "cell_type": "code",
   "execution_count": 3,
   "id": "latter-advance",
   "metadata": {},
   "outputs": [
    {
     "name": "stdout",
     "output_type": "stream",
     "text": [
      "|===========================================================================|\n",
      "|                  PyTorch CUDA memory summary, device ID 0                 |\n",
      "|---------------------------------------------------------------------------|\n",
      "|            CUDA OOMs: 0            |        cudaMalloc retries: 0         |\n",
      "|===========================================================================|\n",
      "|        Metric         | Cur Usage  | Peak Usage | Tot Alloc  | Tot Freed  |\n",
      "|---------------------------------------------------------------------------|\n",
      "| Allocated memory      |       0 B  |       0 B  |       0 B  |       0 B  |\n",
      "|       from large pool |       0 B  |       0 B  |       0 B  |       0 B  |\n",
      "|       from small pool |       0 B  |       0 B  |       0 B  |       0 B  |\n",
      "|---------------------------------------------------------------------------|\n",
      "| Active memory         |       0 B  |       0 B  |       0 B  |       0 B  |\n",
      "|       from large pool |       0 B  |       0 B  |       0 B  |       0 B  |\n",
      "|       from small pool |       0 B  |       0 B  |       0 B  |       0 B  |\n",
      "|---------------------------------------------------------------------------|\n",
      "| GPU reserved memory   |       0 B  |       0 B  |       0 B  |       0 B  |\n",
      "|       from large pool |       0 B  |       0 B  |       0 B  |       0 B  |\n",
      "|       from small pool |       0 B  |       0 B  |       0 B  |       0 B  |\n",
      "|---------------------------------------------------------------------------|\n",
      "| Non-releasable memory |       0 B  |       0 B  |       0 B  |       0 B  |\n",
      "|       from large pool |       0 B  |       0 B  |       0 B  |       0 B  |\n",
      "|       from small pool |       0 B  |       0 B  |       0 B  |       0 B  |\n",
      "|---------------------------------------------------------------------------|\n",
      "| Allocations           |       0    |       0    |       0    |       0    |\n",
      "|       from large pool |       0    |       0    |       0    |       0    |\n",
      "|       from small pool |       0    |       0    |       0    |       0    |\n",
      "|---------------------------------------------------------------------------|\n",
      "| Active allocs         |       0    |       0    |       0    |       0    |\n",
      "|       from large pool |       0    |       0    |       0    |       0    |\n",
      "|       from small pool |       0    |       0    |       0    |       0    |\n",
      "|---------------------------------------------------------------------------|\n",
      "| GPU reserved segments |       0    |       0    |       0    |       0    |\n",
      "|       from large pool |       0    |       0    |       0    |       0    |\n",
      "|       from small pool |       0    |       0    |       0    |       0    |\n",
      "|---------------------------------------------------------------------------|\n",
      "| Non-releasable allocs |       0    |       0    |       0    |       0    |\n",
      "|       from large pool |       0    |       0    |       0    |       0    |\n",
      "|       from small pool |       0    |       0    |       0    |       0    |\n",
      "|===========================================================================|\n",
      "\n",
      "using dev cuda:0\n",
      "# available GPUs: 1\n"
     ]
    }
   ],
   "source": [
    "flush_cache()\n",
    "\n",
    "is_distributed = False\n",
    "master = True\n",
    "device = torch.device(0)\n",
    "print('using dev {}'.format(device))\n",
    "    \n",
    "args = get_args()\n",
    "\n",
    "# just to get a feeling of the dataset\n",
    "# labels, mask, indices = build_labels(config.dataset.train.labels_path, 10000)\n",
    "# labels, mask, indices = build_labels(config.dataset.train.labels_path, 10, allowed_subjects=['S9', 'S11'])"
   ]
  },
  {
   "cell_type": "code",
   "execution_count": null,
   "id": "dedicated-speech",
   "metadata": {
    "scrolled": false
   },
   "outputs": [
    {
     "name": "stdout",
     "output_type": "stream",
     "text": [
      "cam2cam model (shared):\n",
      "                      backbone has      10896 params (~  0.3) %\n",
      "                    R_backbone has    1775110 params (~ 49.9) %\n",
      "                    t_backbone has    1774339 params (~ 49.8) %\n",
      "total params:              3560345\n",
      "cam2cam estimation => adding 3560345 params to grad ...\n",
      "  training dataset length: 12\n",
      "  validation dataset length: 5\n",
      "Experiment name: human36m_alg_AlgebraicTriangulationNet@17.05.2021-15:04:36\n",
      "#[do_train]: epoch    0 has started!\n",
      "#[cam2cam]: training batch iter 0 losses: GEO ~ 9.117, TRANS ~ 201.404, POSE ~ 82228.844, ROTO ~ 7.730, 3D ~ 637.620, SELF R ~ 40.835, SELF t ~ 45.786, TOTAL ~ 1137.540\n",
      "#[cam2cam]: training batch iter 0 MPJPE: ~ 412.240 mm\n",
      "#[cam2cam]: training batch iter 1 losses: GEO ~ 7.184, TRANS ~ 201.310, POSE ~ 85811.969, ROTO ~ 7.464, 3D ~ 636.219, SELF R ~ 47.035, SELF t ~ 33.083, TOTAL ~ 1172.730\n",
      "#[cam2cam]: training batch iter 1 MPJPE: ~ 544.900 mm\n",
      "#[cam2cam]: training batch iter 2 losses: GEO ~ 7.502, TRANS ~ 199.868, POSE ~ 78890.359, ROTO ~ 6.653, 3D ~ 617.832, SELF R ~ 42.182, SELF t ~ 28.015, TOTAL ~ 1095.686\n",
      "#[cam2cam]: training batch iter 2 MPJPE: ~ 465.800 mm\n",
      "#[cam2cam]: training batch iter 3 losses: GEO ~ 7.625, TRANS ~ 198.892, POSE ~ 87703.211, ROTO ~ 6.145, 3D ~ 641.187, SELF R ~ 38.452, SELF t ~ 25.140, TOTAL ~ 1075.984\n",
      "#[cam2cam]: training batch iter 3 MPJPE: ~ 476.064 mm\n",
      "#[epoch]: training MPJPE relative to pelvis: 474.751 mm\n",
      "#[epoch]: eval MPJPE relative to pelvis: 490.878 mm\n",
      "#[do_train]: epoch time ~ 2.4\" => 1505 epochs / hour, 36125 epochs / day\n",
      "#[do_train]: epoch    0 complete!\n",
      "#[do_train]: epoch    1 has started!\n"
     ]
    }
   ],
   "source": [
    "config = get_config(args)\n",
    "do_train(None, None, config, device, is_distributed, master)"
   ]
  }
 ],
 "metadata": {
  "kernelspec": {
   "display_name": "learnable-triangulation-pytorch",
   "language": "python",
   "name": "learnable-triangulation-pytorch"
  },
  "language_info": {
   "codemirror_mode": {
    "name": "ipython",
    "version": 3
   },
   "file_extension": ".py",
   "mimetype": "text/x-python",
   "name": "python",
   "nbconvert_exporter": "python",
   "pygments_lexer": "ipython3",
   "version": "3.9.4"
  }
 },
 "nbformat": 4,
 "nbformat_minor": 5
}
