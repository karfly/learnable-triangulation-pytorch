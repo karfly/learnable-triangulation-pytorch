{
 "cells": [
  {
   "cell_type": "code",
   "execution_count": 1,
   "id": "formed-george",
   "metadata": {},
   "outputs": [],
   "source": [
    "%load_ext autoreload\n",
    "%reload_ext autoreload\n",
    "%autoreload 2\n",
    "%matplotlib inline"
   ]
  },
  {
   "cell_type": "code",
   "execution_count": 2,
   "id": "annual-fireplace",
   "metadata": {},
   "outputs": [],
   "source": [
    "import torch\n",
    "\n",
    "from mvn.utils.minimon import MiniMon\n",
    "from mvn.utils.misc import flush_cache\n",
    "\n",
    "from mvn.ipynb import get_args, get_config, build_labels\n",
    "from train import setup_dataloaders, setup_experiment, build_env, do_train"
   ]
  },
  {
   "cell_type": "code",
   "execution_count": 13,
   "id": "latter-advance",
   "metadata": {},
   "outputs": [
    {
     "name": "stdout",
     "output_type": "stream",
     "text": [
      "|===========================================================================|\n",
      "|                  PyTorch CUDA memory summary, device ID 0                 |\n",
      "|---------------------------------------------------------------------------|\n",
      "|            CUDA OOMs: 0            |        cudaMalloc retries: 0         |\n",
      "|===========================================================================|\n",
      "|        Metric         | Cur Usage  | Peak Usage | Tot Alloc  | Tot Freed  |\n",
      "|---------------------------------------------------------------------------|\n",
      "| Allocated memory      |   60674 KB |  364044 KB |  544274 KB |  483600 KB |\n",
      "|       from large pool |   55040 KB |  330240 KB |  493568 KB |  438528 KB |\n",
      "|       from small pool |    5634 KB |   33804 KB |   50706 KB |   45072 KB |\n",
      "|---------------------------------------------------------------------------|\n",
      "| Active memory         |   60674 KB |  364044 KB |  544274 KB |  483600 KB |\n",
      "|       from large pool |   55040 KB |  330240 KB |  493568 KB |  438528 KB |\n",
      "|       from small pool |    5634 KB |   33804 KB |   50706 KB |   45072 KB |\n",
      "|---------------------------------------------------------------------------|\n",
      "| GPU reserved memory   |  163840 KB |  403456 KB |  403456 KB |  239616 KB |\n",
      "|       from large pool |  143360 KB |  368640 KB |  368640 KB |  225280 KB |\n",
      "|       from small pool |   20480 KB |   34816 KB |   34816 KB |   14336 KB |\n",
      "|---------------------------------------------------------------------------|\n",
      "| Non-releasable memory |  103166 KB |  108974 KB |  696451 KB |  593285 KB |\n",
      "|       from large pool |   88320 KB |   99456 KB |  622592 KB |  534272 KB |\n",
      "|       from small pool |   14846 KB |   14846 KB |   73859 KB |   59013 KB |\n",
      "|---------------------------------------------------------------------------|\n",
      "| Allocations           |     180    |    1080    |    1620    |    1440    |\n",
      "|       from large pool |      10    |      60    |      90    |      80    |\n",
      "|       from small pool |     170    |    1020    |    1530    |    1360    |\n",
      "|---------------------------------------------------------------------------|\n",
      "| Active allocs         |     180    |    1080    |    1620    |    1440    |\n",
      "|       from large pool |      10    |      60    |      90    |      80    |\n",
      "|       from small pool |     170    |    1020    |    1530    |    1360    |\n",
      "|---------------------------------------------------------------------------|\n",
      "| GPU reserved segments |      17    |      35    |      35    |      18    |\n",
      "|       from large pool |       7    |      18    |      18    |      11    |\n",
      "|       from small pool |      10    |      17    |      17    |       7    |\n",
      "|---------------------------------------------------------------------------|\n",
      "| Non-releasable allocs |      25    |      27    |     123    |      98    |\n",
      "|       from large pool |      10    |      17    |      54    |      44    |\n",
      "|       from small pool |      15    |      17    |      69    |      54    |\n",
      "|===========================================================================|\n",
      "\n",
      "using dev cuda:0\n",
      "# available GPUs: 1\n"
     ]
    }
   ],
   "source": [
    "flush_cache()\n",
    "\n",
    "is_distributed = False\n",
    "master = True\n",
    "device = torch.device(0)\n",
    "print('using dev {}'.format(device))\n",
    "    \n",
    "args = get_args()\n",
    "\n",
    "# just to get a feeling of the dataset\n",
    "# labels, mask, indices = build_labels(config.dataset.train.labels_path, 10000)\n",
    "# labels, mask, indices = build_labels(config.dataset.train.labels_path, 10, allowed_subjects=['S9', 'S11'])"
   ]
  },
  {
   "cell_type": "code",
   "execution_count": 30,
   "id": "dedicated-speech",
   "metadata": {
    "scrolled": true
   },
   "outputs": [
    {
     "name": "stdout",
     "output_type": "stream",
     "text": [
      "cam2cam model:\n",
      "                roto_extractor has       1886 params (~ 50.7) %\n",
      "               trans_extractor has       1835 params (~ 49.3) %\n",
      "total params:                 3721\n",
      "  training dataset length: 12\n",
      "  validation dataset length: 5\n",
      "Experiment name: human36m_alg_AlgebraicTriangulationNet@10.05.2021-17:35:04\n",
      "#[do_train]: cam2cam loss weights: geo: 0.0, trans: 0.0, proj: 1.0\n",
      "#[do_train]: epoch    0 has started!\n",
      "#[cam2cam]: I'm using GT data\n",
      "#[cam2cam]: training batch iter 0 avg per sample loss: GEO ~ 2.249, TRANS ~ 68.299, POSE ~ 27513.777, ROTO ~ 2.876, TOTAL ~ 27513.777\n",
      "#[cam2cam]: I'm using GT data\n",
      "#[cam2cam]: training batch iter 1 avg per sample loss: GEO ~ 2.249, TRANS ~ 68.082, POSE ~ 26973.336, ROTO ~ 2.922, TOTAL ~ 26973.336\n",
      "#[epoch]: training MPJPE relative to pelvis: 424.101 mm\n",
      "#[cam2cam]: I'm using GT data\n",
      "#[epoch]: eval MPJPE relative to pelvis: 447.631 mm\n",
      "#[do_train]: epoch time ~ 13.7\" => 263 epochs / hour, 6314 epochs / day\n",
      "#[do_train]: epoch    0 complete!\n",
      "    evaluate results x          2 ~        0.0 [min:        0.0,    max:        0.0,    last:        0.0]\n",
      "     BB forward pass x          3 ~        0.0 [min:        0.0,    max:        0.0,    last:        0.0]\n",
      "     cam2cam forward x          3 ~        0.0 [min:        0.0,    max:        0.0,    last:        0.0]\n",
      "           calc loss x          2 ~        0.0 [min:        0.0,    max:        0.0,    last:        0.0]\n",
      "         cam2cam DLT x          3 ~        0.0 [min:        0.0,    max:        0.0,    last:        0.0]\n",
      "       backward pass x          2 ~        0.1 [min:        0.0,    max:        0.1,    last:        0.0]\n",
      "             do eval              ~        4.1\n",
      "            do train              ~        9.6\n",
      "    all times are in seconds\n"
     ]
    }
   ],
   "source": [
    "config = get_config(args)\n",
    "do_train(None, None, config, device, is_distributed, master)"
   ]
  }
 ],
 "metadata": {
  "kernelspec": {
   "display_name": "learnable-triangulation-pytorch",
   "language": "python",
   "name": "learnable-triangulation-pytorch"
  },
  "language_info": {
   "codemirror_mode": {
    "name": "ipython",
    "version": 3
   },
   "file_extension": ".py",
   "mimetype": "text/x-python",
   "name": "python",
   "nbconvert_exporter": "python",
   "pygments_lexer": "ipython3",
   "version": "3.8.5"
  }
 },
 "nbformat": 4,
 "nbformat_minor": 5
}
