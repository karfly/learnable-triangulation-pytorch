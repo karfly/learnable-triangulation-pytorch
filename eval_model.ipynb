{
 "cells": [
  {
   "cell_type": "code",
   "execution_count": 1,
   "id": "formed-george",
   "metadata": {},
   "outputs": [],
   "source": [
    "%load_ext autoreload\n",
    "%reload_ext autoreload\n",
    "%autoreload 2\n",
    "%matplotlib inline"
   ]
  },
  {
   "cell_type": "code",
   "execution_count": 2,
   "id": "annual-fireplace",
   "metadata": {},
   "outputs": [],
   "source": [
    "import torch\n",
    "from torch import nn\n",
    "\n",
    "from mvn.utils.minimon import MiniMon\n",
    "from mvn.utils.misc import flush_cache\n",
    "\n",
    "from mvn.ipynb import get_args, get_config, build_labels\n",
    "from mvn.pipeline.setup import setup_dataloaders, setup_experiment, build_env\n",
    "from mvn.pipeline.training import do_train"
   ]
  },
  {
   "cell_type": "code",
   "execution_count": 3,
   "id": "latter-advance",
   "metadata": {},
   "outputs": [
    {
     "name": "stdout",
     "output_type": "stream",
     "text": [
      "|===========================================================================|\n",
      "|                  PyTorch CUDA memory summary, device ID 0                 |\n",
      "|---------------------------------------------------------------------------|\n",
      "|            CUDA OOMs: 0            |        cudaMalloc retries: 0         |\n",
      "|===========================================================================|\n",
      "|        Metric         | Cur Usage  | Peak Usage | Tot Alloc  | Tot Freed  |\n",
      "|---------------------------------------------------------------------------|\n",
      "| Allocated memory      |       0 B  |       0 B  |       0 B  |       0 B  |\n",
      "|       from large pool |       0 B  |       0 B  |       0 B  |       0 B  |\n",
      "|       from small pool |       0 B  |       0 B  |       0 B  |       0 B  |\n",
      "|---------------------------------------------------------------------------|\n",
      "| Active memory         |       0 B  |       0 B  |       0 B  |       0 B  |\n",
      "|       from large pool |       0 B  |       0 B  |       0 B  |       0 B  |\n",
      "|       from small pool |       0 B  |       0 B  |       0 B  |       0 B  |\n",
      "|---------------------------------------------------------------------------|\n",
      "| GPU reserved memory   |       0 B  |       0 B  |       0 B  |       0 B  |\n",
      "|       from large pool |       0 B  |       0 B  |       0 B  |       0 B  |\n",
      "|       from small pool |       0 B  |       0 B  |       0 B  |       0 B  |\n",
      "|---------------------------------------------------------------------------|\n",
      "| Non-releasable memory |       0 B  |       0 B  |       0 B  |       0 B  |\n",
      "|       from large pool |       0 B  |       0 B  |       0 B  |       0 B  |\n",
      "|       from small pool |       0 B  |       0 B  |       0 B  |       0 B  |\n",
      "|---------------------------------------------------------------------------|\n",
      "| Allocations           |       0    |       0    |       0    |       0    |\n",
      "|       from large pool |       0    |       0    |       0    |       0    |\n",
      "|       from small pool |       0    |       0    |       0    |       0    |\n",
      "|---------------------------------------------------------------------------|\n",
      "| Active allocs         |       0    |       0    |       0    |       0    |\n",
      "|       from large pool |       0    |       0    |       0    |       0    |\n",
      "|       from small pool |       0    |       0    |       0    |       0    |\n",
      "|---------------------------------------------------------------------------|\n",
      "| GPU reserved segments |       0    |       0    |       0    |       0    |\n",
      "|       from large pool |       0    |       0    |       0    |       0    |\n",
      "|       from small pool |       0    |       0    |       0    |       0    |\n",
      "|---------------------------------------------------------------------------|\n",
      "| Non-releasable allocs |       0    |       0    |       0    |       0    |\n",
      "|       from large pool |       0    |       0    |       0    |       0    |\n",
      "|       from small pool |       0    |       0    |       0    |       0    |\n",
      "|===========================================================================|\n",
      "\n",
      "using dev cuda:0\n",
      "# available GPUs: 1\n"
     ]
    }
   ],
   "source": [
    "flush_cache()\n",
    "\n",
    "is_distributed = False\n",
    "master = True\n",
    "device = torch.device(0)\n",
    "print('using dev {}'.format(device))\n",
    "    \n",
    "args = get_args()\n",
    "\n",
    "# just to get a feeling of the dataset\n",
    "# labels, mask, indices = build_labels(config.dataset.train.labels_path, 10000)\n",
    "# labels, mask, indices = build_labels(config.dataset.train.labels_path, 10, allowed_subjects=['S9', 'S11'])"
   ]
  },
  {
   "cell_type": "code",
   "execution_count": 5,
   "id": "dedicated-speech",
   "metadata": {
    "scrolled": false
   },
   "outputs": [
    {
     "name": "stdout",
     "output_type": "stream",
     "text": [
      "cam2cam model (shared):\n",
      "                      backbone has      10896 params (~ 70.2) %\n",
      "                    R_backbone has       3078 params (~ 19.8) %\n",
      "                    t_backbone has       1539 params (~  9.9) %\n",
      "total params:                15513\n",
      "cam2cam estimation => adding 15513 params to grad ...\n",
      "  training dataset length: 12\n",
      "  validation dataset length: 5\n",
      "Experiment name: human36m_alg_AlgebraicTriangulationNet@17.05.2021-13:53:05\n",
      "#[do_train]: epoch    0 has started!\n",
      "#[cam2cam]: training batch iter 0 losses: GEO ~ 8.020, TRANS ~ 213.573, POSE ~ 76843.312, ROTO ~ 9.813, 3D ~ 594.415, SELF R ~ 47.436, SELF t ~ 22.403, TOTAL ~ 709.060\n",
      "#[cam2cam]: training batch iter 0 MPJPE: ~ 431.388 mm\n",
      "#[cam2cam]: training batch iter 1 losses: GEO ~ 8.113, TRANS ~ 212.625, POSE ~ 74073.781, ROTO ~ 9.364, 3D ~ 605.764, SELF R ~ 46.208, SELF t ~ 21.048, TOTAL ~ 715.117\n",
      "#[cam2cam]: training batch iter 1 MPJPE: ~ 396.077 mm\n",
      "#[cam2cam]: training batch iter 2 losses: GEO ~ 8.392, TRANS ~ 211.899, POSE ~ 75586.438, ROTO ~ 8.840, 3D ~ 611.206, SELF R ~ 43.810, SELF t ~ 20.082, TOTAL ~ 715.261\n",
      "#[cam2cam]: training batch iter 2 MPJPE: ~ 431.003 mm\n",
      "#[cam2cam]: training batch iter 3 losses: GEO ~ 8.526, TRANS ~ 215.365, POSE ~ 75510.219, ROTO ~ 7.961, 3D ~ 581.056, SELF R ~ 43.112, SELF t ~ 19.126, TOTAL ~ 681.546\n",
      "#[cam2cam]: training batch iter 3 MPJPE: ~ 424.818 mm\n",
      "#[epoch]: training MPJPE relative to pelvis: 420.821 mm\n",
      "#[epoch]: eval MPJPE relative to pelvis: 441.869 mm\n",
      "#[do_train]: epoch time ~ 2.3\" => 1600 epochs / hour, 38390 epochs / day\n",
      "#[do_train]: epoch    0 complete!\n",
      "#[do_train]: epoch    1 has started!\n",
      "#[cam2cam]: training batch iter 0 losses: GEO ~ 8.617, TRANS ~ 215.306, POSE ~ 74879.750, ROTO ~ 7.877, 3D ~ 577.504, SELF R ~ 43.170, SELF t ~ 18.175, TOTAL ~ 675.198\n",
      "#[cam2cam]: training batch iter 0 MPJPE: ~ 436.715 mm\n",
      "#[cam2cam]: training batch iter 1 losses: GEO ~ 9.037, TRANS ~ 214.749, POSE ~ 77043.328, ROTO ~ 7.395, 3D ~ 605.762, SELF R ~ 42.633, SELF t ~ 17.643, TOTAL ~ 701.325\n",
      "#[cam2cam]: training batch iter 1 MPJPE: ~ 440.003 mm\n",
      "#[cam2cam]: training batch iter 2 losses: GEO ~ 8.862, TRANS ~ 215.681, POSE ~ 75636.047, ROTO ~ 7.304, 3D ~ 581.241, SELF R ~ 42.195, SELF t ~ 16.632, TOTAL ~ 673.331\n",
      "#[cam2cam]: training batch iter 2 MPJPE: ~ 393.412 mm\n",
      "#[cam2cam]: training batch iter 3 losses: GEO ~ 9.102, TRANS ~ 214.130, POSE ~ 75366.812, ROTO ~ 6.894, 3D ~ 591.668, SELF R ~ 42.561, SELF t ~ 15.998, TOTAL ~ 682.223\n",
      "#[cam2cam]: training batch iter 3 MPJPE: ~ 386.063 mm\n",
      "#[epoch]: training MPJPE relative to pelvis: 414.048 mm\n",
      "#[epoch]: eval MPJPE relative to pelvis: 431.027 mm\n",
      "#[do_train]: epoch time ~ 2.3\" => 1578 epochs / hour, 37867 epochs / day\n",
      "#[do_train]: epoch    1 complete!\n",
      "          BB forward x         12 ~        0.0 [min:        0.0,    max:        0.0,    last:        0.0]\n",
      "    evaluate results x          4 ~        0.0 [min:        0.0,    max:        0.0,    last:        0.0]\n",
      "     cam2cam forward x         12 ~        0.0 [min:        0.0,    max:        0.0,    last:        0.0]\n",
      "         cam2cam DLT x         12 ~        0.0 [min:        0.0,    max:        0.0,    last:        0.0]\n",
      "       backward pass x          8 ~        0.0 [min:        0.0,    max:        0.1,    last:        0.0]\n",
      "             do eval x          2 ~        0.6 [min:        0.5,    max:        0.6,    last:        0.6]\n",
      "            do train x          2 ~        1.7 [min:        1.7,    max:        1.7,    last:        1.7]\n",
      "    all times are in seconds\n"
     ]
    }
   ],
   "source": [
    "config = get_config(args)\n",
    "do_train(None, None, config, device, is_distributed, master)"
   ]
  }
 ],
 "metadata": {
  "kernelspec": {
   "display_name": "learnable-triangulation-pytorch",
   "language": "python",
   "name": "learnable-triangulation-pytorch"
  },
  "language_info": {
   "codemirror_mode": {
    "name": "ipython",
    "version": 3
   },
   "file_extension": ".py",
   "mimetype": "text/x-python",
   "name": "python",
   "nbconvert_exporter": "python",
   "pygments_lexer": "ipython3",
   "version": "3.9.4"
  }
 },
 "nbformat": 4,
 "nbformat_minor": 5
}
