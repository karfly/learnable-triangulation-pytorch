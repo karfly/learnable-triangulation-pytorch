{
 "cells": [
  {
   "cell_type": "code",
   "execution_count": 1,
   "id": "formed-george",
   "metadata": {},
   "outputs": [],
   "source": [
    "%load_ext autoreload\n",
    "%reload_ext autoreload\n",
    "%autoreload 2\n",
    "%matplotlib inline"
   ]
  },
  {
   "cell_type": "code",
   "execution_count": 2,
   "id": "annual-fireplace",
   "metadata": {},
   "outputs": [],
   "source": [
    "import torch\n",
    "from torch import nn\n",
    "\n",
    "from mvn.utils.minimon import MiniMon\n",
    "from mvn.utils.misc import flush_cache\n",
    "\n",
    "from mvn.ipynb import get_args, get_config, build_labels\n",
    "from mvn.pipeline.setup import setup_dataloaders, setup_experiment, build_env\n",
    "from mvn.pipeline.training import do_train"
   ]
  },
  {
   "cell_type": "code",
   "execution_count": 3,
   "id": "latter-advance",
   "metadata": {},
   "outputs": [
    {
     "name": "stdout",
     "output_type": "stream",
     "text": [
      "|===========================================================================|\n",
      "|                  PyTorch CUDA memory summary, device ID 0                 |\n",
      "|---------------------------------------------------------------------------|\n",
      "|            CUDA OOMs: 0            |        cudaMalloc retries: 0         |\n",
      "|===========================================================================|\n",
      "|        Metric         | Cur Usage  | Peak Usage | Tot Alloc  | Tot Freed  |\n",
      "|---------------------------------------------------------------------------|\n",
      "| Allocated memory      |       0 B  |       0 B  |       0 B  |       0 B  |\n",
      "|       from large pool |       0 B  |       0 B  |       0 B  |       0 B  |\n",
      "|       from small pool |       0 B  |       0 B  |       0 B  |       0 B  |\n",
      "|---------------------------------------------------------------------------|\n",
      "| Active memory         |       0 B  |       0 B  |       0 B  |       0 B  |\n",
      "|       from large pool |       0 B  |       0 B  |       0 B  |       0 B  |\n",
      "|       from small pool |       0 B  |       0 B  |       0 B  |       0 B  |\n",
      "|---------------------------------------------------------------------------|\n",
      "| GPU reserved memory   |       0 B  |       0 B  |       0 B  |       0 B  |\n",
      "|       from large pool |       0 B  |       0 B  |       0 B  |       0 B  |\n",
      "|       from small pool |       0 B  |       0 B  |       0 B  |       0 B  |\n",
      "|---------------------------------------------------------------------------|\n",
      "| Non-releasable memory |       0 B  |       0 B  |       0 B  |       0 B  |\n",
      "|       from large pool |       0 B  |       0 B  |       0 B  |       0 B  |\n",
      "|       from small pool |       0 B  |       0 B  |       0 B  |       0 B  |\n",
      "|---------------------------------------------------------------------------|\n",
      "| Allocations           |       0    |       0    |       0    |       0    |\n",
      "|       from large pool |       0    |       0    |       0    |       0    |\n",
      "|       from small pool |       0    |       0    |       0    |       0    |\n",
      "|---------------------------------------------------------------------------|\n",
      "| Active allocs         |       0    |       0    |       0    |       0    |\n",
      "|       from large pool |       0    |       0    |       0    |       0    |\n",
      "|       from small pool |       0    |       0    |       0    |       0    |\n",
      "|---------------------------------------------------------------------------|\n",
      "| GPU reserved segments |       0    |       0    |       0    |       0    |\n",
      "|       from large pool |       0    |       0    |       0    |       0    |\n",
      "|       from small pool |       0    |       0    |       0    |       0    |\n",
      "|---------------------------------------------------------------------------|\n",
      "| Non-releasable allocs |       0    |       0    |       0    |       0    |\n",
      "|       from large pool |       0    |       0    |       0    |       0    |\n",
      "|       from small pool |       0    |       0    |       0    |       0    |\n",
      "|===========================================================================|\n",
      "\n",
      "using dev cuda:0\n",
      "# available GPUs: 1\n"
     ]
    }
   ],
   "source": [
    "flush_cache()\n",
    "\n",
    "is_distributed = False\n",
    "master = True\n",
    "device = torch.device(0)\n",
    "print('using dev {}'.format(device))\n",
    "    \n",
    "args = get_args()\n",
    "\n",
    "# just to get a feeling of the dataset\n",
    "# labels, mask, indices = build_labels(config.dataset.train.labels_path, 10000)\n",
    "# labels, mask, indices = build_labels(config.dataset.train.labels_path, 10, allowed_subjects=['S9', 'S11'])"
   ]
  },
  {
   "cell_type": "code",
   "execution_count": 48,
   "id": "dedicated-speech",
   "metadata": {
    "scrolled": false
   },
   "outputs": [
    {
     "name": "stdout",
     "output_type": "stream",
     "text": [
      "cam2cam model (res):\n",
      "                    R_backbone has       1750 params (~ 50.7) %\n",
      "                    t_backbone has       1699 params (~ 49.3) %\n",
      "total params:                 3449\n",
      "cam2cam estimation => adding 3449 params to grad ...\n",
      "  training dataset length: 12\n",
      "  validation dataset length: 5\n",
      "Experiment name: human36m_alg_AlgebraicTriangulationNet@14.05.2021-20:28:53\n",
      "#[do_train]: epoch    0 has started!\n",
      "#[cam2cam]: training batch iter 0 losses: GEO ~ 7.789, TRANS ~ 68.503, POSE ~ 78918.125, ROTO ~ 9.218, 3D ~ 575.688, SELF R ~ 46.337, SELF t ~ 21.017, TOTAL ~ 832.200\n",
      "#[cam2cam]: training batch iter 0 MPJPE: ~ 415.758 mm\n",
      "#[cam2cam]: training batch iter 1 losses: GEO ~ 7.745, TRANS ~ 69.646, POSE ~ 84339.383, ROTO ~ 9.505, 3D ~ 598.941, SELF R ~ 53.853, SELF t ~ 14.375, TOTAL ~ 796.539\n",
      "#[cam2cam]: training batch iter 1 MPJPE: ~ 472.054 mm\n",
      "#[cam2cam]: training batch iter 2 losses: GEO ~ 8.361, TRANS ~ 67.916, POSE ~ 80179.031, ROTO ~ 8.729, 3D ~ 584.311, SELF R ~ 45.773, SELF t ~ 13.011, TOTAL ~ 760.190\n",
      "#[cam2cam]: training batch iter 2 MPJPE: ~ 449.463 mm\n",
      "#[cam2cam]: training batch iter 3 losses: GEO ~ 7.301, TRANS ~ 71.279, POSE ~ 81716.211, ROTO ~ 8.099, 3D ~ 586.377, SELF R ~ 47.109, SELF t ~ 15.762, TOTAL ~ 791.108\n",
      "#[cam2cam]: training batch iter 3 MPJPE: ~ 1147.868 mm\n",
      "#[epoch]: training MPJPE relative to pelvis: 621.286 mm\n",
      "#[epoch]: eval MPJPE relative to pelvis: 532.560 mm\n",
      "#[do_train]: epoch time ~ 3.4\" => 1069 epochs / hour, 25663 epochs / day\n",
      "#[do_train]: epoch    0 complete!\n",
      "#[do_train]: epoch    1 has started!\n",
      "#[cam2cam]: training batch iter 0 losses: GEO ~ 7.051, TRANS ~ 70.273, POSE ~ 79188.234, ROTO ~ 8.553, 3D ~ 585.520, SELF R ~ 50.760, SELF t ~ 14.533, TOTAL ~ 781.611\n",
      "#[cam2cam]: training batch iter 0 MPJPE: ~ 429.301 mm\n",
      "#[cam2cam]: training batch iter 1 losses: GEO ~ 8.208, TRANS ~ 69.196, POSE ~ 82483.047, ROTO ~ 8.708, 3D ~ 590.800, SELF R ~ 46.447, SELF t ~ 18.907, TOTAL ~ 826.315\n",
      "#[cam2cam]: training batch iter 1 MPJPE: ~ 931.337 mm\n",
      "#[cam2cam]: training batch iter 2 losses: GEO ~ 7.869, TRANS ~ 67.616, POSE ~ 80945.133, ROTO ~ 9.386, 3D ~ 606.759, SELF R ~ 48.301, SELF t ~ 9.567, TOTAL ~ 750.727\n",
      "#[cam2cam]: training batch iter 2 MPJPE: ~ 417.094 mm\n",
      "#[cam2cam]: training batch iter 3 losses: GEO ~ 8.144, TRANS ~ 68.067, POSE ~ 77171.656, ROTO ~ 8.797, 3D ~ 576.826, SELF R ~ 44.059, SELF t ~ 14.391, TOTAL ~ 764.794\n",
      "#[cam2cam]: training batch iter 3 MPJPE: ~ 410.743 mm\n",
      "#[epoch]: training MPJPE relative to pelvis: 547.119 mm\n",
      "#[epoch]: eval MPJPE relative to pelvis: 508.444 mm\n",
      "#[do_train]: epoch time ~ 3.4\" => 1058 epochs / hour, 25382 epochs / day\n",
      "#[do_train]: epoch    1 complete!\n",
      "          BB forward x         12 ~        0.0 [min:        0.0,    max:        0.0,    last:        0.0]\n",
      "    evaluate results x          4 ~        0.0 [min:        0.0,    max:        0.0,    last:        0.0]\n",
      "     cam2cam forward x         12 ~        0.0 [min:        0.0,    max:        0.0,    last:        0.0]\n",
      "         cam2cam DLT x         12 ~        0.0 [min:        0.0,    max:        0.0,    last:        0.0]\n",
      "       backward pass x          8 ~        0.1 [min:        0.1,    max:        0.1,    last:        0.1]\n",
      "             do eval x          2 ~        0.8 [min:        0.8,    max:        0.8,    last:        0.8]\n",
      "            do train x          2 ~        2.6 [min:        2.5,    max:        2.6,    last:        2.6]\n",
      "    all times are in seconds\n"
     ]
    }
   ],
   "source": [
    "config = get_config(args)\n",
    "do_train(None, None, config, device, is_distributed, master)"
   ]
  }
 ],
 "metadata": {
  "kernelspec": {
   "display_name": "learnable-triangulation-pytorch",
   "language": "python",
   "name": "learnable-triangulation-pytorch"
  },
  "language_info": {
   "codemirror_mode": {
    "name": "ipython",
    "version": 3
   },
   "file_extension": ".py",
   "mimetype": "text/x-python",
   "name": "python",
   "nbconvert_exporter": "python",
   "pygments_lexer": "ipython3",
   "version": "3.8.5"
  }
 },
 "nbformat": 4,
 "nbformat_minor": 5
}
