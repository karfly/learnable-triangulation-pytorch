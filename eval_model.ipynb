{
 "cells": [
  {
   "cell_type": "code",
   "execution_count": 1,
   "id": "formed-george",
   "metadata": {},
   "outputs": [],
   "source": [
    "%load_ext autoreload\n",
    "%reload_ext autoreload\n",
    "%autoreload 2\n",
    "%matplotlib inline"
   ]
  },
  {
   "cell_type": "code",
   "execution_count": 2,
   "id": "annual-fireplace",
   "metadata": {},
   "outputs": [],
   "source": [
    "import torch\n",
    "\n",
    "from mvn.utils.minimon import MiniMon\n",
    "from mvn.utils.misc import flush_cache\n",
    "\n",
    "from mvn.ipynb import get_args, get_config, build_labels\n",
    "from train import setup_dataloaders, setup_experiment, build_env, do_train"
   ]
  },
  {
   "cell_type": "code",
   "execution_count": 33,
   "id": "latter-advance",
   "metadata": {},
   "outputs": [
    {
     "name": "stdout",
     "output_type": "stream",
     "text": [
      "|===========================================================================|\n",
      "|                  PyTorch CUDA memory summary, device ID 0                 |\n",
      "|---------------------------------------------------------------------------|\n",
      "|            CUDA OOMs: 1            |        cudaMalloc retries: 3         |\n",
      "|===========================================================================|\n",
      "|        Metric         | Cur Usage  | Peak Usage | Tot Alloc  | Tot Freed  |\n",
      "|---------------------------------------------------------------------------|\n",
      "| Allocated memory      |     898 MB |    3905 MB |  237027 MB |  236128 MB |\n",
      "|       from large pool |     884 MB |    3795 MB |  230846 MB |  229961 MB |\n",
      "|       from small pool |      14 MB |     134 MB |    6181 MB |    6167 MB |\n",
      "|---------------------------------------------------------------------------|\n",
      "| Active memory         |     898 MB |    3905 MB |  237027 MB |  236128 MB |\n",
      "|       from large pool |     884 MB |    3795 MB |  230846 MB |  229961 MB |\n",
      "|       from small pool |      14 MB |     134 MB |    6181 MB |    6167 MB |\n",
      "|---------------------------------------------------------------------------|\n",
      "| GPU reserved memory   |     992 MB |    3980 MB |    6424 MB |    5432 MB |\n",
      "|       from large pool |     956 MB |    3858 MB |    6260 MB |    5304 MB |\n",
      "|       from small pool |      36 MB |     136 MB |     164 MB |     128 MB |\n",
      "|---------------------------------------------------------------------------|\n",
      "| Non-releasable memory |   95339 KB |  280309 KB |  104290 MB |  104197 MB |\n",
      "|       from large pool |   72832 KB |  274016 KB |   97068 MB |   96997 MB |\n",
      "|       from small pool |   22507 KB |   31944 KB |    7222 MB |    7200 MB |\n",
      "|---------------------------------------------------------------------------|\n",
      "| Allocations           |     331    |    2066    |  143508    |  143177    |\n",
      "|       from large pool |      33    |     161    |   13661    |   13628    |\n",
      "|       from small pool |     298    |    1910    |  129847    |  129549    |\n",
      "|---------------------------------------------------------------------------|\n",
      "| Active allocs         |     331    |    2066    |  143508    |  143177    |\n",
      "|       from large pool |      33    |     161    |   13661    |   13628    |\n",
      "|       from small pool |     298    |    1910    |  129847    |  129549    |\n",
      "|---------------------------------------------------------------------------|\n",
      "| GPU reserved segments |      35    |     114    |     157    |     122    |\n",
      "|       from large pool |      17    |      46    |      75    |      58    |\n",
      "|       from small pool |      18    |      68    |      82    |      64    |\n",
      "|---------------------------------------------------------------------------|\n",
      "| Non-releasable allocs |      33    |      55    |   91915    |   91882    |\n",
      "|       from large pool |       9    |      17    |    7019    |    7010    |\n",
      "|       from small pool |      24    |      43    |   84896    |   84872    |\n",
      "|===========================================================================|\n",
      "\n",
      "using dev cuda:0\n",
      "# available GPUs: 1\n"
     ]
    }
   ],
   "source": [
    "flush_cache()\n",
    "\n",
    "is_distributed = False\n",
    "master = True\n",
    "device = torch.device(0)\n",
    "print('using dev {}'.format(device))\n",
    "    \n",
    "args = get_args()\n",
    "\n",
    "# just to get a feeling of the dataset\n",
    "# labels, mask, indices = build_labels(config.dataset.train.labels_path, 10000)\n",
    "# labels, mask, indices = build_labels(config.dataset.train.labels_path, 10, allowed_subjects=['S9', 'S11'])"
   ]
  },
  {
   "cell_type": "code",
   "execution_count": 36,
   "id": "dedicated-speech",
   "metadata": {
    "scrolled": false
   },
   "outputs": [
    {
     "name": "stdout",
     "output_type": "stream",
     "text": [
      "                         conv1 has       9408 params (~  0.1) %\n",
      "                           bn1 has        128 params (~  0.0) %\n",
      "                          relu has          0 params (~  0.0) %\n",
      "                       maxpool has          0 params (~  0.0) %\n",
      "                        layer1 has     147968 params (~  1.0) %\n",
      "                        layer2 has     525568 params (~  3.4) %\n",
      "                        layer3 has    2099712 params (~ 13.7) %\n",
      "                        layer4 has    8393728 params (~ 54.9) %\n",
      "               alg_confidences has    3808529 params (~ 24.9) %\n",
      "                 deconv_layers has     295104 params (~  1.9) %\n",
      "                   final_layer has        561 params (~  0.0) %\n",
      "total params:             15280706\n",
      "freezing Conv2d\n",
      "freezing BatchNorm2d\n",
      "freezing ReLU\n",
      "freezing MaxPool2d\n",
      "freezing Sequential\n",
      "freezing Sequential\n",
      "freezing Sequential\n",
      "freezing Sequential\n",
      "                         conv1 has          0 params (~  0.0) %\n",
      "                           bn1 has          0 params (~  0.0) %\n",
      "                          relu has          0 params (~  0.0) %\n",
      "                       maxpool has          0 params (~  0.0) %\n",
      "                        layer1 has          0 params (~  0.0) %\n",
      "                        layer2 has          0 params (~  0.0) %\n",
      "                        layer3 has          0 params (~  0.0) %\n",
      "                        layer4 has          0 params (~  0.0) %\n",
      "               alg_confidences has    3808529 params (~ 92.8) %\n",
      "                 deconv_layers has     295104 params (~  7.2) %\n",
      "                   final_layer has        561 params (~  0.0) %\n",
      "total params:              4104194\n",
      "cam2cam model:\n",
      "                  roto_encoder has   29705872 params (~ 50.0) %\n",
      "                  roto_decoder has        374 params (~  0.0) %\n",
      "                 trans_encoder has   29705872 params (~ 50.0) %\n",
      "                 trans_decoder has        323 params (~  0.0) %\n",
      "total params:             59412441\n",
      "  training dataset length: 12\n",
      "  validation dataset length: 5\n",
      "Experiment name: human36m_alg_AlgebraicTriangulationNet@04.05.2021-11:26:49\n",
      "#[do_train]: cam2cam loss weights: geo: 0.0, trans: 0.0, proj: 1.0\n",
      "epoch    0 has started!\n",
      "2\n"
     ]
    },
    {
     "ename": "ZeroDivisionError",
     "evalue": "division by zero",
     "output_type": "error",
     "traceback": [
      "\u001b[0;31m---------------------------------------------------------------------------\u001b[0m",
      "\u001b[0;31mZeroDivisionError\u001b[0m                         Traceback (most recent call last)",
      "\u001b[0;32m<ipython-input-36-391849a9c942>\u001b[0m in \u001b[0;36m<module>\u001b[0;34m\u001b[0m\n\u001b[1;32m      1\u001b[0m \u001b[0mconfig\u001b[0m \u001b[0;34m=\u001b[0m \u001b[0mget_config\u001b[0m\u001b[0;34m(\u001b[0m\u001b[0margs\u001b[0m\u001b[0;34m)\u001b[0m\u001b[0;34m\u001b[0m\u001b[0;34m\u001b[0m\u001b[0m\n\u001b[0;32m----> 2\u001b[0;31m \u001b[0mdo_train\u001b[0m\u001b[0;34m(\u001b[0m\u001b[0;32mNone\u001b[0m\u001b[0;34m,\u001b[0m \u001b[0;32mNone\u001b[0m\u001b[0;34m,\u001b[0m \u001b[0mconfig\u001b[0m\u001b[0;34m,\u001b[0m \u001b[0mdevice\u001b[0m\u001b[0;34m,\u001b[0m \u001b[0mis_distributed\u001b[0m\u001b[0;34m,\u001b[0m \u001b[0mmaster\u001b[0m\u001b[0;34m)\u001b[0m\u001b[0;34m\u001b[0m\u001b[0;34m\u001b[0m\u001b[0m\n\u001b[0m",
      "\u001b[0;32m~/scratch/learnable-triangulation-pytorch/train.py\u001b[0m in \u001b[0;36mdo_train\u001b[0;34m(config_path, logdir, config, device, is_distributed, master)\u001b[0m\n\u001b[1;32m    752\u001b[0m \u001b[0;34m\u001b[0m\u001b[0m\n\u001b[1;32m    753\u001b[0m         \u001b[0mminimon\u001b[0m\u001b[0;34m.\u001b[0m\u001b[0menter\u001b[0m\u001b[0;34m(\u001b[0m\u001b[0;34m)\u001b[0m\u001b[0;34m\u001b[0m\u001b[0;34m\u001b[0m\u001b[0m\n\u001b[0;32m--> 754\u001b[0;31m         one_epoch(\n\u001b[0m\u001b[1;32m    755\u001b[0m             \u001b[0mmodel\u001b[0m\u001b[0;34m,\u001b[0m \u001b[0mcriterion\u001b[0m\u001b[0;34m,\u001b[0m \u001b[0mopt\u001b[0m\u001b[0;34m,\u001b[0m \u001b[0mconfig\u001b[0m\u001b[0;34m,\u001b[0m \u001b[0mtrain_dataloader\u001b[0m\u001b[0;34m,\u001b[0m \u001b[0mdevice\u001b[0m\u001b[0;34m,\u001b[0m \u001b[0mepoch\u001b[0m\u001b[0;34m,\u001b[0m\u001b[0;34m\u001b[0m\u001b[0;34m\u001b[0m\u001b[0m\n\u001b[1;32m    756\u001b[0m             \u001b[0mminimon\u001b[0m\u001b[0;34m,\u001b[0m \u001b[0mis_train\u001b[0m\u001b[0;34m=\u001b[0m\u001b[0;32mTrue\u001b[0m\u001b[0;34m,\u001b[0m \u001b[0mmaster\u001b[0m\u001b[0;34m=\u001b[0m\u001b[0mmaster\u001b[0m\u001b[0;34m,\u001b[0m \u001b[0mexperiment_dir\u001b[0m\u001b[0;34m=\u001b[0m\u001b[0mexperiment_dir\u001b[0m\u001b[0;34m,\u001b[0m \u001b[0mcam2cam_model\u001b[0m\u001b[0;34m=\u001b[0m\u001b[0mcam2cam_model\u001b[0m\u001b[0;34m\u001b[0m\u001b[0;34m\u001b[0m\u001b[0m\n",
      "\u001b[0;32m~/scratch/learnable-triangulation-pytorch/train.py\u001b[0m in \u001b[0;36mone_epoch\u001b[0;34m(model, criterion, opt, config, dataloader, device, epoch, minimon, is_train, master, experiment_dir, cam2cam_model)\u001b[0m\n\u001b[1;32m    655\u001b[0m                     )\n\u001b[1;32m    656\u001b[0m             \u001b[0;32melse\u001b[0m\u001b[0;34m:\u001b[0m\u001b[0;34m\u001b[0m\u001b[0;34m\u001b[0m\u001b[0m\n\u001b[0;32m--> 657\u001b[0;31m                 results_pred = iter_batch(\n\u001b[0m\u001b[1;32m    658\u001b[0m                     \u001b[0mbatch\u001b[0m\u001b[0;34m,\u001b[0m \u001b[0miter_i\u001b[0m\u001b[0;34m,\u001b[0m \u001b[0mmodel\u001b[0m\u001b[0;34m,\u001b[0m \u001b[0mmodel_type\u001b[0m\u001b[0;34m,\u001b[0m \u001b[0mcriterion\u001b[0m\u001b[0;34m,\u001b[0m \u001b[0mopt\u001b[0m\u001b[0;34m,\u001b[0m \u001b[0mconfig\u001b[0m\u001b[0;34m,\u001b[0m \u001b[0mdataloader\u001b[0m\u001b[0;34m,\u001b[0m \u001b[0mdevice\u001b[0m\u001b[0;34m,\u001b[0m\u001b[0;34m\u001b[0m\u001b[0;34m\u001b[0m\u001b[0m\n\u001b[1;32m    659\u001b[0m                     \u001b[0mepoch\u001b[0m\u001b[0;34m,\u001b[0m \u001b[0mminimon\u001b[0m\u001b[0;34m,\u001b[0m \u001b[0mis_train\u001b[0m\u001b[0;34m,\u001b[0m \u001b[0mcam2cam_model\u001b[0m\u001b[0;34m=\u001b[0m\u001b[0mcam2cam_model\u001b[0m\u001b[0;34m\u001b[0m\u001b[0;34m\u001b[0m\u001b[0m\n",
      "\u001b[0;32m~/scratch/learnable-triangulation-pytorch/train.py\u001b[0m in \u001b[0;36miter_batch\u001b[0;34m(batch, iter_i, model, model_type, criterion, opt, config, dataloader, device, epoch, minimon, is_train, cam2cam_model)\u001b[0m\n\u001b[1;32m    600\u001b[0m \u001b[0;34m\u001b[0m\u001b[0m\n\u001b[1;32m    601\u001b[0m     \u001b[0;32mif\u001b[0m \u001b[0mconfig\u001b[0m\u001b[0;34m.\u001b[0m\u001b[0mmodel\u001b[0m\u001b[0;34m.\u001b[0m\u001b[0mcam2cam_estimation\u001b[0m\u001b[0;34m:\u001b[0m  \u001b[0;31m# predict cam2cam matrices\u001b[0m\u001b[0;34m\u001b[0m\u001b[0;34m\u001b[0m\u001b[0m\n\u001b[0;32m--> 602\u001b[0;31m         results = cam2cam_iter(\n\u001b[0m\u001b[1;32m    603\u001b[0m             \u001b[0mbatch\u001b[0m\u001b[0;34m,\u001b[0m \u001b[0miter_i\u001b[0m\u001b[0;34m,\u001b[0m \u001b[0mmodel\u001b[0m\u001b[0;34m,\u001b[0m \u001b[0mcam2cam_model\u001b[0m\u001b[0;34m,\u001b[0m \u001b[0mmodel_type\u001b[0m\u001b[0;34m,\u001b[0m \u001b[0mcriterion\u001b[0m\u001b[0;34m,\u001b[0m \u001b[0mopt\u001b[0m\u001b[0;34m,\u001b[0m \u001b[0mimages_batch\u001b[0m\u001b[0;34m,\u001b[0m \u001b[0mkeypoints_3d_gt\u001b[0m\u001b[0;34m,\u001b[0m \u001b[0mkeypoints_3d_binary_validity_gt\u001b[0m\u001b[0;34m,\u001b[0m \u001b[0mis_train\u001b[0m\u001b[0;34m,\u001b[0m \u001b[0mconfig\u001b[0m\u001b[0;34m,\u001b[0m \u001b[0mminimon\u001b[0m\u001b[0;34m\u001b[0m\u001b[0;34m\u001b[0m\u001b[0m\n\u001b[1;32m    604\u001b[0m         )\n",
      "\u001b[0;32m~/scratch/learnable-triangulation-pytorch/train.py\u001b[0m in \u001b[0;36mcam2cam_iter\u001b[0;34m(batch, iter_i, model, cam2cam_model, model_type, criterion, opt, images_batch, keypoints_3d_gt, keypoints_3d_binary_validity_gt, is_train, config, minimon)\u001b[0m\n\u001b[1;32m    561\u001b[0m                     \u001b[0;32mfor\u001b[0m \u001b[0mview_i\u001b[0m \u001b[0;32min\u001b[0m \u001b[0mrange\u001b[0m\u001b[0;34m(\u001b[0m\u001b[0mn_views\u001b[0m\u001b[0;34m)\u001b[0m\u001b[0;34m\u001b[0m\u001b[0;34m\u001b[0m\u001b[0m\n\u001b[1;32m    562\u001b[0m                 ])\n\u001b[0;32m--> 563\u001b[0;31m                 total_loss += config.cam2cam.loss.proj_weight * KeypointsMSESmoothLoss(threshold=1e3)(\n\u001b[0m\u001b[1;32m    564\u001b[0m                     \u001b[0mgts\u001b[0m\u001b[0;34m.\u001b[0m\u001b[0mcuda\u001b[0m\u001b[0;34m(\u001b[0m\u001b[0;34m)\u001b[0m\u001b[0;34m,\u001b[0m  \u001b[0;31m# ~ n_views, 17, 2\u001b[0m\u001b[0;34m\u001b[0m\u001b[0;34m\u001b[0m\u001b[0m\n\u001b[1;32m    565\u001b[0m                     \u001b[0mpreds\u001b[0m\u001b[0;34m.\u001b[0m\u001b[0mcuda\u001b[0m\u001b[0;34m(\u001b[0m\u001b[0;34m)\u001b[0m\u001b[0;34m,\u001b[0m  \u001b[0;31m# ~ n_views, 17, 2\u001b[0m\u001b[0;34m\u001b[0m\u001b[0;34m\u001b[0m\u001b[0m\n",
      "\u001b[0;32m~/scratch/learnable-triangulation-pytorch/.venv/lib/python3.8/site-packages/torch/nn/modules/module.py\u001b[0m in \u001b[0;36m_call_impl\u001b[0;34m(self, *input, **kwargs)\u001b[0m\n\u001b[1;32m    887\u001b[0m             \u001b[0mresult\u001b[0m \u001b[0;34m=\u001b[0m \u001b[0mself\u001b[0m\u001b[0;34m.\u001b[0m\u001b[0m_slow_forward\u001b[0m\u001b[0;34m(\u001b[0m\u001b[0;34m*\u001b[0m\u001b[0minput\u001b[0m\u001b[0;34m,\u001b[0m \u001b[0;34m**\u001b[0m\u001b[0mkwargs\u001b[0m\u001b[0;34m)\u001b[0m\u001b[0;34m\u001b[0m\u001b[0;34m\u001b[0m\u001b[0m\n\u001b[1;32m    888\u001b[0m         \u001b[0;32melse\u001b[0m\u001b[0;34m:\u001b[0m\u001b[0;34m\u001b[0m\u001b[0;34m\u001b[0m\u001b[0m\n\u001b[0;32m--> 889\u001b[0;31m             \u001b[0mresult\u001b[0m \u001b[0;34m=\u001b[0m \u001b[0mself\u001b[0m\u001b[0;34m.\u001b[0m\u001b[0mforward\u001b[0m\u001b[0;34m(\u001b[0m\u001b[0;34m*\u001b[0m\u001b[0minput\u001b[0m\u001b[0;34m,\u001b[0m \u001b[0;34m**\u001b[0m\u001b[0mkwargs\u001b[0m\u001b[0;34m)\u001b[0m\u001b[0;34m\u001b[0m\u001b[0;34m\u001b[0m\u001b[0m\n\u001b[0m\u001b[1;32m    890\u001b[0m         for hook in itertools.chain(\n\u001b[1;32m    891\u001b[0m                 \u001b[0m_global_forward_hooks\u001b[0m\u001b[0;34m.\u001b[0m\u001b[0mvalues\u001b[0m\u001b[0;34m(\u001b[0m\u001b[0;34m)\u001b[0m\u001b[0;34m,\u001b[0m\u001b[0;34m\u001b[0m\u001b[0;34m\u001b[0m\u001b[0m\n",
      "\u001b[0;32m~/scratch/learnable-triangulation-pytorch/mvn/models/loss.py\u001b[0m in \u001b[0;36mforward\u001b[0;34m(self, keypoints_pred, keypoints_gt, keypoints_binary_validity)\u001b[0m\n\u001b[1;32m     29\u001b[0m         \u001b[0mdimension\u001b[0m \u001b[0;34m=\u001b[0m \u001b[0mkeypoints_pred\u001b[0m\u001b[0;34m.\u001b[0m\u001b[0mshape\u001b[0m\u001b[0;34m[\u001b[0m\u001b[0;34m-\u001b[0m\u001b[0;36m1\u001b[0m\u001b[0;34m]\u001b[0m\u001b[0;34m\u001b[0m\u001b[0;34m\u001b[0m\u001b[0m\n\u001b[1;32m     30\u001b[0m         \u001b[0mprint\u001b[0m\u001b[0;34m(\u001b[0m\u001b[0mdimension\u001b[0m\u001b[0;34m)\u001b[0m\u001b[0;34m\u001b[0m\u001b[0;34m\u001b[0m\u001b[0m\n\u001b[0;32m---> 31\u001b[0;31m         \u001b[0;36m1\u001b[0m\u001b[0;34m/\u001b[0m\u001b[0;36m0\u001b[0m\u001b[0;34m\u001b[0m\u001b[0;34m\u001b[0m\u001b[0m\n\u001b[0m\u001b[1;32m     32\u001b[0m         \u001b[0mdiff\u001b[0m \u001b[0;34m=\u001b[0m \u001b[0;34m(\u001b[0m\u001b[0mkeypoints_gt\u001b[0m \u001b[0;34m-\u001b[0m \u001b[0mkeypoints_pred\u001b[0m\u001b[0;34m)\u001b[0m \u001b[0;34m**\u001b[0m \u001b[0;36m2\u001b[0m\u001b[0;34m\u001b[0m\u001b[0;34m\u001b[0m\u001b[0m\n\u001b[1;32m     33\u001b[0m \u001b[0;34m\u001b[0m\u001b[0m\n",
      "\u001b[0;31mZeroDivisionError\u001b[0m: division by zero"
     ]
    }
   ],
   "source": [
    "config = get_config(args)\n",
    "do_train(None, None, config, device, is_distributed, master)"
   ]
  }
 ],
 "metadata": {
  "kernelspec": {
   "display_name": "learnable-triangulation-pytorch",
   "language": "python",
   "name": "learnable-triangulation-pytorch"
  },
  "language_info": {
   "codemirror_mode": {
    "name": "ipython",
    "version": 3
   },
   "file_extension": ".py",
   "mimetype": "text/x-python",
   "name": "python",
   "nbconvert_exporter": "python",
   "pygments_lexer": "ipython3",
   "version": "3.8.5"
  }
 },
 "nbformat": 4,
 "nbformat_minor": 5
}
