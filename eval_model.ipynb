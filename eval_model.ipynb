{
 "cells": [
  {
   "cell_type": "code",
   "execution_count": 1,
   "id": "formed-george",
   "metadata": {},
   "outputs": [],
   "source": [
    "%load_ext autoreload\n",
    "%reload_ext autoreload\n",
    "%autoreload 2\n",
    "%matplotlib inline"
   ]
  },
  {
   "cell_type": "code",
   "execution_count": 2,
   "id": "annual-fireplace",
   "metadata": {},
   "outputs": [],
   "source": [
    "import torch\n",
    "from torch import nn\n",
    "\n",
    "from mvn.utils.minimon import MiniMon\n",
    "from mvn.utils.misc import flush_cache\n",
    "\n",
    "from mvn.ipynb import get_args, get_config, build_labels\n",
    "from mvn.pipeline.setup import setup_dataloaders, setup_experiment, build_env\n",
    "from mvn.pipeline.training import do_train"
   ]
  },
  {
   "cell_type": "code",
   "execution_count": 3,
   "id": "latter-advance",
   "metadata": {},
   "outputs": [
    {
     "name": "stdout",
     "output_type": "stream",
     "text": [
      "|===========================================================================|\n",
      "|                  PyTorch CUDA memory summary, device ID 0                 |\n",
      "|---------------------------------------------------------------------------|\n",
      "|            CUDA OOMs: 0            |        cudaMalloc retries: 0         |\n",
      "|===========================================================================|\n",
      "|        Metric         | Cur Usage  | Peak Usage | Tot Alloc  | Tot Freed  |\n",
      "|---------------------------------------------------------------------------|\n",
      "| Allocated memory      |       0 B  |       0 B  |       0 B  |       0 B  |\n",
      "|       from large pool |       0 B  |       0 B  |       0 B  |       0 B  |\n",
      "|       from small pool |       0 B  |       0 B  |       0 B  |       0 B  |\n",
      "|---------------------------------------------------------------------------|\n",
      "| Active memory         |       0 B  |       0 B  |       0 B  |       0 B  |\n",
      "|       from large pool |       0 B  |       0 B  |       0 B  |       0 B  |\n",
      "|       from small pool |       0 B  |       0 B  |       0 B  |       0 B  |\n",
      "|---------------------------------------------------------------------------|\n",
      "| GPU reserved memory   |       0 B  |       0 B  |       0 B  |       0 B  |\n",
      "|       from large pool |       0 B  |       0 B  |       0 B  |       0 B  |\n",
      "|       from small pool |       0 B  |       0 B  |       0 B  |       0 B  |\n",
      "|---------------------------------------------------------------------------|\n",
      "| Non-releasable memory |       0 B  |       0 B  |       0 B  |       0 B  |\n",
      "|       from large pool |       0 B  |       0 B  |       0 B  |       0 B  |\n",
      "|       from small pool |       0 B  |       0 B  |       0 B  |       0 B  |\n",
      "|---------------------------------------------------------------------------|\n",
      "| Allocations           |       0    |       0    |       0    |       0    |\n",
      "|       from large pool |       0    |       0    |       0    |       0    |\n",
      "|       from small pool |       0    |       0    |       0    |       0    |\n",
      "|---------------------------------------------------------------------------|\n",
      "| Active allocs         |       0    |       0    |       0    |       0    |\n",
      "|       from large pool |       0    |       0    |       0    |       0    |\n",
      "|       from small pool |       0    |       0    |       0    |       0    |\n",
      "|---------------------------------------------------------------------------|\n",
      "| GPU reserved segments |       0    |       0    |       0    |       0    |\n",
      "|       from large pool |       0    |       0    |       0    |       0    |\n",
      "|       from small pool |       0    |       0    |       0    |       0    |\n",
      "|---------------------------------------------------------------------------|\n",
      "| Non-releasable allocs |       0    |       0    |       0    |       0    |\n",
      "|       from large pool |       0    |       0    |       0    |       0    |\n",
      "|       from small pool |       0    |       0    |       0    |       0    |\n",
      "|===========================================================================|\n",
      "\n",
      "using dev cuda:0\n",
      "# available GPUs: 1\n"
     ]
    }
   ],
   "source": [
    "flush_cache()\n",
    "\n",
    "is_distributed = False\n",
    "master = True\n",
    "device = torch.device(0)\n",
    "print('using dev {}'.format(device))\n",
    "    \n",
    "args = get_args()\n",
    "\n",
    "# just to get a feeling of the dataset\n",
    "# labels, mask, indices = build_labels(config.dataset.train.labels_path, 10000)\n",
    "# labels, mask, indices = build_labels(config.dataset.train.labels_path, 10, allowed_subjects=['S9', 'S11'])"
   ]
  },
  {
   "cell_type": "code",
   "execution_count": 20,
   "id": "dedicated-speech",
   "metadata": {
    "scrolled": false
   },
   "outputs": [
    {
     "name": "stdout",
     "output_type": "stream",
     "text": [
      "cam2cam model (res):\n",
      "                    R_backbone has       1750 params (~ 50.7) %\n",
      "                    t_backbone has       1699 params (~ 49.3) %\n",
      "total params:                 3449\n",
      "cam2cam estimation => adding 3449 params to grad ...\n",
      "  training dataset length: 12\n",
      "  validation dataset length: 5\n",
      "Experiment name: human36m_alg_AlgebraicTriangulationNet@14.05.2021-19:03:41\n",
      "#[do_train]: epoch    0 has started!\n",
      "#[cam2cam]: training batch iter 0 losses: GEO ~ 8.022, TRANS ~ 173.802, POSE ~ 86432.547, ROTO ~ 7.987, 3D ~ 620.928, SELF R ~ 45.309, SELF t ~ 4.016, TOTAL ~ 663.660\n",
      "#[cam2cam]: training batch iter 0 MPJPE: ~ 439.944 mm\n",
      "#[cam2cam]: training batch iter 1 losses: GEO ~ 8.003, TRANS ~ 191.620, POSE ~ 84731.188, ROTO ~ 7.996, 3D ~ 608.380, SELF R ~ 46.179, SELF t ~ 5.787, TOTAL ~ 660.403\n",
      "#[cam2cam]: training batch iter 1 MPJPE: ~ 492.185 mm\n",
      "#[cam2cam]: training batch iter 2 losses: GEO ~ 7.407, TRANS ~ 177.939, POSE ~ 93025.984, ROTO ~ 7.532, 3D ~ 688.046, SELF R ~ 50.706, SELF t ~ 4.546, TOTAL ~ 736.128\n",
      "#[cam2cam]: training batch iter 2 MPJPE: ~ 7779.044 mm\n",
      "#[cam2cam]: training batch iter 3 losses: GEO ~ 6.634, TRANS ~ 179.727, POSE ~ 78518.367, ROTO ~ 7.887, 3D ~ 606.255, SELF R ~ 49.225, SELF t ~ 6.003, TOTAL ~ 660.884\n",
      "#[cam2cam]: training batch iter 3 MPJPE: ~ 607.642 mm\n",
      "#[epoch]: training MPJPE relative to pelvis: 2329.704 mm\n",
      "#[epoch]: eval MPJPE relative to pelvis: 661.278 mm\n",
      "#[do_train]: epoch time ~ 3.6\" => 987 epochs / hour, 23695 epochs / day\n",
      "#[do_train]: epoch    0 complete!\n",
      "#[do_train]: epoch    1 has started!\n",
      "#[cam2cam]: training batch iter 0 losses: GEO ~ 7.429, TRANS ~ 182.039, POSE ~ 84741.422, ROTO ~ 7.051, 3D ~ 646.473, SELF R ~ 47.341, SELF t ~ 5.513, TOTAL ~ 697.711\n",
      "#[cam2cam]: training batch iter 0 MPJPE: ~ 819.075 mm\n",
      "#[cam2cam]: training batch iter 1 losses: GEO ~ 6.661, TRANS ~ 183.148, POSE ~ 76625.898, ROTO ~ 7.622, 3D ~ 578.040, SELF R ~ 46.155, SELF t ~ 6.007, TOTAL ~ 631.151\n",
      "#[cam2cam]: training batch iter 1 MPJPE: ~ 436.800 mm\n",
      "#[cam2cam]: training batch iter 2 losses: GEO ~ 7.866, TRANS ~ 178.532, POSE ~ 94335.172, ROTO ~ 8.787, 3D ~ 623.957, SELF R ~ 50.008, SELF t ~ 4.247, TOTAL ~ 670.195\n",
      "#[cam2cam]: training batch iter 2 MPJPE: ~ 569.314 mm\n",
      "#[cam2cam]: training batch iter 3 losses: GEO ~ 8.099, TRANS ~ 177.590, POSE ~ 90210.953, ROTO ~ 8.055, 3D ~ 625.693, SELF R ~ 48.273, SELF t ~ 4.414, TOTAL ~ 671.898\n",
      "#[cam2cam]: training batch iter 3 MPJPE: ~ 721.636 mm\n",
      "#[epoch]: training MPJPE relative to pelvis: 636.706 mm\n",
      "#[epoch]: eval MPJPE relative to pelvis: 636.560 mm\n",
      "#[do_train]: epoch time ~ 3.6\" => 1007 epochs / hour, 24174 epochs / day\n",
      "#[do_train]: epoch    1 complete!\n",
      "          BB forward x         12 ~        0.0 [min:        0.0,    max:        0.0,    last:        0.0]\n",
      "    evaluate results x          4 ~        0.0 [min:        0.0,    max:        0.0,    last:        0.0]\n",
      "     cam2cam forward x         12 ~        0.0 [min:        0.0,    max:        0.0,    last:        0.0]\n",
      "         cam2cam DLT x         12 ~        0.0 [min:        0.0,    max:        0.0,    last:        0.0]\n",
      "       backward pass x          8 ~        0.1 [min:        0.1,    max:        0.1,    last:        0.1]\n",
      "             do eval x          2 ~        0.9 [min:        0.9,    max:        0.9,    last:        0.9]\n",
      "            do train x          2 ~        2.7 [min:        2.7,    max:        2.8,    last:        2.7]\n",
      "    all times are in seconds\n"
     ]
    }
   ],
   "source": [
    "config = get_config(args)\n",
    "do_train(None, None, config, device, is_distributed, master)"
   ]
  }
 ],
 "metadata": {
  "kernelspec": {
   "display_name": "learnable-triangulation-pytorch",
   "language": "python",
   "name": "learnable-triangulation-pytorch"
  },
  "language_info": {
   "codemirror_mode": {
    "name": "ipython",
    "version": 3
   },
   "file_extension": ".py",
   "mimetype": "text/x-python",
   "name": "python",
   "nbconvert_exporter": "python",
   "pygments_lexer": "ipython3",
   "version": "3.8.5"
  }
 },
 "nbformat": 4,
 "nbformat_minor": 5
}
