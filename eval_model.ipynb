{
 "cells": [
  {
   "cell_type": "code",
   "execution_count": 1,
   "id": "formed-george",
   "metadata": {},
   "outputs": [],
   "source": [
    "%load_ext autoreload\n",
    "%reload_ext autoreload\n",
    "%autoreload 2\n",
    "%matplotlib inline"
   ]
  },
  {
   "cell_type": "code",
   "execution_count": 2,
   "id": "annual-fireplace",
   "metadata": {},
   "outputs": [],
   "source": [
    "import torch\n",
    "from torch import nn\n",
    "\n",
    "from mvn.utils.minimon import MiniMon\n",
    "from mvn.utils.misc import flush_cache\n",
    "\n",
    "from mvn.ipynb import get_args, get_config, build_labels\n",
    "from mvn.pipeline.setup import setup_dataloaders, setup_experiment, build_env\n",
    "from mvn.pipeline.training import do_train"
   ]
  },
  {
   "cell_type": "code",
   "execution_count": 16,
   "id": "latter-advance",
   "metadata": {},
   "outputs": [
    {
     "name": "stdout",
     "output_type": "stream",
     "text": [
      "|===========================================================================|\n",
      "|                  PyTorch CUDA memory summary, device ID 0                 |\n",
      "|---------------------------------------------------------------------------|\n",
      "|            CUDA OOMs: 0            |        cudaMalloc retries: 0         |\n",
      "|===========================================================================|\n",
      "|        Metric         | Cur Usage  | Peak Usage | Tot Alloc  | Tot Freed  |\n",
      "|---------------------------------------------------------------------------|\n",
      "| Allocated memory      |   80537 KB |  426891 KB |    1141 MB |    1063 MB |\n",
      "|       from large pool |   74880 KB |  398592 KB |    1075 MB |    1002 MB |\n",
      "|       from small pool |    5657 KB |   28620 KB |      66 MB |      60 MB |\n",
      "|---------------------------------------------------------------------------|\n",
      "| Active memory         |   80537 KB |  426891 KB |    1141 MB |    1063 MB |\n",
      "|       from large pool |   74880 KB |  398592 KB |    1075 MB |    1002 MB |\n",
      "|       from small pool |    5657 KB |   28620 KB |      66 MB |      60 MB |\n",
      "|---------------------------------------------------------------------------|\n",
      "| GPU reserved memory   |  163840 KB |  468992 KB |  468992 KB |  305152 KB |\n",
      "|       from large pool |  145408 KB |  440320 KB |  440320 KB |  294912 KB |\n",
      "|       from small pool |   18432 KB |   28672 KB |   28672 KB |   10240 KB |\n",
      "|---------------------------------------------------------------------------|\n",
      "| Non-releasable memory |   83303 KB |   98967 KB |    1133 MB |    1052 MB |\n",
      "|       from large pool |   70528 KB |   88448 KB |    1051 MB |     982 MB |\n",
      "|       from small pool |   12775 KB |   12775 KB |      82 MB |      69 MB |\n",
      "|---------------------------------------------------------------------------|\n",
      "| Allocations           |     191    |    1555    |   39683    |   39492    |\n",
      "|       from large pool |      11    |      58    |     140    |     129    |\n",
      "|       from small pool |     180    |    1500    |   39543    |   39363    |\n",
      "|---------------------------------------------------------------------------|\n",
      "| Active allocs         |     191    |    1555    |   39683    |   39492    |\n",
      "|       from large pool |      11    |      58    |     140    |     129    |\n",
      "|       from small pool |     180    |    1500    |   39543    |   39363    |\n",
      "|---------------------------------------------------------------------------|\n",
      "| GPU reserved segments |      16    |      35    |      35    |      19    |\n",
      "|       from large pool |       7    |      21    |      21    |      14    |\n",
      "|       from small pool |       9    |      14    |      14    |       5    |\n",
      "|---------------------------------------------------------------------------|\n",
      "| Non-releasable allocs |      27    |      44    |   23796    |   23769    |\n",
      "|       from large pool |      10    |      18    |      97    |      87    |\n",
      "|       from small pool |      17    |      28    |   23699    |   23682    |\n",
      "|===========================================================================|\n",
      "\n",
      "using dev cuda:0\n",
      "# available GPUs: 1\n"
     ]
    }
   ],
   "source": [
    "flush_cache()\n",
    "\n",
    "is_distributed = False\n",
    "master = True\n",
    "device = torch.device(0)\n",
    "print('using dev {}'.format(device))\n",
    "    \n",
    "args = get_args()\n",
    "\n",
    "# just to get a feeling of the dataset\n",
    "# labels, mask, indices = build_labels(config.dataset.train.labels_path, 10000)\n",
    "# labels, mask, indices = build_labels(config.dataset.train.labels_path, 10, allowed_subjects=['S9', 'S11'])"
   ]
  },
  {
   "cell_type": "code",
   "execution_count": 15,
   "id": "dedicated-speech",
   "metadata": {
    "scrolled": false
   },
   "outputs": [
    {
     "name": "stdout",
     "output_type": "stream",
     "text": [
      "cam2cam model (res):\n",
      "                    R_backbone has       2294 params (~ 50.6) %\n",
      "                    t_backbone has       2243 params (~ 49.4) %\n",
      "total params:                 4537\n",
      "cam2cam estimation => adding 4537 params to grad ...\n",
      "  training dataset length: 12\n",
      "  validation dataset length: 5\n",
      "Experiment name: human36m_alg_AlgebraicTriangulationNet@17.05.2021-09:47:01\n",
      "#[do_train]: epoch    0 has started!\n",
      "#[cam2cam]: training batch iter 0 losses: GEO ~ 7.755, TRANS ~ 72.314, POSE ~ 87508.203, ROTO ~ 9.463, 3D ~ 635.974, SELF R ~ 59.311, SELF t ~ 9.683, TOTAL ~ 792.115\n",
      "#[cam2cam]: training batch iter 0 MPJPE: ~ 460.790 mm\n",
      "#[cam2cam]: training batch iter 1 losses: GEO ~ 8.094, TRANS ~ 66.708, POSE ~ 86765.859, ROTO ~ 9.874, 3D ~ 645.005, SELF R ~ 50.740, SELF t ~ 5.821, TOTAL ~ 753.959\n",
      "#[cam2cam]: training batch iter 1 MPJPE: ~ 516.297 mm\n",
      "#[cam2cam]: training batch iter 2 losses: GEO ~ 8.551, TRANS ~ 70.825, POSE ~ 75595.766, ROTO ~ 9.400, 3D ~ 594.420, SELF R ~ 45.956, SELF t ~ 4.170, TOTAL ~ 682.078\n",
      "#[cam2cam]: training batch iter 2 MPJPE: ~ 611.460 mm\n",
      "#[cam2cam]: training batch iter 3 losses: GEO ~ 8.326, TRANS ~ 72.192, POSE ~ 92317.445, ROTO ~ 9.747, 3D ~ 681.840, SELF R ~ 43.687, SELF t ~ 7.182, TOTAL ~ 797.349\n",
      "#[cam2cam]: training batch iter 3 MPJPE: ~ 30411.727 mm\n",
      "#[epoch]: training MPJPE relative to pelvis: 8000.069 mm\n",
      "#[epoch]: eval MPJPE relative to pelvis: 858.864 mm\n",
      "#[do_train]: epoch time ~ 2.5\" => 1457 epochs / hour, 34978 epochs / day\n",
      "#[do_train]: epoch    0 complete!\n",
      "#[do_train]: epoch    1 has started!\n",
      "#[cam2cam]: training batch iter 0 losses: GEO ~ 8.368, TRANS ~ 67.534, POSE ~ 78514.047, ROTO ~ 9.694, 3D ~ 619.386, SELF R ~ 46.962, SELF t ~ 5.410, TOTAL ~ 720.446\n",
      "#[cam2cam]: training batch iter 0 MPJPE: ~ 562.467 mm\n",
      "#[cam2cam]: training batch iter 1 losses: GEO ~ 8.204, TRANS ~ 70.740, POSE ~ 96743.188, ROTO ~ 10.119, 3D ~ 684.352, SELF R ~ 44.331, SELF t ~ 6.934, TOTAL ~ 798.019\n",
      "#[cam2cam]: training batch iter 1 MPJPE: ~ 18796.009 mm\n",
      "#[cam2cam]: training batch iter 2 losses: GEO ~ 8.264, TRANS ~ 70.937, POSE ~ 81677.688, ROTO ~ 9.450, 3D ~ 616.433, SELF R ~ 46.154, SELF t ~ 3.744, TOTAL ~ 700.031\n",
      "#[cam2cam]: training batch iter 2 MPJPE: ~ 513.811 mm\n",
      "#[cam2cam]: training batch iter 3 losses: GEO ~ 8.033, TRANS ~ 72.838, POSE ~ 83954.375, ROTO ~ 9.318, 3D ~ 623.954, SELF R ~ 57.582, SELF t ~ 8.535, TOTAL ~ 766.883\n",
      "#[cam2cam]: training batch iter 3 MPJPE: ~ 476.627 mm\n",
      "#[epoch]: training MPJPE relative to pelvis: 5087.229 mm\n",
      "#[epoch]: eval MPJPE relative to pelvis: 534.079 mm\n",
      "#[do_train]: epoch time ~ 2.4\" => 1482 epochs / hour, 35573 epochs / day\n",
      "#[do_train]: epoch    1 complete!\n",
      "          BB forward x         12 ~        0.0 [min:        0.0,    max:        0.0,    last:        0.0]\n",
      "    evaluate results x          4 ~        0.0 [min:        0.0,    max:        0.0,    last:        0.0]\n",
      "         cam2cam DLT x         12 ~        0.0 [min:        0.0,    max:        0.0,    last:        0.0]\n",
      "     cam2cam forward x         12 ~        0.0 [min:        0.0,    max:        0.0,    last:        0.0]\n",
      "       backward pass x          8 ~        0.1 [min:        0.0,    max:        0.1,    last:        0.0]\n",
      "             do eval x          2 ~        0.6 [min:        0.6,    max:        0.6,    last:        0.6]\n",
      "            do train x          2 ~        1.8 [min:        1.8,    max:        1.9,    last:        1.8]\n",
      "    all times are in seconds\n"
     ]
    }
   ],
   "source": [
    "config = get_config(args)\n",
    "do_train(None, None, config, device, is_distributed, master)"
   ]
  }
 ],
 "metadata": {
  "kernelspec": {
   "display_name": "learnable-triangulation-pytorch",
   "language": "python",
   "name": "learnable-triangulation-pytorch"
  },
  "language_info": {
   "codemirror_mode": {
    "name": "ipython",
    "version": 3
   },
   "file_extension": ".py",
   "mimetype": "text/x-python",
   "name": "python",
   "nbconvert_exporter": "python",
   "pygments_lexer": "ipython3",
   "version": "3.9.4"
  }
 },
 "nbformat": 4,
 "nbformat_minor": 5
}
