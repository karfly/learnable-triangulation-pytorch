{
 "cells": [
  {
   "cell_type": "code",
   "execution_count": 1,
   "id": "formed-george",
   "metadata": {},
   "outputs": [],
   "source": [
    "%load_ext autoreload\n",
    "%reload_ext autoreload\n",
    "%autoreload 2\n",
    "%matplotlib inline"
   ]
  },
  {
   "cell_type": "code",
   "execution_count": 2,
   "id": "annual-fireplace",
   "metadata": {},
   "outputs": [
    {
     "name": "stdout",
     "output_type": "stream",
     "text": [
      "|===========================================================================|\n",
      "|                  PyTorch CUDA memory summary, device ID 0                 |\n",
      "|---------------------------------------------------------------------------|\n",
      "|            CUDA OOMs: 0            |        cudaMalloc retries: 0         |\n",
      "|===========================================================================|\n",
      "|        Metric         | Cur Usage  | Peak Usage | Tot Alloc  | Tot Freed  |\n",
      "|---------------------------------------------------------------------------|\n",
      "| Allocated memory      |       0 B  |       0 B  |       0 B  |       0 B  |\n",
      "|       from large pool |       0 B  |       0 B  |       0 B  |       0 B  |\n",
      "|       from small pool |       0 B  |       0 B  |       0 B  |       0 B  |\n",
      "|---------------------------------------------------------------------------|\n",
      "| Active memory         |       0 B  |       0 B  |       0 B  |       0 B  |\n",
      "|       from large pool |       0 B  |       0 B  |       0 B  |       0 B  |\n",
      "|       from small pool |       0 B  |       0 B  |       0 B  |       0 B  |\n",
      "|---------------------------------------------------------------------------|\n",
      "| GPU reserved memory   |       0 B  |       0 B  |       0 B  |       0 B  |\n",
      "|       from large pool |       0 B  |       0 B  |       0 B  |       0 B  |\n",
      "|       from small pool |       0 B  |       0 B  |       0 B  |       0 B  |\n",
      "|---------------------------------------------------------------------------|\n",
      "| Non-releasable memory |       0 B  |       0 B  |       0 B  |       0 B  |\n",
      "|       from large pool |       0 B  |       0 B  |       0 B  |       0 B  |\n",
      "|       from small pool |       0 B  |       0 B  |       0 B  |       0 B  |\n",
      "|---------------------------------------------------------------------------|\n",
      "| Allocations           |       0    |       0    |       0    |       0    |\n",
      "|       from large pool |       0    |       0    |       0    |       0    |\n",
      "|       from small pool |       0    |       0    |       0    |       0    |\n",
      "|---------------------------------------------------------------------------|\n",
      "| Active allocs         |       0    |       0    |       0    |       0    |\n",
      "|       from large pool |       0    |       0    |       0    |       0    |\n",
      "|       from small pool |       0    |       0    |       0    |       0    |\n",
      "|---------------------------------------------------------------------------|\n",
      "| GPU reserved segments |       0    |       0    |       0    |       0    |\n",
      "|       from large pool |       0    |       0    |       0    |       0    |\n",
      "|       from small pool |       0    |       0    |       0    |       0    |\n",
      "|---------------------------------------------------------------------------|\n",
      "| Non-releasable allocs |       0    |       0    |       0    |       0    |\n",
      "|       from large pool |       0    |       0    |       0    |       0    |\n",
      "|       from small pool |       0    |       0    |       0    |       0    |\n",
      "|===========================================================================|\n",
      "\n"
     ]
    }
   ],
   "source": [
    "import torch\n",
    "\n",
    "from mvn.utils.minimon import MiniMon\n",
    "from mvn.utils.misc import flush_cache\n",
    "\n",
    "from mvn.ipynb import get_args, get_config, build_labels\n",
    "from train import setup_dataloaders, setup_experiment, build_env, do_train\n",
    "\n",
    "\n",
    "flush_cache()"
   ]
  },
  {
   "cell_type": "code",
   "execution_count": 3,
   "id": "latter-advance",
   "metadata": {},
   "outputs": [
    {
     "name": "stdout",
     "output_type": "stream",
     "text": [
      "using dev cuda:0\n",
      "# available GPUs: 1\n"
     ]
    }
   ],
   "source": [
    "is_distributed = False\n",
    "master = True\n",
    "device = torch.device(0)\n",
    "print('using dev {}'.format(device))\n",
    "    \n",
    "args = get_args()\n",
    "\n",
    "# just to get a feeling of the dataset\n",
    "# labels, mask, indices = build_labels(config.dataset.train.labels_path, 10000)\n",
    "# labels, mask, indices = build_labels(config.dataset.train.labels_path, 10, allowed_subjects=['S9', 'S11'])"
   ]
  },
  {
   "cell_type": "code",
   "execution_count": 25,
   "id": "dedicated-speech",
   "metadata": {
    "scrolled": false
   },
   "outputs": [
    {
     "name": "stdout",
     "output_type": "stream",
     "text": [
      "                         conv1 has 9408 params (~ 0.1) %\n",
      "                           bn1 has 128 params (~ 0.0) %\n",
      "                          relu has 0 params (~ 0.0) %\n",
      "                       maxpool has 0 params (~ 0.0) %\n",
      "                        layer1 has 147968 params (~ 1.0) %\n",
      "                        layer2 has 525568 params (~ 3.4) %\n",
      "                        layer3 has 2099712 params (~ 13.7) %\n",
      "                        layer4 has 8393728 params (~ 54.9) %\n",
      "               alg_confidences has 3808529 params (~ 24.9) %\n",
      "                 deconv_layers has 295104 params (~ 1.9) %\n",
      "                   final_layer has 561 params (~ 0.0) %\n",
      "total params 15280706\n",
      "                         conv1 has 0 params (~ 0.0) %\n",
      "                           bn1 has 0 params (~ 0.0) %\n",
      "                          relu has 0 params (~ 0.0) %\n",
      "                       maxpool has 0 params (~ 0.0) %\n",
      "                        layer1 has 0 params (~ 0.0) %\n",
      "                        layer2 has 0 params (~ 0.0) %\n",
      "                        layer3 has 0 params (~ 0.0) %\n",
      "                        layer4 has 0 params (~ 0.0) %\n",
      "               alg_confidences has 3808529 params (~ 92.8) %\n",
      "                 deconv_layers has 295104 params (~ 7.2) %\n",
      "                   final_layer has 561 params (~ 0.0) %\n",
      "total params 4104194\n",
      "  training dataset length: 3\n",
      "  validation dataset length: 3\n",
      "Experiment name: human36m_alg_AlgebraicTriangulationNet@29.04.2021-18:51:12\n",
      "epoch    0 has started!\n",
      "  training batch iter 0 loss ~ 3573.537\n",
      "  training MPJPE relative to pelvis: 982.105 mm\n",
      "  eval MPJPE relative to pelvis: 495.575 mm\n",
      "epoch    1 has started!\n",
      "  training batch iter 0 loss ~ 3533.202\n",
      "  training MPJPE relative to pelvis: 969.098 mm\n",
      "  eval MPJPE relative to pelvis: 495.996 mm\n",
      "    evaluate results x          4 ~        0.0 [min:        0.0,    max:        0.0,    last:        0.0]\n",
      "   alg: tri in world x          4 ~        0.0 [min:        0.0,    max:        0.0,    last:        0.0]\n",
      "       alg: backbone x          4 ~        0.0 [min:        0.0,    max:        0.0,    last:        0.0]\n",
      "           calc loss x          2 ~        0.0 [min:        0.0,    max:        0.0,    last:        0.0]\n",
      "        forward pass x          4 ~        0.0 [min:        0.0,    max:        0.0,    last:        0.0]\n",
      "       backward pass x          2 ~        0.0 [min:        0.0,    max:        0.0,    last:        0.0]\n",
      "             do eval x          2 ~        0.4 [min:        0.3,    max:        0.4,    last:        0.4]\n",
      "            do train x          2 ~        0.4 [min:        0.4,    max:        0.4,    last:        0.4]\n",
      "    all times are in seconds\n"
     ]
    }
   ],
   "source": [
    "config = get_config(args)\n",
    "do_train(None, None, config, device, is_distributed, master)"
   ]
  }
 ],
 "metadata": {
  "kernelspec": {
   "display_name": "learnable-triangulation-pytorch",
   "language": "python",
   "name": "learnable-triangulation-pytorch"
  },
  "language_info": {
   "codemirror_mode": {
    "name": "ipython",
    "version": 3
   },
   "file_extension": ".py",
   "mimetype": "text/x-python",
   "name": "python",
   "nbconvert_exporter": "python",
   "pygments_lexer": "ipython3",
   "version": "3.8.5"
  }
 },
 "nbformat": 4,
 "nbformat_minor": 5
}
