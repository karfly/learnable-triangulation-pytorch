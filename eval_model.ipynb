{
 "cells": [
  {
   "cell_type": "code",
   "execution_count": 1,
   "id": "formed-george",
   "metadata": {},
   "outputs": [],
   "source": [
    "%load_ext autoreload\n",
    "%reload_ext autoreload\n",
    "%autoreload 2\n",
    "%matplotlib inline"
   ]
  },
  {
   "cell_type": "code",
   "execution_count": 2,
   "id": "annual-fireplace",
   "metadata": {},
   "outputs": [
    {
     "name": "stdout",
     "output_type": "stream",
     "text": [
      "|===========================================================================|\n",
      "|                  PyTorch CUDA memory summary, device ID 0                 |\n",
      "|---------------------------------------------------------------------------|\n",
      "|            CUDA OOMs: 0            |        cudaMalloc retries: 0         |\n",
      "|===========================================================================|\n",
      "|        Metric         | Cur Usage  | Peak Usage | Tot Alloc  | Tot Freed  |\n",
      "|---------------------------------------------------------------------------|\n",
      "| Allocated memory      |       0 B  |       0 B  |       0 B  |       0 B  |\n",
      "|       from large pool |       0 B  |       0 B  |       0 B  |       0 B  |\n",
      "|       from small pool |       0 B  |       0 B  |       0 B  |       0 B  |\n",
      "|---------------------------------------------------------------------------|\n",
      "| Active memory         |       0 B  |       0 B  |       0 B  |       0 B  |\n",
      "|       from large pool |       0 B  |       0 B  |       0 B  |       0 B  |\n",
      "|       from small pool |       0 B  |       0 B  |       0 B  |       0 B  |\n",
      "|---------------------------------------------------------------------------|\n",
      "| GPU reserved memory   |       0 B  |       0 B  |       0 B  |       0 B  |\n",
      "|       from large pool |       0 B  |       0 B  |       0 B  |       0 B  |\n",
      "|       from small pool |       0 B  |       0 B  |       0 B  |       0 B  |\n",
      "|---------------------------------------------------------------------------|\n",
      "| Non-releasable memory |       0 B  |       0 B  |       0 B  |       0 B  |\n",
      "|       from large pool |       0 B  |       0 B  |       0 B  |       0 B  |\n",
      "|       from small pool |       0 B  |       0 B  |       0 B  |       0 B  |\n",
      "|---------------------------------------------------------------------------|\n",
      "| Allocations           |       0    |       0    |       0    |       0    |\n",
      "|       from large pool |       0    |       0    |       0    |       0    |\n",
      "|       from small pool |       0    |       0    |       0    |       0    |\n",
      "|---------------------------------------------------------------------------|\n",
      "| Active allocs         |       0    |       0    |       0    |       0    |\n",
      "|       from large pool |       0    |       0    |       0    |       0    |\n",
      "|       from small pool |       0    |       0    |       0    |       0    |\n",
      "|---------------------------------------------------------------------------|\n",
      "| GPU reserved segments |       0    |       0    |       0    |       0    |\n",
      "|       from large pool |       0    |       0    |       0    |       0    |\n",
      "|       from small pool |       0    |       0    |       0    |       0    |\n",
      "|---------------------------------------------------------------------------|\n",
      "| Non-releasable allocs |       0    |       0    |       0    |       0    |\n",
      "|       from large pool |       0    |       0    |       0    |       0    |\n",
      "|       from small pool |       0    |       0    |       0    |       0    |\n",
      "|===========================================================================|\n",
      "\n"
     ]
    }
   ],
   "source": [
    "import torch\n",
    "\n",
    "from mvn.utils.minimon import MiniMon\n",
    "from mvn.utils.misc import flush_cache\n",
    "\n",
    "from mvn.ipynb import get_args, get_config, build_labels\n",
    "from train import setup_dataloaders, setup_experiment, build_env, do_train\n",
    "\n",
    "\n",
    "flush_cache()"
   ]
  },
  {
   "cell_type": "code",
   "execution_count": 3,
   "id": "latter-advance",
   "metadata": {},
   "outputs": [
    {
     "name": "stdout",
     "output_type": "stream",
     "text": [
      "using dev cuda:0\n",
      "# available GPUs: 1\n"
     ]
    }
   ],
   "source": [
    "is_distributed = False\n",
    "master = True\n",
    "device = torch.device(0)\n",
    "print('using dev {}'.format(device))\n",
    "    \n",
    "args = get_args()\n",
    "\n",
    "# just to get a feeling of the dataset\n",
    "# labels, mask, indices = build_labels(config.dataset.train.labels_path, 10000)\n",
    "# labels, mask, indices = build_labels(config.dataset.train.labels_path, 10, allowed_subjects=['S9', 'S11'])"
   ]
  },
  {
   "cell_type": "code",
   "execution_count": 58,
   "id": "dedicated-speech",
   "metadata": {
    "scrolled": false
   },
   "outputs": [
    {
     "name": "stdout",
     "output_type": "stream",
     "text": [
      "                         conv1 has       9408 params (~  0.0) %\n",
      "                           bn1 has        128 params (~  0.0) %\n",
      "                          relu has          0 params (~  0.0) %\n",
      "                       maxpool has          0 params (~  0.0) %\n",
      "                        layer1 has     147968 params (~  0.8) %\n",
      "                        layer2 has     525568 params (~  2.7) %\n",
      "                        layer3 has    2099712 params (~ 10.9) %\n",
      "                        layer4 has    8393728 params (~ 43.8) %\n",
      "               alg_confidences has    3808529 params (~ 19.9) %\n",
      "                 deconv_layers has    4195840 params (~ 21.9) %\n",
      "                   final_layer has       4369 params (~  0.0) %\n",
      "total params: 19185250\n",
      "freezing Conv2d\n",
      "freezing BatchNorm2d\n",
      "freezing ReLU\n",
      "freezing MaxPool2d\n",
      "freezing Sequential\n",
      "freezing Sequential\n",
      "freezing Sequential\n",
      "freezing Sequential\n",
      "                         conv1 has          0 params (~  0.0) %\n",
      "                           bn1 has          0 params (~  0.0) %\n",
      "                          relu has          0 params (~  0.0) %\n",
      "                       maxpool has          0 params (~  0.0) %\n",
      "                        layer1 has          0 params (~  0.0) %\n",
      "                        layer2 has          0 params (~  0.0) %\n",
      "                        layer3 has          0 params (~  0.0) %\n",
      "                        layer4 has          0 params (~  0.0) %\n",
      "               alg_confidences has    3808529 params (~ 47.6) %\n",
      "                 deconv_layers has    4195840 params (~ 52.4) %\n",
      "                   final_layer has       4369 params (~  0.1) %\n",
      "total params: 8008738\n",
      "  training dataset length: 12\n",
      "  validation dataset length: 5\n",
      "Experiment name: human36m_alg_AlgebraicTriangulationNet@03.05.2021-11:11:31\n",
      "epoch    0 has started!\n"
     ]
    },
    {
     "name": "stderr",
     "output_type": "stream",
     "text": [
      "Exception ignored in: <function _MultiProcessingDataLoaderIter.__del__ at 0x7f4df8b223a0>\n",
      "Traceback (most recent call last):\n",
      "  File \"/home/stefano/scratch/learnable-triangulation-pytorch/.venv/lib/python3.8/site-packages/torch/utils/data/dataloader.py\", line 1324, in __del__\n",
      "    self._shutdown_workers()\n",
      "  File \"/home/stefano/scratch/learnable-triangulation-pytorch/.venv/lib/python3.8/site-packages/torch/utils/data/dataloader.py\", line 1316, in _shutdown_workers\n",
      "    if w.is_alive():\n",
      "  File \"/usr/lib/python3.8/multiprocessing/process.py\", line 160, in is_alive\n",
      "    assert self._parent_pid == os.getpid(), 'can only test a child process'\n",
      "AssertionError: can only test a child process\n"
     ]
    },
    {
     "name": "stdout",
     "output_type": "stream",
     "text": [
      "#[cam2cam]: training batch iter 0 loss ~ 19895.176\n",
      "#[cam2cam]: training batch iter 1 loss ~ 10671.017\n",
      "#[epoch]: training MPJPE relative to pelvis: 12007.562 mm\n",
      "#[epoch]: eval MPJPE relative to pelvis: 534.545 mm\n",
      "epoch    1 has started!\n",
      "#[cam2cam]: training batch iter 0 loss ~ 19153.672\n",
      "#[cam2cam]: training batch iter 1 loss ~ 8701.301\n",
      "#[epoch]: training MPJPE relative to pelvis: 312811.438 mm\n",
      "#[epoch]: eval MPJPE relative to pelvis: 471.507 mm\n",
      "    evaluate results x          4 ~        0.0 [min:        0.0,    max:        0.0,    last:        0.0]\n",
      "       alg: backbone x          6 ~        0.0 [min:        0.0,    max:        0.0,    last:        0.0]\n",
      "     cam2cam forward x          6 ~        0.0 [min:        0.0,    max:        0.0,    last:        0.0]\n",
      "           calc loss x          4 ~        0.0 [min:        0.0,    max:        0.0,    last:        0.0]\n",
      "     BB forward pass x          6 ~        0.0 [min:        0.0,    max:        0.0,    last:        0.0]\n",
      "         cam2cam DLT x          6 ~        0.0 [min:        0.0,    max:        0.1,    last:        0.0]\n",
      "       backward pass x          4 ~        0.1 [min:        0.1,    max:        0.2,    last:        0.1]\n",
      "             do eval x          2 ~        0.6 [min:        0.6,    max:        0.6,    last:        0.6]\n",
      "            do train x          2 ~        1.2 [min:        1.2,    max:        1.3,    last:        1.2]\n",
      "    all times are in seconds\n"
     ]
    }
   ],
   "source": [
    "config = get_config(args)\n",
    "do_train(None, None, config, device, is_distributed, master)"
   ]
  },
  {
   "cell_type": "code",
   "execution_count": 53,
   "id": "common-virgin",
   "metadata": {},
   "outputs": [
    {
     "name": "stdout",
     "output_type": "stream",
     "text": [
      "            original:                                                   torch.Size([3, 2, 17, 32, 32])\n",
      "            after CN:                                                      torch.Size([6, 17, 30, 30])\n",
      "          after ReLU:                                                      torch.Size([6, 17, 30, 30])\n",
      "       after MaxPool:                                                      torch.Size([6, 17, 15, 15])\n"
     ]
    }
   ],
   "source": [
    "BN_MOMENTUM = 0.1\n",
    "batch_size = 3\n",
    "heatmaps_w, heatmaps_h = 32, 32\n",
    "n_joints = 17\n",
    "\n",
    "batch = torch.zeros(batch_size, 2, n_joints, heatmaps_w, heatmaps_h)\n",
    "print('{:>20}: {:>80}'.format('original', str(batch.shape)))\n",
    "\n",
    "batch = batch.view(batch_size * 2, n_joints, heatmaps_w, heatmaps_h)  # process each view with same weights\n",
    "batch = torch.nn.Conv2d(17, 17, 3, stride=1, padding=0, bias=True, padding_mode='zeros')(batch)\n",
    "print('{:>20}: {:>80}'.format('after CN', str(batch.shape)))\n",
    "\n",
    "batch = torch.nn.LeakyReLU(inplace=True)(batch)\n",
    "print('{:>20}: {:>80}'.format('after ReLU', str(batch.shape)))\n",
    "\n",
    "batch = torch.nn.MaxPool2d(kernel_size=3, stride=2, padding=1)(batch)\n",
    "print('{:>20}: {:>80}'.format('after MaxPool', str(batch.shape)))"
   ]
  },
  {
   "cell_type": "code",
   "execution_count": 39,
   "id": "willing-secretariat",
   "metadata": {},
   "outputs": [
    {
     "name": "stdout",
     "output_type": "stream",
     "text": [
      "            original:                                                        torch.Size([3, 2, 17, 2])\n",
      "            after bn:                                                        torch.Size([3, 2, 17, 2])\n",
      "          after view:                                                              torch.Size([3, 68])\n"
     ]
    }
   ],
   "source": [
    "batch_size = 3\n",
    "n_joints = 17\n",
    "\n",
    "batch = torch.zeros(batch_size, 2, n_joints, 2)\n",
    "print('{:>20}: {:>80}'.format('original', str(batch.shape)))\n",
    "\n",
    "batch = torch.nn.BatchNorm2d(num_features=2, momentum=BN_MOMENTUM)(batch)\n",
    "print('{:>20}: {:>80}'.format('after bn', str(batch.shape)))\n",
    "\n",
    "batch = batch.view(batch_size, 2 * n_joints * 2)\n",
    "print('{:>20}: {:>80}'.format('after view', str(batch.shape)))"
   ]
  }
 ],
 "metadata": {
  "kernelspec": {
   "display_name": "learnable-triangulation-pytorch",
   "language": "python",
   "name": "learnable-triangulation-pytorch"
  },
  "language_info": {
   "codemirror_mode": {
    "name": "ipython",
    "version": 3
   },
   "file_extension": ".py",
   "mimetype": "text/x-python",
   "name": "python",
   "nbconvert_exporter": "python",
   "pygments_lexer": "ipython3",
   "version": "3.8.5"
  }
 },
 "nbformat": 4,
 "nbformat_minor": 5
}
