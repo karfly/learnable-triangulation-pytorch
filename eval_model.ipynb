{
 "cells": [
  {
   "cell_type": "code",
   "execution_count": 1,
   "id": "formed-george",
   "metadata": {},
   "outputs": [],
   "source": [
    "%load_ext autoreload\n",
    "%reload_ext autoreload\n",
    "%autoreload 2\n",
    "%matplotlib inline"
   ]
  },
  {
   "cell_type": "code",
   "execution_count": 2,
   "id": "annual-fireplace",
   "metadata": {},
   "outputs": [],
   "source": [
    "import torch\n",
    "from torch import nn\n",
    "\n",
    "from mvn.utils.minimon import MiniMon\n",
    "from mvn.utils.misc import flush_cache\n",
    "\n",
    "from mvn.ipynb import get_args, get_config, build_labels\n",
    "from mvn.pipeline.setup import setup_dataloaders, setup_experiment, build_env\n",
    "from mvn.pipeline.training import do_train"
   ]
  },
  {
   "cell_type": "code",
   "execution_count": 3,
   "id": "latter-advance",
   "metadata": {},
   "outputs": [
    {
     "name": "stdout",
     "output_type": "stream",
     "text": [
      "|===========================================================================|\n",
      "|                  PyTorch CUDA memory summary, device ID 0                 |\n",
      "|---------------------------------------------------------------------------|\n",
      "|            CUDA OOMs: 0            |        cudaMalloc retries: 0         |\n",
      "|===========================================================================|\n",
      "|        Metric         | Cur Usage  | Peak Usage | Tot Alloc  | Tot Freed  |\n",
      "|---------------------------------------------------------------------------|\n",
      "| Allocated memory      |       0 B  |       0 B  |       0 B  |       0 B  |\n",
      "|       from large pool |       0 B  |       0 B  |       0 B  |       0 B  |\n",
      "|       from small pool |       0 B  |       0 B  |       0 B  |       0 B  |\n",
      "|---------------------------------------------------------------------------|\n",
      "| Active memory         |       0 B  |       0 B  |       0 B  |       0 B  |\n",
      "|       from large pool |       0 B  |       0 B  |       0 B  |       0 B  |\n",
      "|       from small pool |       0 B  |       0 B  |       0 B  |       0 B  |\n",
      "|---------------------------------------------------------------------------|\n",
      "| GPU reserved memory   |       0 B  |       0 B  |       0 B  |       0 B  |\n",
      "|       from large pool |       0 B  |       0 B  |       0 B  |       0 B  |\n",
      "|       from small pool |       0 B  |       0 B  |       0 B  |       0 B  |\n",
      "|---------------------------------------------------------------------------|\n",
      "| Non-releasable memory |       0 B  |       0 B  |       0 B  |       0 B  |\n",
      "|       from large pool |       0 B  |       0 B  |       0 B  |       0 B  |\n",
      "|       from small pool |       0 B  |       0 B  |       0 B  |       0 B  |\n",
      "|---------------------------------------------------------------------------|\n",
      "| Allocations           |       0    |       0    |       0    |       0    |\n",
      "|       from large pool |       0    |       0    |       0    |       0    |\n",
      "|       from small pool |       0    |       0    |       0    |       0    |\n",
      "|---------------------------------------------------------------------------|\n",
      "| Active allocs         |       0    |       0    |       0    |       0    |\n",
      "|       from large pool |       0    |       0    |       0    |       0    |\n",
      "|       from small pool |       0    |       0    |       0    |       0    |\n",
      "|---------------------------------------------------------------------------|\n",
      "| GPU reserved segments |       0    |       0    |       0    |       0    |\n",
      "|       from large pool |       0    |       0    |       0    |       0    |\n",
      "|       from small pool |       0    |       0    |       0    |       0    |\n",
      "|---------------------------------------------------------------------------|\n",
      "| Non-releasable allocs |       0    |       0    |       0    |       0    |\n",
      "|       from large pool |       0    |       0    |       0    |       0    |\n",
      "|       from small pool |       0    |       0    |       0    |       0    |\n",
      "|===========================================================================|\n",
      "\n",
      "using dev cuda:0\n",
      "# available GPUs: 1\n"
     ]
    }
   ],
   "source": [
    "flush_cache()\n",
    "\n",
    "is_distributed = False\n",
    "master = True\n",
    "device = torch.device(0)\n",
    "print('using dev {}'.format(device))\n",
    "    \n",
    "args = get_args()\n",
    "\n",
    "# just to get a feeling of the dataset\n",
    "# labels, mask, indices = build_labels(config.dataset.train.labels_path, 10000)\n",
    "# labels, mask, indices = build_labels(config.dataset.train.labels_path, 10, allowed_subjects=['S9', 'S11'])"
   ]
  },
  {
   "cell_type": "code",
   "execution_count": 6,
   "id": "dedicated-speech",
   "metadata": {
    "scrolled": false
   },
   "outputs": [
    {
     "name": "stdout",
     "output_type": "stream",
     "text": [
      "cam2cam model (shared):\n",
      "                      backbone has      19600 params (~ 35.8) %\n",
      "                    R_backbone has      17590 params (~ 32.1) %\n",
      "                    t_backbone has      17539 params (~ 32.0) %\n",
      "total params:                54729\n",
      "cam2cam estimation => adding 54729 params to grad ...\n",
      "  training dataset length: 12\n",
      "  validation dataset length: 5\n",
      "Experiment name: human36m_alg_AlgebraicTriangulationNet@17.05.2021-14:20:58\n",
      "#[do_train]: epoch    0 has started!\n",
      "#[cam2cam]: training batch iter 0 losses: GEO ~ 7.201, TRANS ~ 196.346, POSE ~ 78255.516, ROTO ~ 10.402, 3D ~ 617.447, SELF R ~ 69.857, SELF t ~ 22.738, TOTAL ~ 732.780\n",
      "#[cam2cam]: training batch iter 0 MPJPE: ~ 440.583 mm\n",
      "#[cam2cam]: training batch iter 1 losses: GEO ~ 7.118, TRANS ~ 196.953, POSE ~ 75735.023, ROTO ~ 10.411, 3D ~ 602.770, SELF R ~ 65.214, SELF t ~ 20.521, TOTAL ~ 709.026\n",
      "#[cam2cam]: training batch iter 1 MPJPE: ~ 449.501 mm\n",
      "#[cam2cam]: training batch iter 2 losses: GEO ~ 7.041, TRANS ~ 197.795, POSE ~ 81754.570, ROTO ~ 10.043, 3D ~ 631.110, SELF R ~ 62.737, SELF t ~ 17.304, TOTAL ~ 728.455\n",
      "#[cam2cam]: training batch iter 2 MPJPE: ~ 421.569 mm\n",
      "#[cam2cam]: training batch iter 3 losses: GEO ~ 6.992, TRANS ~ 197.966, POSE ~ 79251.594, ROTO ~ 10.167, 3D ~ 599.266, SELF R ~ 61.633, SELF t ~ 19.556, TOTAL ~ 700.012\n",
      "#[cam2cam]: training batch iter 3 MPJPE: ~ 469.833 mm\n",
      "#[epoch]: training MPJPE relative to pelvis: 445.371 mm\n",
      "#[epoch]: eval MPJPE relative to pelvis: 478.422 mm\n",
      "#[do_train]: epoch time ~ 2.3\" => 1540 epochs / hour, 36952 epochs / day\n",
      "#[do_train]: epoch    0 complete!\n",
      "#[do_train]: epoch    1 has started!\n",
      "#[cam2cam]: training batch iter 0 losses: GEO ~ 7.053, TRANS ~ 196.727, POSE ~ 71336.133, ROTO ~ 10.213, 3D ~ 596.753, SELF R ~ 60.969, SELF t ~ 15.937, TOTAL ~ 689.598\n",
      "#[cam2cam]: training batch iter 0 MPJPE: ~ 432.082 mm\n",
      "#[cam2cam]: training batch iter 1 losses: GEO ~ 7.016, TRANS ~ 196.584, POSE ~ 79597.273, ROTO ~ 10.440, 3D ~ 604.940, SELF R ~ 60.375, SELF t ~ 17.241, TOTAL ~ 699.798\n",
      "#[cam2cam]: training batch iter 1 MPJPE: ~ 447.635 mm\n",
      "#[cam2cam]: training batch iter 2 losses: GEO ~ 6.820, TRANS ~ 197.163, POSE ~ 82477.797, ROTO ~ 10.181, 3D ~ 617.581, SELF R ~ 59.645, SELF t ~ 16.302, TOTAL ~ 709.831\n",
      "#[cam2cam]: training batch iter 2 MPJPE: ~ 453.620 mm\n",
      "#[cam2cam]: training batch iter 3 losses: GEO ~ 6.956, TRANS ~ 196.271, POSE ~ 82099.312, ROTO ~ 9.904, 3D ~ 633.698, SELF R ~ 58.816, SELF t ~ 16.293, TOTAL ~ 725.099\n",
      "#[cam2cam]: training batch iter 3 MPJPE: ~ 446.727 mm\n",
      "#[epoch]: training MPJPE relative to pelvis: 445.016 mm\n",
      "#[epoch]: eval MPJPE relative to pelvis: 477.722 mm\n",
      "#[do_train]: epoch time ~ 2.3\" => 1563 epochs / hour, 37517 epochs / day\n",
      "#[do_train]: epoch    1 complete!\n",
      "          BB forward x         12 ~        0.0 [min:        0.0,    max:        0.0,    last:        0.0]\n",
      "    evaluate results x          4 ~        0.0 [min:        0.0,    max:        0.0,    last:        0.0]\n",
      "         cam2cam DLT x         12 ~        0.0 [min:        0.0,    max:        0.0,    last:        0.0]\n",
      "     cam2cam forward x         12 ~        0.0 [min:        0.0,    max:        0.0,    last:        0.0]\n",
      "       backward pass x          8 ~        0.0 [min:        0.0,    max:        0.0,    last:        0.0]\n",
      "             do eval x          2 ~        0.6 [min:        0.6,    max:        0.6,    last:        0.6]\n",
      "            do train x          2 ~        1.7 [min:        1.7,    max:        1.8,    last:        1.7]\n",
      "    all times are in seconds\n"
     ]
    }
   ],
   "source": [
    "config = get_config(args)\n",
    "do_train(None, None, config, device, is_distributed, master)"
   ]
  }
 ],
 "metadata": {
  "kernelspec": {
   "display_name": "learnable-triangulation-pytorch",
   "language": "python",
   "name": "learnable-triangulation-pytorch"
  },
  "language_info": {
   "codemirror_mode": {
    "name": "ipython",
    "version": 3
   },
   "file_extension": ".py",
   "mimetype": "text/x-python",
   "name": "python",
   "nbconvert_exporter": "python",
   "pygments_lexer": "ipython3",
   "version": "3.9.4"
  }
 },
 "nbformat": 4,
 "nbformat_minor": 5
}
