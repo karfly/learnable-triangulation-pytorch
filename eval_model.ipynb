{
 "cells": [
  {
   "cell_type": "code",
   "execution_count": 1,
   "id": "formed-george",
   "metadata": {},
   "outputs": [],
   "source": [
    "%load_ext autoreload\n",
    "%reload_ext autoreload\n",
    "%autoreload 2\n",
    "%matplotlib inline"
   ]
  },
  {
   "cell_type": "code",
   "execution_count": 2,
   "id": "annual-fireplace",
   "metadata": {},
   "outputs": [],
   "source": [
    "import torch\n",
    "from torch import nn\n",
    "\n",
    "from mvn.utils.minimon import MiniMon\n",
    "from mvn.utils.misc import flush_cache\n",
    "\n",
    "from mvn.ipynb import get_args, get_config, build_labels\n",
    "from mvn.pipeline.setup import setup_dataloaders, setup_experiment, build_env\n",
    "from mvn.pipeline.training import do_train"
   ]
  },
  {
   "cell_type": "code",
   "execution_count": 3,
   "id": "latter-advance",
   "metadata": {},
   "outputs": [
    {
     "name": "stdout",
     "output_type": "stream",
     "text": [
      "|===========================================================================|\n",
      "|                  PyTorch CUDA memory summary, device ID 0                 |\n",
      "|---------------------------------------------------------------------------|\n",
      "|            CUDA OOMs: 0            |        cudaMalloc retries: 0         |\n",
      "|===========================================================================|\n",
      "|        Metric         | Cur Usage  | Peak Usage | Tot Alloc  | Tot Freed  |\n",
      "|---------------------------------------------------------------------------|\n",
      "| Allocated memory      |       0 B  |       0 B  |       0 B  |       0 B  |\n",
      "|       from large pool |       0 B  |       0 B  |       0 B  |       0 B  |\n",
      "|       from small pool |       0 B  |       0 B  |       0 B  |       0 B  |\n",
      "|---------------------------------------------------------------------------|\n",
      "| Active memory         |       0 B  |       0 B  |       0 B  |       0 B  |\n",
      "|       from large pool |       0 B  |       0 B  |       0 B  |       0 B  |\n",
      "|       from small pool |       0 B  |       0 B  |       0 B  |       0 B  |\n",
      "|---------------------------------------------------------------------------|\n",
      "| GPU reserved memory   |       0 B  |       0 B  |       0 B  |       0 B  |\n",
      "|       from large pool |       0 B  |       0 B  |       0 B  |       0 B  |\n",
      "|       from small pool |       0 B  |       0 B  |       0 B  |       0 B  |\n",
      "|---------------------------------------------------------------------------|\n",
      "| Non-releasable memory |       0 B  |       0 B  |       0 B  |       0 B  |\n",
      "|       from large pool |       0 B  |       0 B  |       0 B  |       0 B  |\n",
      "|       from small pool |       0 B  |       0 B  |       0 B  |       0 B  |\n",
      "|---------------------------------------------------------------------------|\n",
      "| Allocations           |       0    |       0    |       0    |       0    |\n",
      "|       from large pool |       0    |       0    |       0    |       0    |\n",
      "|       from small pool |       0    |       0    |       0    |       0    |\n",
      "|---------------------------------------------------------------------------|\n",
      "| Active allocs         |       0    |       0    |       0    |       0    |\n",
      "|       from large pool |       0    |       0    |       0    |       0    |\n",
      "|       from small pool |       0    |       0    |       0    |       0    |\n",
      "|---------------------------------------------------------------------------|\n",
      "| GPU reserved segments |       0    |       0    |       0    |       0    |\n",
      "|       from large pool |       0    |       0    |       0    |       0    |\n",
      "|       from small pool |       0    |       0    |       0    |       0    |\n",
      "|---------------------------------------------------------------------------|\n",
      "| Non-releasable allocs |       0    |       0    |       0    |       0    |\n",
      "|       from large pool |       0    |       0    |       0    |       0    |\n",
      "|       from small pool |       0    |       0    |       0    |       0    |\n",
      "|===========================================================================|\n",
      "\n",
      "using dev cuda:0\n",
      "# available GPUs: 1\n"
     ]
    }
   ],
   "source": [
    "flush_cache()\n",
    "\n",
    "is_distributed = False\n",
    "master = True\n",
    "device = torch.device(0)\n",
    "print('using dev {}'.format(device))\n",
    "    \n",
    "args = get_args()\n",
    "\n",
    "# just to get a feeling of the dataset\n",
    "# labels, mask, indices = build_labels(config.dataset.train.labels_path, 10000)\n",
    "# labels, mask, indices = build_labels(config.dataset.train.labels_path, 10, allowed_subjects=['S9', 'S11'])"
   ]
  },
  {
   "cell_type": "code",
   "execution_count": 20,
   "id": "dedicated-speech",
   "metadata": {
    "scrolled": false
   },
   "outputs": [
    {
     "name": "stdout",
     "output_type": "stream",
     "text": [
      "cam2cam model (kiss):\n",
      "                    R_backbone has       1750 params (~ 50.6) %\n",
      "                    t_backbone has       1711 params (~ 49.4) %\n",
      "total params:                 3461\n",
      "cam2cam estimation => adding 3461 params to grad ...\n",
      "  training dataset length: 12\n",
      "  validation dataset length: 5\n",
      "Experiment name: human36m_alg_AlgebraicTriangulationNet@14.05.2021-15:58:19\n",
      "#[do_train]: epoch    0 has started!\n",
      "#[cam2cam]: training batch iter 0 losses: GEO ~ 6.297, TRANS ~ 219.853, POSE ~ 93924.375, ROTO ~ 6.347, 3D ~ 653.556, SELF ~ 18.515, TOTAL ~ 746.131\n",
      "#[cam2cam]: training batch iter 0 MPJPE: ~ 495.898 mm\n",
      "#[cam2cam]: training batch iter 1 losses: GEO ~ 6.410, TRANS ~ 219.210, POSE ~ 91630.828, ROTO ~ 6.737, 3D ~ 647.252, SELF ~ 18.997, TOTAL ~ 742.237\n",
      "#[cam2cam]: training batch iter 1 MPJPE: ~ 508.273 mm\n",
      "#[cam2cam]: training batch iter 2 losses: GEO ~ 6.562, TRANS ~ 219.370, POSE ~ 105795.734, ROTO ~ 7.408, 3D ~ 649.084, SELF ~ 21.625, TOTAL ~ 757.211\n",
      "#[cam2cam]: training batch iter 2 MPJPE: ~ 585.790 mm\n",
      "#[cam2cam]: training batch iter 3 losses: GEO ~ 6.392, TRANS ~ 218.919, POSE ~ 99472.391, ROTO ~ 6.553, 3D ~ 660.912, SELF ~ 22.247, TOTAL ~ 772.147\n",
      "#[cam2cam]: training batch iter 3 MPJPE: ~ 535.780 mm\n",
      "#[epoch]: training MPJPE relative to pelvis: 531.435 mm\n",
      "#[epoch]: eval MPJPE relative to pelvis: 582.589 mm\n",
      "#[do_train]: epoch time ~ 3.1\" => 1159 epochs / hour, 27823 epochs / day\n",
      "#[do_train]: epoch    0 complete!\n",
      "#[do_train]: epoch    1 has started!\n",
      "#[cam2cam]: training batch iter 0 losses: GEO ~ 6.312, TRANS ~ 217.962, POSE ~ 103139.000, ROTO ~ 6.331, 3D ~ 675.081, SELF ~ 18.761, TOTAL ~ 768.888\n",
      "#[cam2cam]: training batch iter 0 MPJPE: ~ 505.051 mm\n",
      "#[cam2cam]: training batch iter 1 losses: GEO ~ 6.326, TRANS ~ 219.238, POSE ~ 96291.047, ROTO ~ 6.410, 3D ~ 649.631, SELF ~ 18.517, TOTAL ~ 742.216\n",
      "#[cam2cam]: training batch iter 1 MPJPE: ~ 507.768 mm\n",
      "#[cam2cam]: training batch iter 2 losses: GEO ~ 6.569, TRANS ~ 219.991, POSE ~ 105645.203, ROTO ~ 7.230, 3D ~ 642.828, SELF ~ 17.709, TOTAL ~ 731.373\n",
      "#[cam2cam]: training batch iter 2 MPJPE: ~ 603.177 mm\n",
      "#[cam2cam]: training batch iter 3 losses: GEO ~ 6.388, TRANS ~ 220.250, POSE ~ 92321.547, ROTO ~ 6.795, 3D ~ 642.759, SELF ~ 21.420, TOTAL ~ 749.858\n",
      "#[cam2cam]: training batch iter 3 MPJPE: ~ 525.993 mm\n",
      "#[epoch]: training MPJPE relative to pelvis: 535.497 mm\n",
      "#[epoch]: eval MPJPE relative to pelvis: 588.583 mm\n",
      "#[do_train]: epoch time ~ 3.1\" => 1175 epochs / hour, 28191 epochs / day\n",
      "#[do_train]: epoch    1 complete!\n",
      "          BB forward x         12 ~        0.0 [min:        0.0,    max:        0.0,    last:        0.0]\n",
      "    evaluate results x          4 ~        0.0 [min:        0.0,    max:        0.0,    last:        0.0]\n",
      "     cam2cam forward x         12 ~        0.0 [min:        0.0,    max:        0.0,    last:        0.0]\n",
      "         cam2cam DLT x         12 ~        0.0 [min:        0.0,    max:        0.0,    last:        0.0]\n",
      "       backward pass x          8 ~        0.0 [min:        0.0,    max:        0.0,    last:        0.0]\n",
      "             do eval x          2 ~        0.8 [min:        0.8,    max:        0.8,    last:        0.8]\n",
      "            do train x          2 ~        2.3 [min:        2.2,    max:        2.3,    last:        2.2]\n",
      "    all times are in seconds\n"
     ]
    }
   ],
   "source": [
    "config = get_config(args)\n",
    "do_train(None, None, config, device, is_distributed, master)"
   ]
  }
 ],
 "metadata": {
  "kernelspec": {
   "display_name": "learnable-triangulation-pytorch",
   "language": "python",
   "name": "learnable-triangulation-pytorch"
  },
  "language_info": {
   "codemirror_mode": {
    "name": "ipython",
    "version": 3
   },
   "file_extension": ".py",
   "mimetype": "text/x-python",
   "name": "python",
   "nbconvert_exporter": "python",
   "pygments_lexer": "ipython3",
   "version": "3.8.5"
  }
 },
 "nbformat": 4,
 "nbformat_minor": 5
}
