{
 "cells": [
  {
   "cell_type": "code",
   "execution_count": 1,
   "id": "formed-george",
   "metadata": {},
   "outputs": [],
   "source": [
    "%load_ext autoreload\n",
    "%reload_ext autoreload\n",
    "%autoreload 2\n",
    "%matplotlib inline"
   ]
  },
  {
   "cell_type": "code",
   "execution_count": 6,
   "id": "annual-fireplace",
   "metadata": {},
   "outputs": [],
   "source": [
    "import torch\n",
    "from torch import nn\n",
    "\n",
    "from mvn.utils.minimon import MiniMon\n",
    "from mvn.utils.misc import flush_cache\n",
    "\n",
    "from mvn.ipynb import get_args, get_config, build_labels\n",
    "from mvn.pipeline.setup import setup_dataloaders, setup_experiment, build_env\n",
    "from mvn.pipeline.training import do_train"
   ]
  },
  {
   "cell_type": "code",
   "execution_count": 7,
   "id": "latter-advance",
   "metadata": {},
   "outputs": [
    {
     "name": "stdout",
     "output_type": "stream",
     "text": [
      "|===========================================================================|\n",
      "|                  PyTorch CUDA memory summary, device ID 0                 |\n",
      "|---------------------------------------------------------------------------|\n",
      "|            CUDA OOMs: 0            |        cudaMalloc retries: 0         |\n",
      "|===========================================================================|\n",
      "|        Metric         | Cur Usage  | Peak Usage | Tot Alloc  | Tot Freed  |\n",
      "|---------------------------------------------------------------------------|\n",
      "| Allocated memory      |  258914 KB |  607517 KB |    3357 MB |    3104 MB |\n",
      "|       from large pool |  250752 KB |  589568 KB |    3285 MB |    3040 MB |\n",
      "|       from small pool |    8162 KB |   18349 KB |      71 MB |      63 MB |\n",
      "|---------------------------------------------------------------------------|\n",
      "| Active memory         |  258914 KB |  607517 KB |    3357 MB |    3104 MB |\n",
      "|       from large pool |  250752 KB |  589568 KB |    3285 MB |    3040 MB |\n",
      "|       from small pool |    8162 KB |   18349 KB |      71 MB |      63 MB |\n",
      "|---------------------------------------------------------------------------|\n",
      "| GPU reserved memory   |  276480 KB |  622592 KB |  622592 KB |  346112 KB |\n",
      "|       from large pool |  266240 KB |  602112 KB |  602112 KB |  335872 KB |\n",
      "|       from small pool |   10240 KB |   20480 KB |   20480 KB |   10240 KB |\n",
      "|---------------------------------------------------------------------------|\n",
      "| Non-releasable memory |   17566 KB |  103022 KB |    3591 MB |    3574 MB |\n",
      "|       from large pool |   15488 KB |   95360 KB |    3509 MB |    3494 MB |\n",
      "|       from small pool |    2078 KB |    7670 KB |      81 MB |      79 MB |\n",
      "|---------------------------------------------------------------------------|\n",
      "| Allocations           |     288    |     971    |   12511    |   12223    |\n",
      "|       from large pool |      58    |     131    |     750    |     692    |\n",
      "|       from small pool |     230    |     890    |   11761    |   11531    |\n",
      "|---------------------------------------------------------------------------|\n",
      "| Active allocs         |     288    |     971    |   12511    |   12223    |\n",
      "|       from large pool |      58    |     131    |     750    |     692    |\n",
      "|       from small pool |     230    |     890    |   11761    |   11531    |\n",
      "|---------------------------------------------------------------------------|\n",
      "| GPU reserved segments |      18    |      36    |      36    |      18    |\n",
      "|       from large pool |      13    |      26    |      26    |      13    |\n",
      "|       from small pool |       5    |      10    |      10    |       5    |\n",
      "|---------------------------------------------------------------------------|\n",
      "| Non-releasable allocs |      18    |      59    |    8175    |    8157    |\n",
      "|       from large pool |       4    |       9    |     511    |     507    |\n",
      "|       from small pool |      14    |      54    |    7664    |    7650    |\n",
      "|===========================================================================|\n",
      "\n",
      "using dev cuda:0\n",
      "# available GPUs: 1\n"
     ]
    }
   ],
   "source": [
    "flush_cache()\n",
    "\n",
    "is_distributed = False\n",
    "master = True\n",
    "device = torch.device(0)\n",
    "print('using dev {}'.format(device))\n",
    "    \n",
    "args = get_args()\n",
    "\n",
    "# just to get a feeling of the dataset\n",
    "# labels, mask, indices = build_labels(config.dataset.train.labels_path, 10000)\n",
    "# labels, mask, indices = build_labels(config.dataset.train.labels_path, 10, allowed_subjects=['S9', 'S11'])"
   ]
  },
  {
   "cell_type": "code",
   "execution_count": 8,
   "id": "dedicated-speech",
   "metadata": {
    "scrolled": true
   },
   "outputs": [
    {
     "name": "stdout",
     "output_type": "stream",
     "text": [
      "cam2cam model (canonpose):\n",
      "                    R_backbone has    6374406 params (~ 50.0) %\n",
      "                    t_backbone has    6371331 params (~ 50.0) %\n",
      "total params:             12745737\n",
      "cam2cam estimation => adding 12745737 params to grad ...\n",
      "  training dataset length: 12\n",
      "  validation dataset length: 5\n",
      "Experiment name: human36m_alg_AlgebraicTriangulationNet@13.05.2021-16:18:01\n",
      "#[do_train]: epoch    0 has started!\n",
      "#[cam2cam]: training batch iter 0 avg per sample loss: GEO ~ 1.927, TRANS ~ 1264.110, POSE ~ 25490.938, ROTO ~ 2.875, 3D ~ 1129.945, TOTAL ~ 1129.945\n",
      "#[cam2cam]: training batch iter 1 avg per sample loss: GEO ~ 1.882, TRANS ~ 1170.481, POSE ~ 33245.715, ROTO ~ 2.896, 3D ~ 1166.999, TOTAL ~ 1166.999\n",
      "#[epoch]: training MPJPE relative to pelvis: 6272.962 mm\n",
      "#[epoch]: eval MPJPE relative to pelvis: 5609.638 mm\n",
      "#[do_train]: epoch time ~ 3.3\" => 1085 epochs / hour, 26039 epochs / day\n",
      "#[do_train]: epoch    0 complete!\n",
      "     BB forward pass x          3 ~        0.0 [min:        0.0,    max:        0.0,    last:        0.0]\n",
      "    evaluate results x          2 ~        0.0 [min:        0.0,    max:        0.0,    last:        0.0]\n",
      "     cam2cam forward x          3 ~        0.0 [min:        0.0,    max:        0.0,    last:        0.0]\n",
      "         cam2cam DLT x          3 ~        0.0 [min:        0.0,    max:        0.0,    last:        0.0]\n",
      "           calc loss x          2 ~        0.0 [min:        0.0,    max:        0.1,    last:        0.0]\n",
      "       backward pass x          2 ~        0.1 [min:        0.1,    max:        0.1,    last:        0.1]\n",
      "             do eval              ~        0.9\n",
      "            do train              ~        2.4\n",
      "    all times are in seconds\n"
     ]
    }
   ],
   "source": [
    "config = get_config(args)\n",
    "do_train(None, None, config, device, is_distributed, master)"
   ]
  }
 ],
 "metadata": {
  "kernelspec": {
   "display_name": "learnable-triangulation-pytorch",
   "language": "python",
   "name": "learnable-triangulation-pytorch"
  },
  "language_info": {
   "codemirror_mode": {
    "name": "ipython",
    "version": 3
   },
   "file_extension": ".py",
   "mimetype": "text/x-python",
   "name": "python",
   "nbconvert_exporter": "python",
   "pygments_lexer": "ipython3",
   "version": "3.8.5"
  }
 },
 "nbformat": 4,
 "nbformat_minor": 5
}
