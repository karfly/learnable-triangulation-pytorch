{
 "cells": [
  {
   "cell_type": "code",
   "execution_count": 1,
   "id": "formed-george",
   "metadata": {},
   "outputs": [],
   "source": [
    "%load_ext autoreload\n",
    "%reload_ext autoreload\n",
    "%autoreload 2\n",
    "%matplotlib inline"
   ]
  },
  {
   "cell_type": "code",
   "execution_count": 2,
   "id": "annual-fireplace",
   "metadata": {},
   "outputs": [],
   "source": [
    "import torch\n",
    "from torch import nn\n",
    "\n",
    "from mvn.utils.minimon import MiniMon\n",
    "from mvn.utils.misc import flush_cache\n",
    "\n",
    "from mvn.ipynb import get_args, get_config, build_labels\n",
    "from mvn.pipeline.setup import setup_dataloaders, setup_experiment, build_env\n",
    "from mvn.pipeline.training import do_train"
   ]
  },
  {
   "cell_type": "code",
   "execution_count": 3,
   "id": "latter-advance",
   "metadata": {},
   "outputs": [
    {
     "name": "stdout",
     "output_type": "stream",
     "text": [
      "|===========================================================================|\n",
      "|                  PyTorch CUDA memory summary, device ID 0                 |\n",
      "|---------------------------------------------------------------------------|\n",
      "|            CUDA OOMs: 0            |        cudaMalloc retries: 0         |\n",
      "|===========================================================================|\n",
      "|        Metric         | Cur Usage  | Peak Usage | Tot Alloc  | Tot Freed  |\n",
      "|---------------------------------------------------------------------------|\n",
      "| Allocated memory      |       0 B  |       0 B  |       0 B  |       0 B  |\n",
      "|       from large pool |       0 B  |       0 B  |       0 B  |       0 B  |\n",
      "|       from small pool |       0 B  |       0 B  |       0 B  |       0 B  |\n",
      "|---------------------------------------------------------------------------|\n",
      "| Active memory         |       0 B  |       0 B  |       0 B  |       0 B  |\n",
      "|       from large pool |       0 B  |       0 B  |       0 B  |       0 B  |\n",
      "|       from small pool |       0 B  |       0 B  |       0 B  |       0 B  |\n",
      "|---------------------------------------------------------------------------|\n",
      "| GPU reserved memory   |       0 B  |       0 B  |       0 B  |       0 B  |\n",
      "|       from large pool |       0 B  |       0 B  |       0 B  |       0 B  |\n",
      "|       from small pool |       0 B  |       0 B  |       0 B  |       0 B  |\n",
      "|---------------------------------------------------------------------------|\n",
      "| Non-releasable memory |       0 B  |       0 B  |       0 B  |       0 B  |\n",
      "|       from large pool |       0 B  |       0 B  |       0 B  |       0 B  |\n",
      "|       from small pool |       0 B  |       0 B  |       0 B  |       0 B  |\n",
      "|---------------------------------------------------------------------------|\n",
      "| Allocations           |       0    |       0    |       0    |       0    |\n",
      "|       from large pool |       0    |       0    |       0    |       0    |\n",
      "|       from small pool |       0    |       0    |       0    |       0    |\n",
      "|---------------------------------------------------------------------------|\n",
      "| Active allocs         |       0    |       0    |       0    |       0    |\n",
      "|       from large pool |       0    |       0    |       0    |       0    |\n",
      "|       from small pool |       0    |       0    |       0    |       0    |\n",
      "|---------------------------------------------------------------------------|\n",
      "| GPU reserved segments |       0    |       0    |       0    |       0    |\n",
      "|       from large pool |       0    |       0    |       0    |       0    |\n",
      "|       from small pool |       0    |       0    |       0    |       0    |\n",
      "|---------------------------------------------------------------------------|\n",
      "| Non-releasable allocs |       0    |       0    |       0    |       0    |\n",
      "|       from large pool |       0    |       0    |       0    |       0    |\n",
      "|       from small pool |       0    |       0    |       0    |       0    |\n",
      "|===========================================================================|\n",
      "\n",
      "using dev cuda:0\n",
      "# available GPUs: 1\n"
     ]
    }
   ],
   "source": [
    "flush_cache()\n",
    "\n",
    "is_distributed = False\n",
    "master = True\n",
    "device = torch.device(0)\n",
    "print('using dev {}'.format(device))\n",
    "    \n",
    "args = get_args()\n",
    "\n",
    "# just to get a feeling of the dataset\n",
    "# labels, mask, indices = build_labels(config.dataset.train.labels_path, 10000)\n",
    "# labels, mask, indices = build_labels(config.dataset.train.labels_path, 10, allowed_subjects=['S9', 'S11'])"
   ]
  },
  {
   "cell_type": "code",
   "execution_count": 8,
   "id": "dedicated-speech",
   "metadata": {
    "scrolled": false
   },
   "outputs": [
    {
     "name": "stdout",
     "output_type": "stream",
     "text": [
      "cam2cam model (res):\n",
      "                    R_backbone has       2294 params (~ 50.6) %\n",
      "                    t_backbone has       2243 params (~ 49.4) %\n",
      "total params:                 4537\n",
      "cam2cam estimation => adding 4537 params to grad ...\n",
      "  training dataset length: 12\n",
      "  validation dataset length: 5\n",
      "Experiment name: human36m_alg_AlgebraicTriangulationNet@17.05.2021-11:24:26\n",
      "#[do_train]: epoch    0 has started!\n",
      "#[cam2cam]: training batch iter 0 losses: GEO ~ 7.985, TRANS ~ 206.689, POSE ~ 83420.664, ROTO ~ 8.806, 3D ~ 618.141, SELF R ~ 62.791, SELF t ~ 19.991, TOTAL ~ 720.913\n",
      "#[cam2cam]: training batch iter 0 MPJPE: ~ 469.857 mm\n",
      "#[cam2cam]: training batch iter 1 losses: GEO ~ 7.754, TRANS ~ 207.453, POSE ~ 86474.133, ROTO ~ 9.003, 3D ~ 622.078, SELF R ~ 64.502, SELF t ~ 20.330, TOTAL ~ 727.241\n",
      "#[cam2cam]: training batch iter 1 MPJPE: ~ 466.954 mm\n",
      "#[cam2cam]: training batch iter 2 losses: GEO ~ 7.977, TRANS ~ 206.810, POSE ~ 76947.594, ROTO ~ 8.818, 3D ~ 619.064, SELF R ~ 64.029, SELF t ~ 19.884, TOTAL ~ 722.862\n",
      "#[cam2cam]: training batch iter 2 MPJPE: ~ 432.970 mm\n",
      "#[cam2cam]: training batch iter 3 losses: GEO ~ 7.984, TRANS ~ 207.263, POSE ~ 81247.688, ROTO ~ 8.855, 3D ~ 625.758, SELF R ~ 63.635, SELF t ~ 20.762, TOTAL ~ 730.916\n",
      "#[cam2cam]: training batch iter 3 MPJPE: ~ 477.538 mm\n",
      "#[epoch]: training MPJPE relative to pelvis: 461.830 mm\n",
      "#[epoch]: eval MPJPE relative to pelvis: 499.417 mm\n",
      "#[do_train]: epoch time ~ 2.3\" => 1576 epochs / hour, 37830 epochs / day\n",
      "#[do_train]: epoch    0 complete!\n",
      "#[do_train]: epoch    1 has started!\n",
      "#[cam2cam]: training batch iter 0 losses: GEO ~ 8.072, TRANS ~ 205.930, POSE ~ 84235.141, ROTO ~ 8.738, 3D ~ 638.655, SELF R ~ 63.743, SELF t ~ 20.764, TOTAL ~ 743.927\n",
      "#[cam2cam]: training batch iter 0 MPJPE: ~ 444.704 mm\n",
      "#[cam2cam]: training batch iter 1 losses: GEO ~ 7.869, TRANS ~ 207.702, POSE ~ 78832.250, ROTO ~ 8.783, 3D ~ 617.035, SELF R ~ 63.989, SELF t ~ 19.653, TOTAL ~ 720.329\n",
      "#[cam2cam]: training batch iter 1 MPJPE: ~ 445.226 mm\n",
      "#[cam2cam]: training batch iter 2 losses: GEO ~ 7.896, TRANS ~ 208.086, POSE ~ 80687.242, ROTO ~ 8.859, 3D ~ 607.682, SELF R ~ 63.124, SELF t ~ 19.349, TOTAL ~ 709.504\n",
      "#[cam2cam]: training batch iter 2 MPJPE: ~ 481.282 mm\n",
      "#[cam2cam]: training batch iter 3 losses: GEO ~ 7.959, TRANS ~ 206.705, POSE ~ 83384.812, ROTO ~ 8.908, 3D ~ 617.056, SELF R ~ 62.947, SELF t ~ 19.639, TOTAL ~ 719.280\n",
      "#[cam2cam]: training batch iter 3 MPJPE: ~ 477.919 mm\n",
      "#[epoch]: training MPJPE relative to pelvis: 462.283 mm\n",
      "#[epoch]: eval MPJPE relative to pelvis: 500.063 mm\n",
      "#[do_train]: epoch time ~ 2.3\" => 1569 epochs / hour, 37651 epochs / day\n",
      "#[do_train]: epoch    1 complete!\n",
      "          BB forward x         12 ~        0.0 [min:        0.0,    max:        0.0,    last:        0.0]\n",
      "    evaluate results x          4 ~        0.0 [min:        0.0,    max:        0.0,    last:        0.0]\n",
      "         cam2cam DLT x         12 ~        0.0 [min:        0.0,    max:        0.0,    last:        0.0]\n",
      "     cam2cam forward x         12 ~        0.0 [min:        0.0,    max:        0.0,    last:        0.0]\n",
      "       backward pass x          8 ~        0.0 [min:        0.0,    max:        0.1,    last:        0.0]\n",
      "             do eval x          2 ~        0.6 [min:        0.6,    max:        0.6,    last:        0.6]\n",
      "            do train x          2 ~        1.7 [min:        1.7,    max:        1.8,    last:        1.8]\n",
      "    all times are in seconds\n"
     ]
    }
   ],
   "source": [
    "config = get_config(args)\n",
    "do_train(None, None, config, device, is_distributed, master)"
   ]
  }
 ],
 "metadata": {
  "kernelspec": {
   "display_name": "learnable-triangulation-pytorch",
   "language": "python",
   "name": "learnable-triangulation-pytorch"
  },
  "language_info": {
   "codemirror_mode": {
    "name": "ipython",
    "version": 3
   },
   "file_extension": ".py",
   "mimetype": "text/x-python",
   "name": "python",
   "nbconvert_exporter": "python",
   "pygments_lexer": "ipython3",
   "version": "3.9.4"
  }
 },
 "nbformat": 4,
 "nbformat_minor": 5
}
