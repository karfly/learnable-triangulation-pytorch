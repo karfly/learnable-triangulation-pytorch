{
 "cells": [
  {
   "cell_type": "code",
   "execution_count": 1,
   "id": "formed-george",
   "metadata": {},
   "outputs": [],
   "source": [
    "%load_ext autoreload\n",
    "%reload_ext autoreload\n",
    "%autoreload 2\n",
    "%matplotlib inline"
   ]
  },
  {
   "cell_type": "code",
   "execution_count": 2,
   "id": "annual-fireplace",
   "metadata": {},
   "outputs": [],
   "source": [
    "import torch\n",
    "\n",
    "from mvn.utils.minimon import MiniMon\n",
    "from mvn.utils.misc import flush_cache\n",
    "\n",
    "from mvn.ipynb import get_args, get_config, build_labels\n",
    "from train import setup_dataloaders, setup_experiment, build_env, do_train"
   ]
  },
  {
   "cell_type": "code",
   "execution_count": 8,
   "id": "latter-advance",
   "metadata": {},
   "outputs": [
    {
     "name": "stdout",
     "output_type": "stream",
     "text": [
      "|===========================================================================|\n",
      "|                  PyTorch CUDA memory summary, device ID 0                 |\n",
      "|---------------------------------------------------------------------------|\n",
      "|            CUDA OOMs: 0            |        cudaMalloc retries: 0         |\n",
      "|===========================================================================|\n",
      "|        Metric         | Cur Usage  | Peak Usage | Tot Alloc  | Tot Freed  |\n",
      "|---------------------------------------------------------------------------|\n",
      "| Allocated memory      |    1004 MB |    2115 MB |    3969 MB |    2965 MB |\n",
      "|       from large pool |     989 MB |    2092 MB |    3892 MB |    2902 MB |\n",
      "|       from small pool |      14 MB |      31 MB |      76 MB |      62 MB |\n",
      "|---------------------------------------------------------------------------|\n",
      "| Active memory         |    1004 MB |    2115 MB |    3969 MB |    2965 MB |\n",
      "|       from large pool |     989 MB |    2092 MB |    3892 MB |    2902 MB |\n",
      "|       from small pool |      14 MB |      31 MB |      76 MB |      62 MB |\n",
      "|---------------------------------------------------------------------------|\n",
      "| GPU reserved memory   |    1038 MB |    2180 MB |    2180 MB |    1142 MB |\n",
      "|       from large pool |    1014 MB |    2146 MB |    2146 MB |    1132 MB |\n",
      "|       from small pool |      24 MB |      34 MB |      34 MB |      10 MB |\n",
      "|---------------------------------------------------------------------------|\n",
      "| Non-releasable memory |   34565 KB |  101291 KB |    1448 MB |    1414 MB |\n",
      "|       from large pool |   24768 KB |  100864 KB |    1348 MB |    1324 MB |\n",
      "|       from small pool |    9797 KB |   13112 KB |      99 MB |      90 MB |\n",
      "|---------------------------------------------------------------------------|\n",
      "| Allocations           |     232    |     483    |     849    |     617    |\n",
      "|       from large pool |      21    |      46    |     151    |     130    |\n",
      "|       from small pool |     211    |     437    |     698    |     487    |\n",
      "|---------------------------------------------------------------------------|\n",
      "| Active allocs         |     232    |     483    |     849    |     617    |\n",
      "|       from large pool |      21    |      46    |     151    |     130    |\n",
      "|       from small pool |     211    |     437    |     698    |     487    |\n",
      "|---------------------------------------------------------------------------|\n",
      "| GPU reserved segments |      18    |      33    |      33    |      15    |\n",
      "|       from large pool |       6    |      16    |      16    |      10    |\n",
      "|       from small pool |      12    |      17    |      17    |       5    |\n",
      "|---------------------------------------------------------------------------|\n",
      "| Non-releasable allocs |      12    |      27    |     279    |     267    |\n",
      "|       from large pool |       2    |       6    |      75    |      73    |\n",
      "|       from small pool |      10    |      21    |     204    |     194    |\n",
      "|===========================================================================|\n",
      "\n",
      "using dev cuda:0\n",
      "# available GPUs: 1\n"
     ]
    }
   ],
   "source": [
    "flush_cache()\n",
    "\n",
    "is_distributed = False\n",
    "master = True\n",
    "device = torch.device(0)\n",
    "print('using dev {}'.format(device))\n",
    "    \n",
    "args = get_args()\n",
    "\n",
    "# just to get a feeling of the dataset\n",
    "# labels, mask, indices = build_labels(config.dataset.train.labels_path, 10000)\n",
    "# labels, mask, indices = build_labels(config.dataset.train.labels_path, 10, allowed_subjects=['S9', 'S11'])"
   ]
  },
  {
   "cell_type": "code",
   "execution_count": 20,
   "id": "dedicated-speech",
   "metadata": {
    "scrolled": false
   },
   "outputs": [
    {
     "name": "stdout",
     "output_type": "stream",
     "text": [
      "                         conv1 has       9408 params (~  0.1) %\n",
      "                           bn1 has        128 params (~  0.0) %\n",
      "                          relu has          0 params (~  0.0) %\n",
      "                       maxpool has          0 params (~  0.0) %\n",
      "                        layer1 has     147968 params (~  1.0) %\n",
      "                        layer2 has     525568 params (~  3.4) %\n",
      "                        layer3 has    2099712 params (~ 13.7) %\n",
      "                        layer4 has    8393728 params (~ 54.9) %\n",
      "               alg_confidences has    3808529 params (~ 24.9) %\n",
      "                 deconv_layers has     295104 params (~  1.9) %\n",
      "                   final_layer has        561 params (~  0.0) %\n",
      "total params:             15280706\n",
      "freezing Conv2d\n",
      "freezing BatchNorm2d\n",
      "freezing ReLU\n",
      "freezing MaxPool2d\n",
      "freezing Sequential\n",
      "freezing Sequential\n",
      "freezing Sequential\n",
      "freezing Sequential\n",
      "                         conv1 has          0 params (~  0.0) %\n",
      "                           bn1 has          0 params (~  0.0) %\n",
      "                          relu has          0 params (~  0.0) %\n",
      "                       maxpool has          0 params (~  0.0) %\n",
      "                        layer1 has          0 params (~  0.0) %\n",
      "                        layer2 has          0 params (~  0.0) %\n",
      "                        layer3 has          0 params (~  0.0) %\n",
      "                        layer4 has          0 params (~  0.0) %\n",
      "               alg_confidences has    3808529 params (~ 92.8) %\n",
      "                 deconv_layers has     295104 params (~  7.2) %\n",
      "                   final_layer has        561 params (~  0.0) %\n",
      "total params:              4104194\n",
      "cam2cam model:\n",
      "                  roto_encoder has   29705872 params (~ 50.0) %\n",
      "                  roto_decoder has        374 params (~  0.0) %\n",
      "                 trans_encoder has   29705872 params (~ 50.0) %\n",
      "                 trans_decoder has        323 params (~  0.0) %\n",
      "total params:             59412441\n",
      "  training dataset length: 12\n",
      "  validation dataset length: 5\n",
      "Experiment name: human36m_alg_AlgebraicTriangulationNet@03.05.2021-22:16:57\n",
      "epoch    0 has started!\n",
      "#[cam2cam]: training batch iter 0 loss ~ 41570.465\n",
      "#[cam2cam]: training batch iter 1 loss ~ 26097.168\n",
      "#[epoch]: training MPJPE relative to pelvis: 578.604 mm\n",
      "#[epoch]: eval MPJPE relative to pelvis: 472.002 mm\n",
      "epoch    1 has started!\n",
      "#[cam2cam]: training batch iter 0 loss ~ 36834.324\n",
      "#[cam2cam]: training batch iter 1 loss ~ 18492.656\n",
      "#[epoch]: training MPJPE relative to pelvis: 563.051 mm\n",
      "#[epoch]: eval MPJPE relative to pelvis: 473.072 mm\n",
      "    evaluate results x          4 ~        0.0 [min:        0.0,    max:        0.0,    last:        0.0]\n",
      "       alg: backbone x          6 ~        0.0 [min:        0.0,    max:        0.0,    last:        0.0]\n",
      "           calc loss x          4 ~        0.0 [min:        0.0,    max:        0.0,    last:        0.0]\n",
      "     BB forward pass x          6 ~        0.0 [min:        0.0,    max:        0.0,    last:        0.0]\n",
      "     cam2cam forward x          6 ~        0.0 [min:        0.0,    max:        0.0,    last:        0.0]\n",
      "         cam2cam DLT x          6 ~        0.0 [min:        0.0,    max:        0.1,    last:        0.0]\n",
      "       backward pass x          4 ~        0.1 [min:        0.1,    max:        0.1,    last:        0.1]\n",
      "             do eval x          2 ~        0.6 [min:        0.6,    max:        0.6,    last:        0.6]\n",
      "            do train x          2 ~        1.2 [min:        1.2,    max:        1.2,    last:        1.2]\n",
      "    all times are in seconds\n"
     ]
    }
   ],
   "source": [
    "config = get_config(args)\n",
    "do_train(None, None, config, device, is_distributed, master)"
   ]
  }
 ],
 "metadata": {
  "kernelspec": {
   "display_name": "learnable-triangulation-pytorch",
   "language": "python",
   "name": "learnable-triangulation-pytorch"
  },
  "language_info": {
   "codemirror_mode": {
    "name": "ipython",
    "version": 3
   },
   "file_extension": ".py",
   "mimetype": "text/x-python",
   "name": "python",
   "nbconvert_exporter": "python",
   "pygments_lexer": "ipython3",
   "version": "3.8.5"
  }
 },
 "nbformat": 4,
 "nbformat_minor": 5
}
