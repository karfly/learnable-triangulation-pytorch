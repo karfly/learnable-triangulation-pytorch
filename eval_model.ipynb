{
 "cells": [
  {
   "cell_type": "code",
   "execution_count": 1,
   "id": "formed-george",
   "metadata": {},
   "outputs": [],
   "source": [
    "%load_ext autoreload\n",
    "%reload_ext autoreload\n",
    "%autoreload 2\n",
    "%matplotlib inline"
   ]
  },
  {
   "cell_type": "code",
   "execution_count": 2,
   "id": "annual-fireplace",
   "metadata": {},
   "outputs": [],
   "source": [
    "import torch\n",
    "from torch import nn\n",
    "\n",
    "from mvn.utils.minimon import MiniMon\n",
    "from mvn.utils.misc import flush_cache\n",
    "\n",
    "from mvn.ipynb import get_args, get_config, build_labels\n",
    "from mvn.pipeline.setup import setup_dataloaders, setup_experiment, build_env\n",
    "from mvn.pipeline.training import do_train"
   ]
  },
  {
   "cell_type": "code",
   "execution_count": 16,
   "id": "latter-advance",
   "metadata": {},
   "outputs": [
    {
     "name": "stdout",
     "output_type": "stream",
     "text": [
      "|===========================================================================|\n",
      "|                  PyTorch CUDA memory summary, device ID 0                 |\n",
      "|---------------------------------------------------------------------------|\n",
      "|            CUDA OOMs: 0            |        cudaMalloc retries: 0         |\n",
      "|===========================================================================|\n",
      "|        Metric         | Cur Usage  | Peak Usage | Tot Alloc  | Tot Freed  |\n",
      "|---------------------------------------------------------------------------|\n",
      "| Allocated memory      |   80537 KB |  426891 KB |    1141 MB |    1063 MB |\n",
      "|       from large pool |   74880 KB |  398592 KB |    1075 MB |    1002 MB |\n",
      "|       from small pool |    5657 KB |   28620 KB |      66 MB |      60 MB |\n",
      "|---------------------------------------------------------------------------|\n",
      "| Active memory         |   80537 KB |  426891 KB |    1141 MB |    1063 MB |\n",
      "|       from large pool |   74880 KB |  398592 KB |    1075 MB |    1002 MB |\n",
      "|       from small pool |    5657 KB |   28620 KB |      66 MB |      60 MB |\n",
      "|---------------------------------------------------------------------------|\n",
      "| GPU reserved memory   |  163840 KB |  468992 KB |  468992 KB |  305152 KB |\n",
      "|       from large pool |  145408 KB |  440320 KB |  440320 KB |  294912 KB |\n",
      "|       from small pool |   18432 KB |   28672 KB |   28672 KB |   10240 KB |\n",
      "|---------------------------------------------------------------------------|\n",
      "| Non-releasable memory |   83303 KB |   98967 KB |    1133 MB |    1052 MB |\n",
      "|       from large pool |   70528 KB |   88448 KB |    1051 MB |     982 MB |\n",
      "|       from small pool |   12775 KB |   12775 KB |      82 MB |      69 MB |\n",
      "|---------------------------------------------------------------------------|\n",
      "| Allocations           |     191    |    1555    |   39683    |   39492    |\n",
      "|       from large pool |      11    |      58    |     140    |     129    |\n",
      "|       from small pool |     180    |    1500    |   39543    |   39363    |\n",
      "|---------------------------------------------------------------------------|\n",
      "| Active allocs         |     191    |    1555    |   39683    |   39492    |\n",
      "|       from large pool |      11    |      58    |     140    |     129    |\n",
      "|       from small pool |     180    |    1500    |   39543    |   39363    |\n",
      "|---------------------------------------------------------------------------|\n",
      "| GPU reserved segments |      16    |      35    |      35    |      19    |\n",
      "|       from large pool |       7    |      21    |      21    |      14    |\n",
      "|       from small pool |       9    |      14    |      14    |       5    |\n",
      "|---------------------------------------------------------------------------|\n",
      "| Non-releasable allocs |      27    |      44    |   23796    |   23769    |\n",
      "|       from large pool |      10    |      18    |      97    |      87    |\n",
      "|       from small pool |      17    |      28    |   23699    |   23682    |\n",
      "|===========================================================================|\n",
      "\n",
      "using dev cuda:0\n",
      "# available GPUs: 1\n"
     ]
    }
   ],
   "source": [
    "flush_cache()\n",
    "\n",
    "is_distributed = False\n",
    "master = True\n",
    "device = torch.device(0)\n",
    "print('using dev {}'.format(device))\n",
    "    \n",
    "args = get_args()\n",
    "\n",
    "# just to get a feeling of the dataset\n",
    "# labels, mask, indices = build_labels(config.dataset.train.labels_path, 10000)\n",
    "# labels, mask, indices = build_labels(config.dataset.train.labels_path, 10, allowed_subjects=['S9', 'S11'])"
   ]
  },
  {
   "cell_type": "code",
   "execution_count": 31,
   "id": "dedicated-speech",
   "metadata": {
    "scrolled": false
   },
   "outputs": [
    {
     "name": "stdout",
     "output_type": "stream",
     "text": [
      "cam2cam model (res):\n",
      "                    R_backbone has       2294 params (~ 50.6) %\n",
      "                    t_backbone has       2243 params (~ 49.4) %\n",
      "total params:                 4537\n",
      "cam2cam estimation => adding 4537 params to grad ...\n",
      "  training dataset length: 12\n",
      "  validation dataset length: 5\n",
      "Experiment name: human36m_alg_AlgebraicTriangulationNet@17.05.2021-10:21:40\n",
      "#[do_train]: epoch    0 has started!\n",
      "#[cam2cam]: training batch iter 0 losses: GEO ~ 5.934, TRANS ~ 66.047, POSE ~ 76279.547, ROTO ~ 7.796, 3D ~ 611.996, SELF R ~ 53.145, SELF t ~ 11.653, TOTAL ~ 781.672\n",
      "#[cam2cam]: training batch iter 0 MPJPE: ~ 443.278 mm\n",
      "#[cam2cam]: training batch iter 1 losses: GEO ~ 6.086, TRANS ~ 66.340, POSE ~ 73597.039, ROTO ~ 7.660, 3D ~ 591.075, SELF R ~ 51.965, SELF t ~ 11.827, TOTAL ~ 761.312\n",
      "#[cam2cam]: training batch iter 1 MPJPE: ~ 414.192 mm\n",
      "#[cam2cam]: training batch iter 2 losses: GEO ~ 6.228, TRANS ~ 67.038, POSE ~ 77413.648, ROTO ~ 7.170, 3D ~ 611.064, SELF R ~ 48.329, SELF t ~ 12.594, TOTAL ~ 785.334\n",
      "#[cam2cam]: training batch iter 2 MPJPE: ~ 406.293 mm\n",
      "#[cam2cam]: training batch iter 3 losses: GEO ~ 5.880, TRANS ~ 65.729, POSE ~ 73372.375, ROTO ~ 7.236, 3D ~ 582.928, SELF R ~ 50.154, SELF t ~ 11.912, TOTAL ~ 752.204\n",
      "#[cam2cam]: training batch iter 3 MPJPE: ~ 430.400 mm\n",
      "#[epoch]: training MPJPE relative to pelvis: 423.541 mm\n",
      "#[epoch]: eval MPJPE relative to pelvis: 449.461 mm\n",
      "#[do_train]: epoch time ~ 2.5\" => 1455 epochs / hour, 34930 epochs / day\n",
      "#[do_train]: epoch    0 complete!\n",
      "#[do_train]: epoch    1 has started!\n",
      "#[cam2cam]: training batch iter 0 losses: GEO ~ 5.946, TRANS ~ 65.947, POSE ~ 72449.547, ROTO ~ 7.364, 3D ~ 601.316, SELF R ~ 52.022, SELF t ~ 11.519, TOTAL ~ 768.531\n",
      "#[cam2cam]: training batch iter 0 MPJPE: ~ 404.923 mm\n",
      "#[cam2cam]: training batch iter 1 losses: GEO ~ 6.065, TRANS ~ 66.000, POSE ~ 73513.750, ROTO ~ 7.715, 3D ~ 587.848, SELF R ~ 53.558, SELF t ~ 11.293, TOTAL ~ 754.336\n",
      "#[cam2cam]: training batch iter 1 MPJPE: ~ 446.017 mm\n",
      "#[cam2cam]: training batch iter 2 losses: GEO ~ 5.950, TRANS ~ 66.820, POSE ~ 82900.516, ROTO ~ 7.697, 3D ~ 619.070, SELF R ~ 51.631, SELF t ~ 11.930, TOTAL ~ 789.998\n",
      "#[cam2cam]: training batch iter 2 MPJPE: ~ 429.392 mm\n",
      "#[cam2cam]: training batch iter 3 losses: GEO ~ 6.162, TRANS ~ 66.289, POSE ~ 72074.867, ROTO ~ 7.883, 3D ~ 589.216, SELF R ~ 55.239, SELF t ~ 11.136, TOTAL ~ 755.816\n",
      "#[cam2cam]: training batch iter 3 MPJPE: ~ 416.708 mm\n",
      "#[epoch]: training MPJPE relative to pelvis: 424.260 mm\n",
      "#[epoch]: eval MPJPE relative to pelvis: 450.422 mm\n",
      "#[do_train]: epoch time ~ 2.5\" => 1443 epochs / hour, 34643 epochs / day\n",
      "#[do_train]: epoch    1 complete!\n",
      "          BB forward x         12 ~        0.0 [min:        0.0,    max:        0.0,    last:        0.0]\n",
      "    evaluate results x          4 ~        0.0 [min:        0.0,    max:        0.0,    last:        0.0]\n",
      "         cam2cam DLT x         12 ~        0.0 [min:        0.0,    max:        0.0,    last:        0.0]\n",
      "     cam2cam forward x         12 ~        0.0 [min:        0.0,    max:        0.0,    last:        0.0]\n",
      "       backward pass x          8 ~        0.1 [min:        0.0,    max:        0.1,    last:        0.0]\n",
      "             do eval x          2 ~        0.6 [min:        0.6,    max:        0.6,    last:        0.6]\n",
      "            do train x          2 ~        1.9 [min:        1.9,    max:        1.9,    last:        1.9]\n",
      "    all times are in seconds\n"
     ]
    }
   ],
   "source": [
    "config = get_config(args)\n",
    "do_train(None, None, config, device, is_distributed, master)"
   ]
  }
 ],
 "metadata": {
  "kernelspec": {
   "display_name": "learnable-triangulation-pytorch",
   "language": "python",
   "name": "learnable-triangulation-pytorch"
  },
  "language_info": {
   "codemirror_mode": {
    "name": "ipython",
    "version": 3
   },
   "file_extension": ".py",
   "mimetype": "text/x-python",
   "name": "python",
   "nbconvert_exporter": "python",
   "pygments_lexer": "ipython3",
   "version": "3.9.4"
  }
 },
 "nbformat": 4,
 "nbformat_minor": 5
}
