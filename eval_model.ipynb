{
 "cells": [
  {
   "cell_type": "code",
   "execution_count": 1,
   "id": "formed-george",
   "metadata": {},
   "outputs": [],
   "source": [
    "%load_ext autoreload\n",
    "%reload_ext autoreload\n",
    "%autoreload 2\n",
    "%matplotlib inline"
   ]
  },
  {
   "cell_type": "code",
   "execution_count": 26,
   "id": "annual-fireplace",
   "metadata": {},
   "outputs": [
    {
     "name": "stdout",
     "output_type": "stream",
     "text": [
      "|===========================================================================|\n",
      "|                  PyTorch CUDA memory summary, device ID 0                 |\n",
      "|---------------------------------------------------------------------------|\n",
      "|            CUDA OOMs: 0            |        cudaMalloc retries: 0         |\n",
      "|===========================================================================|\n",
      "|        Metric         | Cur Usage  | Peak Usage | Tot Alloc  | Tot Freed  |\n",
      "|---------------------------------------------------------------------------|\n",
      "| Allocated memory      |  120599 KB |    1552 MB |   32159 MB |   32041 MB |\n",
      "|       from large pool |  109184 KB |    1472 MB |   31348 MB |   31241 MB |\n",
      "|       from small pool |   11415 KB |      96 MB |     811 MB |     799 MB |\n",
      "|---------------------------------------------------------------------------|\n",
      "| Active memory         |  120599 KB |    1552 MB |   32159 MB |   32041 MB |\n",
      "|       from large pool |  109184 KB |    1472 MB |   31348 MB |   31241 MB |\n",
      "|       from small pool |   11415 KB |      96 MB |     811 MB |     799 MB |\n",
      "|---------------------------------------------------------------------------|\n",
      "| GPU reserved memory   |  241664 KB |    1614 MB |    1654 MB |    1418 MB |\n",
      "|       from large pool |  219136 KB |    1516 MB |    1556 MB |    1342 MB |\n",
      "|       from small pool |   22528 KB |      98 MB |      98 MB |      76 MB |\n",
      "|---------------------------------------------------------------------------|\n",
      "| Non-releasable memory |  121065 KB |  295229 KB |   28901 MB |   28783 MB |\n",
      "|       from large pool |  109952 KB |  290816 KB |   28021 MB |   27913 MB |\n",
      "|       from small pool |   11113 KB |   20116 KB |     880 MB |     869 MB |\n",
      "|---------------------------------------------------------------------------|\n",
      "| Allocations           |     340    |    1215    |   78933    |   78593    |\n",
      "|       from large pool |      20    |     223    |    2022    |    2002    |\n",
      "|       from small pool |     320    |    1008    |   76911    |   76591    |\n",
      "|---------------------------------------------------------------------------|\n",
      "| Active allocs         |     340    |    1215    |   78933    |   78593    |\n",
      "|       from large pool |      20    |     223    |    2022    |    2002    |\n",
      "|       from small pool |     320    |    1008    |   76911    |   76591    |\n",
      "|---------------------------------------------------------------------------|\n",
      "| GPU reserved segments |      19    |      83    |      85    |      66    |\n",
      "|       from large pool |       8    |      34    |      36    |      28    |\n",
      "|       from small pool |      11    |      49    |      49    |      38    |\n",
      "|---------------------------------------------------------------------------|\n",
      "| Non-releasable allocs |      73    |      97    |   44976    |   44903    |\n",
      "|       from large pool |      10    |      16    |     855    |     845    |\n",
      "|       from small pool |      63    |      89    |   44121    |   44058    |\n",
      "|===========================================================================|\n",
      "\n"
     ]
    }
   ],
   "source": [
    "import torch\n",
    "\n",
    "from mvn.utils.minimon import MiniMon\n",
    "from mvn.utils.misc import flush_cache\n",
    "\n",
    "from mvn.ipynb import get_args, get_config, build_labels\n",
    "from train import setup_dataloaders, setup_experiment, build_env, do_train\n",
    "\n",
    "\n",
    "flush_cache()"
   ]
  },
  {
   "cell_type": "code",
   "execution_count": 22,
   "id": "latter-advance",
   "metadata": {},
   "outputs": [
    {
     "name": "stdout",
     "output_type": "stream",
     "text": [
      "using dev cuda:0\n",
      "# available GPUs: 1\n"
     ]
    }
   ],
   "source": [
    "is_distributed = False\n",
    "master = True\n",
    "device = torch.device(0)\n",
    "print('using dev {}'.format(device))\n",
    "    \n",
    "args = get_args()\n",
    "config = get_config(args)\n",
    "# labels, mask, indices = build_labels(config.dataset.train.labels_path, 10000)\n",
    "# labels, mask, indices = build_labels(config.dataset.train.labels_path, 10, allowed_subjects=['S9', 'S11'])"
   ]
  },
  {
   "cell_type": "code",
   "execution_count": 31,
   "id": "dedicated-speech",
   "metadata": {
    "scrolled": false
   },
   "outputs": [
    {
     "name": "stdout",
     "output_type": "stream",
     "text": [
      "  training dataset length: 12\n",
      "  validation dataset length: 5\n",
      "Experiment name: human36m_alg_AlgebraicTriangulationNet@27.04.2021-12:49:57\n",
      "epoch    0 has started!\n",
      "  training MPJPE relative to pelvis: 62830.146 mm\n",
      "  eval MPJPE relative to pelvis: 70113.788 mm\n",
      "epoch    1 has started!\n",
      "  training MPJPE relative to pelvis: 33562.458 mm\n",
      "  eval MPJPE relative to pelvis: 145930.612 mm\n",
      "           calc loss x          4 ~        0.0 [min:        0.0,    max:        0.0,    last:        0.0]\n",
      "  prepare GT cam2cam x          6 ~        0.0 [min:        0.0,    max:        0.0,    last:        0.0]\n",
      "    evaluate results x          4 ~        0.0 [min:        0.0,    max:        0.0,    last:        0.0]\n",
      "cam2cam forward pass x          6 ~        0.0 [min:        0.0,    max:        0.0,    last:        0.0]\n",
      "       alg: backbone x          6 ~        0.0 [min:        0.0,    max:        0.0,    last:        0.0]\n",
      "     BB forward pass x          6 ~        0.0 [min:        0.0,    max:        0.0,    last:        0.0]\n",
      "         cam2cam DLT x          6 ~        0.0 [min:        0.0,    max:        0.0,    last:        0.0]\n",
      "       backward pass x          4 ~        0.0 [min:        0.0,    max:        0.1,    last:        0.0]\n",
      "             do eval x          2 ~        0.6 [min:        0.6,    max:        0.6,    last:        0.6]\n",
      "            do train x          2 ~        1.1 [min:        1.1,    max:        1.1,    last:        1.1]\n",
      "    all times are in seconds\n"
     ]
    }
   ],
   "source": [
    "do_train(None, None, config, device, is_distributed, master)"
   ]
  }
 ],
 "metadata": {
  "kernelspec": {
   "display_name": "learnable-triangulation-pytorch",
   "language": "python",
   "name": "learnable-triangulation-pytorch"
  },
  "language_info": {
   "codemirror_mode": {
    "name": "ipython",
    "version": 3
   },
   "file_extension": ".py",
   "mimetype": "text/x-python",
   "name": "python",
   "nbconvert_exporter": "python",
   "pygments_lexer": "ipython3",
   "version": "3.8.5"
  }
 },
 "nbformat": 4,
 "nbformat_minor": 5
}
