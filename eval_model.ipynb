{
 "cells": [
  {
   "cell_type": "code",
   "execution_count": 1,
   "id": "formed-george",
   "metadata": {},
   "outputs": [],
   "source": [
    "%load_ext autoreload\n",
    "%reload_ext autoreload\n",
    "%autoreload 2\n",
    "%matplotlib inline"
   ]
  },
  {
   "cell_type": "code",
   "execution_count": 37,
   "id": "annual-fireplace",
   "metadata": {},
   "outputs": [
    {
     "name": "stdout",
     "output_type": "stream",
     "text": [
      "|===========================================================================|\n",
      "|                  PyTorch CUDA memory summary, device ID 0                 |\n",
      "|---------------------------------------------------------------------------|\n",
      "|            CUDA OOMs: 0            |        cudaMalloc retries: 0         |\n",
      "|===========================================================================|\n",
      "|        Metric         | Cur Usage  | Peak Usage | Tot Alloc  | Tot Freed  |\n",
      "|---------------------------------------------------------------------------|\n",
      "| Allocated memory      |   60654 KB |     768 MB |  104901 MB |  104842 MB |\n",
      "|       from large pool |   55040 KB |     707 MB |  101279 MB |  101225 MB |\n",
      "|       from small pool |    5614 KB |      69 MB |    3622 MB |    3616 MB |\n",
      "|---------------------------------------------------------------------------|\n",
      "| Active memory         |   60654 KB |     768 MB |  104901 MB |  104842 MB |\n",
      "|       from large pool |   55040 KB |     707 MB |  101279 MB |  101225 MB |\n",
      "|       from small pool |    5614 KB |      69 MB |    3622 MB |    3616 MB |\n",
      "|---------------------------------------------------------------------------|\n",
      "| GPU reserved memory   |  198656 KB |     886 MB |     886 MB |  708608 KB |\n",
      "|       from large pool |  180224 KB |     814 MB |     814 MB |  653312 KB |\n",
      "|       from small pool |   18432 KB |      72 MB |      72 MB |   55296 KB |\n",
      "|---------------------------------------------------------------------------|\n",
      "| Non-releasable memory |  138002 KB |  365820 KB |  111649 MB |  111514 MB |\n",
      "|       from large pool |  125184 KB |  352128 KB |  107419 MB |  107297 MB |\n",
      "|       from small pool |   12818 KB |   22712 KB |    4229 MB |    4217 MB |\n",
      "|---------------------------------------------------------------------------|\n",
      "| Allocations           |     160    |    1629    |  110626    |  110466    |\n",
      "|       from large pool |      10    |     114    |    8142    |    8132    |\n",
      "|       from small pool |     150    |    1518    |  102484    |  102334    |\n",
      "|---------------------------------------------------------------------------|\n",
      "| Active allocs         |     160    |    1629    |  110626    |  110466    |\n",
      "|       from large pool |      10    |     114    |    8142    |    8132    |\n",
      "|       from small pool |     150    |    1518    |  102484    |  102334    |\n",
      "|---------------------------------------------------------------------------|\n",
      "| GPU reserved segments |      11    |      54    |      54    |      43    |\n",
      "|       from large pool |       2    |      18    |      18    |      16    |\n",
      "|       from small pool |       9    |      36    |      36    |      27    |\n",
      "|---------------------------------------------------------------------------|\n",
      "| Non-releasable allocs |      14    |      74    |   53197    |   53183    |\n",
      "|       from large pool |       3    |      16    |    3875    |    3872    |\n",
      "|       from small pool |      11    |      61    |   49322    |   49311    |\n",
      "|===========================================================================|\n",
      "\n"
     ]
    }
   ],
   "source": [
    "import torch\n",
    "\n",
    "from mvn.utils.minimon import MiniMon\n",
    "from mvn.utils.misc import flush_cache\n",
    "\n",
    "from mvn.ipynb import get_args, get_config, build_labels\n",
    "from train import setup_dataloaders, setup_experiment, build_env, do_train\n",
    "\n",
    "\n",
    "flush_cache()"
   ]
  },
  {
   "cell_type": "code",
   "execution_count": 38,
   "id": "latter-advance",
   "metadata": {},
   "outputs": [
    {
     "name": "stdout",
     "output_type": "stream",
     "text": [
      "using dev cuda:0\n",
      "# available GPUs: 1\n"
     ]
    }
   ],
   "source": [
    "is_distributed = False\n",
    "master = True\n",
    "device = torch.device(0)\n",
    "print('using dev {}'.format(device))\n",
    "    \n",
    "args = get_args()\n",
    "\n",
    "# just to get a feeling of the dataset\n",
    "# labels, mask, indices = build_labels(config.dataset.train.labels_path, 10000)\n",
    "# labels, mask, indices = build_labels(config.dataset.train.labels_path, 10, allowed_subjects=['S9', 'S11'])"
   ]
  },
  {
   "cell_type": "code",
   "execution_count": 44,
   "id": "dedicated-speech",
   "metadata": {
    "scrolled": false
   },
   "outputs": [
    {
     "name": "stdout",
     "output_type": "stream",
     "text": [
      "  training dataset length: 12\n",
      "  validation dataset length: 5\n",
      "Experiment name: human36m_alg_AlgebraicTriangulationNet@30.04.2021-18:36:22\n",
      "epoch    0 has started!\n",
      "tensor(2.3812, device='cuda:0', grad_fn=<AddBackward0>)\n",
      "   tensor(8.9431, device='cuda:0', grad_fn=<AddBackward0>)\n",
      "tensor(11.1730, device='cuda:0', grad_fn=<AddBackward0>)\n",
      "   tensor(18.7223, device='cuda:0', grad_fn=<AddBackward0>)\n",
      "tensor(21.4103, device='cuda:0', grad_fn=<AddBackward0>)\n",
      "   tensor(29.4229, device='cuda:0', grad_fn=<AddBackward0>)\n",
      "tensor(32.0396, device='cuda:0', grad_fn=<AddBackward0>)\n",
      "   tensor(39.9246, device='cuda:0', grad_fn=<AddBackward0>)\n",
      "tensor(42.5908, device='cuda:0', grad_fn=<AddBackward0>)\n",
      "   tensor(49.5100, device='cuda:0', grad_fn=<AddBackward0>)\n",
      "tensor(51.8693, device='cuda:0', grad_fn=<AddBackward0>)\n",
      "   tensor(58.6122, device='cuda:0', grad_fn=<AddBackward0>)\n",
      "tensor(61.3207, device='cuda:0', grad_fn=<AddBackward0>)\n",
      "   tensor(68.8271, device='cuda:0', grad_fn=<AddBackward0>)\n",
      "tensor(71.3609, device='cuda:0', grad_fn=<AddBackward0>)\n",
      "   tensor(79.2038, device='cuda:0', grad_fn=<AddBackward0>)\n",
      "  training batch iter 0 loss ~ 79.204\n",
      "tensor(2.3752, device='cuda:0', grad_fn=<AddBackward0>)\n",
      "   tensor(8.4076, device='cuda:0', grad_fn=<AddBackward0>)\n",
      "tensor(10.7234, device='cuda:0', grad_fn=<AddBackward0>)\n",
      "   tensor(17.1215, device='cuda:0', grad_fn=<AddBackward0>)\n",
      "tensor(19.3679, device='cuda:0', grad_fn=<AddBackward0>)\n",
      "   tensor(25.2257, device='cuda:0', grad_fn=<AddBackward0>)\n",
      "tensor(27.7557, device='cuda:0', grad_fn=<AddBackward0>)\n",
      "   tensor(33.6993, device='cuda:0', grad_fn=<AddBackward0>)\n",
      "  training batch iter 1 loss ~ 33.699\n",
      "  training MPJPE relative to pelvis: 82774.198 mm\n",
      "  eval MPJPE relative to pelvis: 34721.606 mm\n",
      "epoch    1 has started!\n",
      "tensor(2.1552, device='cuda:0', grad_fn=<AddBackward0>)\n",
      "   tensor(7.1622, device='cuda:0', grad_fn=<AddBackward0>)\n",
      "tensor(9.3701, device='cuda:0', grad_fn=<AddBackward0>)\n",
      "   tensor(14.3276, device='cuda:0', grad_fn=<AddBackward0>)\n",
      "tensor(16.4838, device='cuda:0', grad_fn=<AddBackward0>)\n",
      "   tensor(21.4585, device='cuda:0', grad_fn=<AddBackward0>)\n",
      "tensor(23.5462, device='cuda:0', grad_fn=<AddBackward0>)\n",
      "   tensor(29.4311, device='cuda:0', grad_fn=<AddBackward0>)\n",
      "tensor(31.5658, device='cuda:0', grad_fn=<AddBackward0>)\n",
      "   tensor(37.2041, device='cuda:0', grad_fn=<AddBackward0>)\n",
      "tensor(39.3863, device='cuda:0', grad_fn=<AddBackward0>)\n",
      "   tensor(45.1622, device='cuda:0', grad_fn=<AddBackward0>)\n",
      "tensor(47.3520, device='cuda:0', grad_fn=<AddBackward0>)\n",
      "   tensor(52.2981, device='cuda:0', grad_fn=<AddBackward0>)\n",
      "tensor(54.5512, device='cuda:0', grad_fn=<AddBackward0>)\n",
      "   tensor(59.6321, device='cuda:0', grad_fn=<AddBackward0>)\n",
      "  training batch iter 0 loss ~ 59.632\n",
      "tensor(2.1524, device='cuda:0', grad_fn=<AddBackward0>)\n",
      "   tensor(6.1051, device='cuda:0', grad_fn=<AddBackward0>)\n",
      "tensor(8.2379, device='cuda:0', grad_fn=<AddBackward0>)\n",
      "   tensor(12.5954, device='cuda:0', grad_fn=<AddBackward0>)\n",
      "tensor(14.7766, device='cuda:0', grad_fn=<AddBackward0>)\n",
      "   tensor(19.3290, device='cuda:0', grad_fn=<AddBackward0>)\n",
      "tensor(21.4366, device='cuda:0', grad_fn=<AddBackward0>)\n",
      "   tensor(25.9058, device='cuda:0', grad_fn=<AddBackward0>)\n",
      "  training batch iter 1 loss ~ 25.906\n",
      "  training MPJPE relative to pelvis: 28350.591 mm\n",
      "  eval MPJPE relative to pelvis: 19411.917 mm\n",
      "    evaluate results x          4 ~        0.0 [min:        0.0,    max:        0.0,    last:        0.0]\n",
      "  prepare GT cam2cam x          6 ~        0.0 [min:        0.0,    max:        0.0,    last:        0.0]\n",
      "       alg: backbone x          6 ~        0.0 [min:        0.0,    max:        0.0,    last:        0.0]\n",
      "cam2cam forward pass x          6 ~        0.0 [min:        0.0,    max:        0.1,    last:        0.0]\n",
      "           calc loss x          4 ~        0.0 [min:        0.0,    max:        0.0,    last:        0.0]\n",
      "     BB forward pass x          6 ~        0.0 [min:        0.0,    max:        0.0,    last:        0.0]\n",
      "       backward pass x          4 ~        0.0 [min:        0.0,    max:        0.0,    last:        0.0]\n",
      "         cam2cam DLT x          6 ~        0.1 [min:        0.0,    max:        0.1,    last:        0.0]\n",
      "             do eval x          2 ~        0.6 [min:        0.6,    max:        0.6,    last:        0.6]\n",
      "            do train x          2 ~        1.1 [min:        1.1,    max:        1.1,    last:        1.1]\n",
      "    all times are in seconds\n"
     ]
    }
   ],
   "source": [
    "config = get_config(args)\n",
    "do_train(None, None, config, device, is_distributed, master)"
   ]
  }
 ],
 "metadata": {
  "kernelspec": {
   "display_name": "learnable-triangulation-pytorch",
   "language": "python",
   "name": "learnable-triangulation-pytorch"
  },
  "language_info": {
   "codemirror_mode": {
    "name": "ipython",
    "version": 3
   },
   "file_extension": ".py",
   "mimetype": "text/x-python",
   "name": "python",
   "nbconvert_exporter": "python",
   "pygments_lexer": "ipython3",
   "version": "3.8.5"
  }
 },
 "nbformat": 4,
 "nbformat_minor": 5
}
