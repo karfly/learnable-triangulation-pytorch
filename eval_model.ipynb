{
 "cells": [
  {
   "cell_type": "code",
   "execution_count": 1,
   "id": "formed-george",
   "metadata": {},
   "outputs": [],
   "source": [
    "%load_ext autoreload\n",
    "%reload_ext autoreload\n",
    "%autoreload 2\n",
    "%matplotlib inline"
   ]
  },
  {
   "cell_type": "code",
   "execution_count": 2,
   "id": "annual-fireplace",
   "metadata": {},
   "outputs": [],
   "source": [
    "import torch\n",
    "from torch import nn\n",
    "\n",
    "from mvn.utils.minimon import MiniMon\n",
    "from mvn.utils.misc import flush_cache\n",
    "\n",
    "from mvn.ipynb import get_args, get_config, build_labels\n",
    "from mvn.pipeline.setup import setup_dataloaders, setup_experiment, build_env\n",
    "from mvn.pipeline.training import do_train"
   ]
  },
  {
   "cell_type": "code",
   "execution_count": 3,
   "id": "latter-advance",
   "metadata": {},
   "outputs": [
    {
     "name": "stdout",
     "output_type": "stream",
     "text": [
      "|===========================================================================|\n",
      "|                  PyTorch CUDA memory summary, device ID 0                 |\n",
      "|---------------------------------------------------------------------------|\n",
      "|            CUDA OOMs: 0            |        cudaMalloc retries: 0         |\n",
      "|===========================================================================|\n",
      "|        Metric         | Cur Usage  | Peak Usage | Tot Alloc  | Tot Freed  |\n",
      "|---------------------------------------------------------------------------|\n",
      "| Allocated memory      |       0 B  |       0 B  |       0 B  |       0 B  |\n",
      "|       from large pool |       0 B  |       0 B  |       0 B  |       0 B  |\n",
      "|       from small pool |       0 B  |       0 B  |       0 B  |       0 B  |\n",
      "|---------------------------------------------------------------------------|\n",
      "| Active memory         |       0 B  |       0 B  |       0 B  |       0 B  |\n",
      "|       from large pool |       0 B  |       0 B  |       0 B  |       0 B  |\n",
      "|       from small pool |       0 B  |       0 B  |       0 B  |       0 B  |\n",
      "|---------------------------------------------------------------------------|\n",
      "| GPU reserved memory   |       0 B  |       0 B  |       0 B  |       0 B  |\n",
      "|       from large pool |       0 B  |       0 B  |       0 B  |       0 B  |\n",
      "|       from small pool |       0 B  |       0 B  |       0 B  |       0 B  |\n",
      "|---------------------------------------------------------------------------|\n",
      "| Non-releasable memory |       0 B  |       0 B  |       0 B  |       0 B  |\n",
      "|       from large pool |       0 B  |       0 B  |       0 B  |       0 B  |\n",
      "|       from small pool |       0 B  |       0 B  |       0 B  |       0 B  |\n",
      "|---------------------------------------------------------------------------|\n",
      "| Allocations           |       0    |       0    |       0    |       0    |\n",
      "|       from large pool |       0    |       0    |       0    |       0    |\n",
      "|       from small pool |       0    |       0    |       0    |       0    |\n",
      "|---------------------------------------------------------------------------|\n",
      "| Active allocs         |       0    |       0    |       0    |       0    |\n",
      "|       from large pool |       0    |       0    |       0    |       0    |\n",
      "|       from small pool |       0    |       0    |       0    |       0    |\n",
      "|---------------------------------------------------------------------------|\n",
      "| GPU reserved segments |       0    |       0    |       0    |       0    |\n",
      "|       from large pool |       0    |       0    |       0    |       0    |\n",
      "|       from small pool |       0    |       0    |       0    |       0    |\n",
      "|---------------------------------------------------------------------------|\n",
      "| Non-releasable allocs |       0    |       0    |       0    |       0    |\n",
      "|       from large pool |       0    |       0    |       0    |       0    |\n",
      "|       from small pool |       0    |       0    |       0    |       0    |\n",
      "|===========================================================================|\n",
      "\n",
      "using dev cuda:0\n",
      "# available GPUs: 1\n"
     ]
    }
   ],
   "source": [
    "flush_cache()\n",
    "\n",
    "is_distributed = False\n",
    "master = True\n",
    "device = torch.device(0)\n",
    "print('using dev {}'.format(device))\n",
    "    \n",
    "args = get_args()\n",
    "\n",
    "# just to get a feeling of the dataset\n",
    "# labels, mask, indices = build_labels(config.dataset.train.labels_path, 10000)\n",
    "# labels, mask, indices = build_labels(config.dataset.train.labels_path, 10, allowed_subjects=['S9', 'S11'])"
   ]
  },
  {
   "cell_type": "code",
   "execution_count": 47,
   "id": "dedicated-speech",
   "metadata": {
    "scrolled": false
   },
   "outputs": [
    {
     "name": "stdout",
     "output_type": "stream",
     "text": [
      "cam2cam model (res):\n",
      "                    R_backbone has       1750 params (~ 50.7) %\n",
      "                    t_backbone has       1699 params (~ 49.3) %\n",
      "total params:                 3449\n",
      "cam2cam estimation => adding 3449 params to grad ...\n",
      "  training dataset length: 12\n",
      "  validation dataset length: 5\n",
      "Experiment name: human36m_alg_AlgebraicTriangulationNet@14.05.2021-20:28:15\n",
      "#[do_train]: epoch    0 has started!\n",
      "#[cam2cam]: training batch iter 0 losses: GEO ~ 7.097, TRANS ~ 62.711, POSE ~ 94384.086, ROTO ~ 9.530, 3D ~ 705.038, SELF R ~ 65.038, SELF t ~ 8672.619, TOTAL ~ 87496.266\n",
      "#[cam2cam]: training batch iter 0 MPJPE: ~ 11939.130 mm\n",
      "#[cam2cam]: training batch iter 1 losses: GEO ~ 6.267, TRANS ~ 61.544, POSE ~ 85158.328, ROTO ~ 9.579, 3D ~ 636.847, SELF R ~ 67.102, SELF t ~ 7379.306, TOTAL ~ 74497.000\n",
      "#[cam2cam]: training batch iter 1 MPJPE: ~ 438.912 mm\n",
      "#[cam2cam]: training batch iter 2 losses: GEO ~ 6.322, TRANS ~ 59.215, POSE ~ 74753.062, ROTO ~ 9.742, 3D ~ 585.672, SELF R ~ 61.834, SELF t ~ 5051.555, TOTAL ~ 51163.059\n",
      "#[cam2cam]: training batch iter 2 MPJPE: ~ 432.503 mm\n",
      "#[cam2cam]: training batch iter 3 losses: GEO ~ 6.191, TRANS ~ 59.627, POSE ~ 75642.461, ROTO ~ 9.838, 3D ~ 614.614, SELF R ~ 64.228, SELF t ~ 3883.619, TOTAL ~ 39515.027\n",
      "#[cam2cam]: training batch iter 3 MPJPE: ~ 428.694 mm\n",
      "#[epoch]: training MPJPE relative to pelvis: 3309.810 mm\n",
      "#[epoch]: eval MPJPE relative to pelvis: 1872.428 mm\n",
      "#[do_train]: epoch time ~ 3.6\" => 1011 epochs / hour, 24259 epochs / day\n",
      "#[do_train]: epoch    0 complete!\n",
      "#[do_train]: epoch    1 has started!\n",
      "#[cam2cam]: training batch iter 0 losses: GEO ~ 6.681, TRANS ~ 63.045, POSE ~ 80963.969, ROTO ~ 9.722, 3D ~ 621.154, SELF R ~ 68.077, SELF t ~ 6567.334, TOTAL ~ 66362.578\n",
      "#[cam2cam]: training batch iter 0 MPJPE: ~ 427.876 mm\n",
      "#[cam2cam]: training batch iter 1 losses: GEO ~ 6.392, TRANS ~ 60.120, POSE ~ 75806.938, ROTO ~ 9.927, 3D ~ 618.790, SELF R ~ 61.945, SELF t ~ 3941.015, TOTAL ~ 40090.887\n",
      "#[cam2cam]: training batch iter 1 MPJPE: ~ 406.598 mm\n",
      "#[cam2cam]: training batch iter 2 losses: GEO ~ 6.745, TRANS ~ 61.061, POSE ~ 81574.625, ROTO ~ 9.749, 3D ~ 607.878, SELF R ~ 60.715, SELF t ~ 4991.427, TOTAL ~ 50582.859\n",
      "#[cam2cam]: training batch iter 2 MPJPE: ~ 455.071 mm\n",
      "#[cam2cam]: training batch iter 3 losses: GEO ~ 5.653, TRANS ~ 60.154, POSE ~ 77790.609, ROTO ~ 9.085, 3D ~ 614.077, SELF R ~ 65.042, SELF t ~ 6896.100, TOTAL ~ 69640.117\n",
      "#[cam2cam]: training batch iter 3 MPJPE: ~ 403.548 mm\n",
      "#[epoch]: training MPJPE relative to pelvis: 423.273 mm\n",
      "#[epoch]: eval MPJPE relative to pelvis: 684.048 mm\n",
      "#[do_train]: epoch time ~ 3.5\" => 1023 epochs / hour, 24549 epochs / day\n",
      "#[do_train]: epoch    1 complete!\n",
      "          BB forward x         12 ~        0.0 [min:        0.0,    max:        0.0,    last:        0.0]\n",
      "    evaluate results x          4 ~        0.0 [min:        0.0,    max:        0.0,    last:        0.0]\n",
      "     cam2cam forward x         12 ~        0.0 [min:        0.0,    max:        0.0,    last:        0.0]\n",
      "         cam2cam DLT x         12 ~        0.0 [min:        0.0,    max:        0.0,    last:        0.0]\n",
      "       backward pass x          8 ~        0.1 [min:        0.1,    max:        0.1,    last:        0.1]\n",
      "             do eval x          2 ~        0.9 [min:        0.8,    max:        0.9,    last:        0.8]\n",
      "            do train x          2 ~        2.7 [min:        2.6,    max:        2.7,    last:        2.6]\n",
      "    all times are in seconds\n"
     ]
    }
   ],
   "source": [
    "config = get_config(args)\n",
    "do_train(None, None, config, device, is_distributed, master)"
   ]
  }
 ],
 "metadata": {
  "kernelspec": {
   "display_name": "learnable-triangulation-pytorch",
   "language": "python",
   "name": "learnable-triangulation-pytorch"
  },
  "language_info": {
   "codemirror_mode": {
    "name": "ipython",
    "version": 3
   },
   "file_extension": ".py",
   "mimetype": "text/x-python",
   "name": "python",
   "nbconvert_exporter": "python",
   "pygments_lexer": "ipython3",
   "version": "3.8.5"
  }
 },
 "nbformat": 4,
 "nbformat_minor": 5
}
