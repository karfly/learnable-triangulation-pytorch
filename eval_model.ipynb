{
 "cells": [
  {
   "cell_type": "code",
   "execution_count": 1,
   "id": "formed-george",
   "metadata": {},
   "outputs": [],
   "source": [
    "%load_ext autoreload\n",
    "%reload_ext autoreload\n",
    "%autoreload 2\n",
    "%matplotlib inline"
   ]
  },
  {
   "cell_type": "code",
   "execution_count": 2,
   "id": "annual-fireplace",
   "metadata": {},
   "outputs": [],
   "source": [
    "import torch\n",
    "from torch import nn\n",
    "\n",
    "from mvn.utils.minimon import MiniMon\n",
    "from mvn.utils.misc import flush_cache\n",
    "\n",
    "from mvn.ipynb import get_args, get_config, build_labels\n",
    "from mvn.pipeline.setup import setup_dataloaders, setup_experiment, build_env\n",
    "from mvn.pipeline.training import do_train"
   ]
  },
  {
   "cell_type": "code",
   "execution_count": 3,
   "id": "latter-advance",
   "metadata": {
    "scrolled": true
   },
   "outputs": [
    {
     "name": "stdout",
     "output_type": "stream",
     "text": [
      "|===========================================================================|\n",
      "|                  PyTorch CUDA memory summary, device ID 0                 |\n",
      "|---------------------------------------------------------------------------|\n",
      "|            CUDA OOMs: 0            |        cudaMalloc retries: 0         |\n",
      "|===========================================================================|\n",
      "|        Metric         | Cur Usage  | Peak Usage | Tot Alloc  | Tot Freed  |\n",
      "|---------------------------------------------------------------------------|\n",
      "| Allocated memory      |       0 B  |       0 B  |       0 B  |       0 B  |\n",
      "|       from large pool |       0 B  |       0 B  |       0 B  |       0 B  |\n",
      "|       from small pool |       0 B  |       0 B  |       0 B  |       0 B  |\n",
      "|---------------------------------------------------------------------------|\n",
      "| Active memory         |       0 B  |       0 B  |       0 B  |       0 B  |\n",
      "|       from large pool |       0 B  |       0 B  |       0 B  |       0 B  |\n",
      "|       from small pool |       0 B  |       0 B  |       0 B  |       0 B  |\n",
      "|---------------------------------------------------------------------------|\n",
      "| GPU reserved memory   |       0 B  |       0 B  |       0 B  |       0 B  |\n",
      "|       from large pool |       0 B  |       0 B  |       0 B  |       0 B  |\n",
      "|       from small pool |       0 B  |       0 B  |       0 B  |       0 B  |\n",
      "|---------------------------------------------------------------------------|\n",
      "| Non-releasable memory |       0 B  |       0 B  |       0 B  |       0 B  |\n",
      "|       from large pool |       0 B  |       0 B  |       0 B  |       0 B  |\n",
      "|       from small pool |       0 B  |       0 B  |       0 B  |       0 B  |\n",
      "|---------------------------------------------------------------------------|\n",
      "| Allocations           |       0    |       0    |       0    |       0    |\n",
      "|       from large pool |       0    |       0    |       0    |       0    |\n",
      "|       from small pool |       0    |       0    |       0    |       0    |\n",
      "|---------------------------------------------------------------------------|\n",
      "| Active allocs         |       0    |       0    |       0    |       0    |\n",
      "|       from large pool |       0    |       0    |       0    |       0    |\n",
      "|       from small pool |       0    |       0    |       0    |       0    |\n",
      "|---------------------------------------------------------------------------|\n",
      "| GPU reserved segments |       0    |       0    |       0    |       0    |\n",
      "|       from large pool |       0    |       0    |       0    |       0    |\n",
      "|       from small pool |       0    |       0    |       0    |       0    |\n",
      "|---------------------------------------------------------------------------|\n",
      "| Non-releasable allocs |       0    |       0    |       0    |       0    |\n",
      "|       from large pool |       0    |       0    |       0    |       0    |\n",
      "|       from small pool |       0    |       0    |       0    |       0    |\n",
      "|===========================================================================|\n",
      "\n",
      "using dev cuda:0\n",
      "# available GPUs: 1\n"
     ]
    }
   ],
   "source": [
    "flush_cache()\n",
    "\n",
    "is_distributed = False\n",
    "master = True\n",
    "device = torch.device(0)\n",
    "print('using dev {}'.format(device))\n",
    "    \n",
    "args = get_args()\n",
    "\n",
    "# just to get a feeling of the dataset\n",
    "# labels, mask, indices = build_labels(config.dataset.train.labels_path, 10000)\n",
    "# labels, mask, indices = build_labels(config.dataset.train.labels_path, 10, allowed_subjects=['S9', 'S11'])"
   ]
  },
  {
   "cell_type": "code",
   "execution_count": 7,
   "id": "dedicated-speech",
   "metadata": {
    "scrolled": false
   },
   "outputs": [
    {
     "name": "stdout",
     "output_type": "stream",
     "text": [
      "cam2cam model (shared):\n",
      "                      backbone has      10896 params (~  0.1) %\n",
      "                    R_backbone has    5716486 params (~ 76.2) %\n",
      "                    t_backbone has    1774339 params (~ 23.7) %\n",
      "total params:              7501721\n",
      "cam2cam estimation => adding 7501721 params to grad ...\n",
      "  training dataset length: 12\n",
      "  validation dataset length: 5\n",
      "Experiment name: human36m_alg_AlgebraicTriangulationNet@17.05.2021-18:54:08\n",
      "#[do_train]: epoch    0 has started!\n",
      "#[cam2cam]: training batch iter 0 losses: GEO ~ 0.001, TRANS ~ 0.000, POSE ~ 0.002, ROTO ~ 0.000, 3D ~ 0.000, SELF R ~ 0.000, SELF t ~ 0.000, TOTAL ~ 0.007\n",
      "#[cam2cam]: training batch iter 0 MPJPE: ~ 0.075 mm\n",
      "#[cam2cam]: cannot backpropagate ... are you cheating?\n",
      "#[cam2cam]: training batch iter 1 losses: GEO ~ 0.001, TRANS ~ 0.000, POSE ~ 0.003, ROTO ~ 0.000, 3D ~ 0.000, SELF R ~ 0.000, SELF t ~ 0.000, TOTAL ~ 0.006\n",
      "#[cam2cam]: training batch iter 1 MPJPE: ~ 0.073 mm\n",
      "#[cam2cam]: cannot backpropagate ... are you cheating?\n",
      "#[cam2cam]: training batch iter 2 losses: GEO ~ 0.000, TRANS ~ 0.000, POSE ~ 0.004, ROTO ~ 0.000, 3D ~ 0.000, SELF R ~ 0.000, SELF t ~ 0.000, TOTAL ~ 0.002\n",
      "#[cam2cam]: training batch iter 2 MPJPE: ~ 0.085 mm\n",
      "#[cam2cam]: cannot backpropagate ... are you cheating?\n",
      "#[cam2cam]: training batch iter 3 losses: GEO ~ 0.000, TRANS ~ 0.000, POSE ~ 0.003, ROTO ~ 0.000, 3D ~ 0.000, SELF R ~ 0.000, SELF t ~ 0.000, TOTAL ~ 0.002\n",
      "#[cam2cam]: training batch iter 3 MPJPE: ~ 0.065 mm\n",
      "#[cam2cam]: cannot backpropagate ... are you cheating?\n",
      "#[epoch]: training MPJPE relative to pelvis: 0.075 mm\n",
      "#[epoch]: eval MPJPE relative to pelvis: 0.088 mm\n",
      "#[do_train]: epoch time ~ 2.3\" => 1581 epochs / hour, 37932 epochs / day\n",
      "#[do_train]: epoch    0 complete!\n",
      "#[do_train]: epoch    1 has started!\n",
      "#[cam2cam]: training batch iter 0 losses: GEO ~ 0.001, TRANS ~ 0.000, POSE ~ 0.004, ROTO ~ 0.000, 3D ~ 0.000, SELF R ~ 0.000, SELF t ~ 0.000, TOTAL ~ 0.007\n",
      "#[cam2cam]: training batch iter 0 MPJPE: ~ 0.097 mm\n",
      "#[cam2cam]: cannot backpropagate ... are you cheating?\n",
      "#[cam2cam]: training batch iter 1 losses: GEO ~ 0.000, TRANS ~ 0.000, POSE ~ 0.004, ROTO ~ 0.000, 3D ~ 0.000, SELF R ~ 0.000, SELF t ~ 0.000, TOTAL ~ 0.000\n",
      "#[cam2cam]: training batch iter 1 MPJPE: ~ 0.072 mm\n",
      "#[cam2cam]: cannot backpropagate ... are you cheating?\n",
      "#[cam2cam]: training batch iter 2 losses: GEO ~ 0.001, TRANS ~ 0.000, POSE ~ 0.002, ROTO ~ 0.000, 3D ~ 0.000, SELF R ~ 0.000, SELF t ~ 0.000, TOTAL ~ 0.007\n",
      "#[cam2cam]: training batch iter 2 MPJPE: ~ 0.057 mm\n",
      "#[cam2cam]: cannot backpropagate ... are you cheating?\n",
      "#[cam2cam]: training batch iter 3 losses: GEO ~ 0.000, TRANS ~ 0.000, POSE ~ 0.002, ROTO ~ 0.000, 3D ~ 0.000, SELF R ~ 0.000, SELF t ~ 0.000, TOTAL ~ 0.002\n",
      "#[cam2cam]: training batch iter 3 MPJPE: ~ 0.072 mm\n",
      "#[cam2cam]: cannot backpropagate ... are you cheating?\n",
      "#[epoch]: training MPJPE relative to pelvis: 0.075 mm\n",
      "#[epoch]: eval MPJPE relative to pelvis: 0.088 mm\n",
      "#[do_train]: epoch time ~ 2.3\" => 1577 epochs / hour, 37838 epochs / day\n",
      "#[do_train]: epoch    1 complete!\n",
      "       backward pass x          8 ~        0.0 [min:        0.0,    max:        0.0,    last:        0.0]\n",
      "          BB forward x         12 ~        0.0 [min:        0.0,    max:        0.0,    last:        0.0]\n",
      "    evaluate results x          4 ~        0.0 [min:        0.0,    max:        0.0,    last:        0.0]\n",
      "         cam2cam DLT x         12 ~        0.0 [min:        0.0,    max:        0.0,    last:        0.0]\n",
      "     cam2cam forward x         12 ~        0.0 [min:        0.0,    max:        0.0,    last:        0.0]\n",
      "             do eval x          2 ~        0.6 [min:        0.6,    max:        0.6,    last:        0.6]\n",
      "            do train x          2 ~        1.7 [min:        1.6,    max:        1.7,    last:        1.7]\n",
      "    all times are in seconds\n"
     ]
    }
   ],
   "source": [
    "config = get_config(args)\n",
    "do_train(None, None, config, device, is_distributed, master)"
   ]
  }
 ],
 "metadata": {
  "kernelspec": {
   "display_name": "learnable-triangulation-pytorch",
   "language": "python",
   "name": "learnable-triangulation-pytorch"
  },
  "language_info": {
   "codemirror_mode": {
    "name": "ipython",
    "version": 3
   },
   "file_extension": ".py",
   "mimetype": "text/x-python",
   "name": "python",
   "nbconvert_exporter": "python",
   "pygments_lexer": "ipython3",
   "version": "3.9.4"
  }
 },
 "nbformat": 4,
 "nbformat_minor": 5
}
