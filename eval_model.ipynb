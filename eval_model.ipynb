{
 "cells": [
  {
   "cell_type": "code",
   "execution_count": 1,
   "id": "formed-george",
   "metadata": {},
   "outputs": [],
   "source": [
    "%load_ext autoreload\n",
    "%reload_ext autoreload\n",
    "%autoreload 2\n",
    "%matplotlib inline"
   ]
  },
  {
   "cell_type": "code",
   "execution_count": 2,
   "id": "annual-fireplace",
   "metadata": {},
   "outputs": [],
   "source": [
    "import torch\n",
    "from torch import nn\n",
    "\n",
    "from mvn.utils.minimon import MiniMon\n",
    "from mvn.utils.misc import flush_cache\n",
    "\n",
    "from mvn.ipynb import get_args, get_config, build_labels\n",
    "from mvn.pipeline.setup import setup_dataloaders, setup_experiment, build_env\n",
    "from mvn.pipeline.training import do_train"
   ]
  },
  {
   "cell_type": "code",
   "execution_count": 3,
   "id": "latter-advance",
   "metadata": {},
   "outputs": [
    {
     "name": "stdout",
     "output_type": "stream",
     "text": [
      "|===========================================================================|\n",
      "|                  PyTorch CUDA memory summary, device ID 0                 |\n",
      "|---------------------------------------------------------------------------|\n",
      "|            CUDA OOMs: 0            |        cudaMalloc retries: 0         |\n",
      "|===========================================================================|\n",
      "|        Metric         | Cur Usage  | Peak Usage | Tot Alloc  | Tot Freed  |\n",
      "|---------------------------------------------------------------------------|\n",
      "| Allocated memory      |       0 B  |       0 B  |       0 B  |       0 B  |\n",
      "|       from large pool |       0 B  |       0 B  |       0 B  |       0 B  |\n",
      "|       from small pool |       0 B  |       0 B  |       0 B  |       0 B  |\n",
      "|---------------------------------------------------------------------------|\n",
      "| Active memory         |       0 B  |       0 B  |       0 B  |       0 B  |\n",
      "|       from large pool |       0 B  |       0 B  |       0 B  |       0 B  |\n",
      "|       from small pool |       0 B  |       0 B  |       0 B  |       0 B  |\n",
      "|---------------------------------------------------------------------------|\n",
      "| GPU reserved memory   |       0 B  |       0 B  |       0 B  |       0 B  |\n",
      "|       from large pool |       0 B  |       0 B  |       0 B  |       0 B  |\n",
      "|       from small pool |       0 B  |       0 B  |       0 B  |       0 B  |\n",
      "|---------------------------------------------------------------------------|\n",
      "| Non-releasable memory |       0 B  |       0 B  |       0 B  |       0 B  |\n",
      "|       from large pool |       0 B  |       0 B  |       0 B  |       0 B  |\n",
      "|       from small pool |       0 B  |       0 B  |       0 B  |       0 B  |\n",
      "|---------------------------------------------------------------------------|\n",
      "| Allocations           |       0    |       0    |       0    |       0    |\n",
      "|       from large pool |       0    |       0    |       0    |       0    |\n",
      "|       from small pool |       0    |       0    |       0    |       0    |\n",
      "|---------------------------------------------------------------------------|\n",
      "| Active allocs         |       0    |       0    |       0    |       0    |\n",
      "|       from large pool |       0    |       0    |       0    |       0    |\n",
      "|       from small pool |       0    |       0    |       0    |       0    |\n",
      "|---------------------------------------------------------------------------|\n",
      "| GPU reserved segments |       0    |       0    |       0    |       0    |\n",
      "|       from large pool |       0    |       0    |       0    |       0    |\n",
      "|       from small pool |       0    |       0    |       0    |       0    |\n",
      "|---------------------------------------------------------------------------|\n",
      "| Non-releasable allocs |       0    |       0    |       0    |       0    |\n",
      "|       from large pool |       0    |       0    |       0    |       0    |\n",
      "|       from small pool |       0    |       0    |       0    |       0    |\n",
      "|===========================================================================|\n",
      "\n",
      "using dev cuda:0\n",
      "# available GPUs: 1\n"
     ]
    }
   ],
   "source": [
    "flush_cache()\n",
    "\n",
    "is_distributed = False\n",
    "master = True\n",
    "device = torch.device(0)\n",
    "print('using dev {}'.format(device))\n",
    "    \n",
    "args = get_args()\n",
    "\n",
    "# just to get a feeling of the dataset\n",
    "# labels, mask, indices = build_labels(config.dataset.train.labels_path, 10000)\n",
    "# labels, mask, indices = build_labels(config.dataset.train.labels_path, 10, allowed_subjects=['S9', 'S11'])"
   ]
  },
  {
   "cell_type": "code",
   "execution_count": 25,
   "id": "dedicated-speech",
   "metadata": {
    "scrolled": false
   },
   "outputs": [
    {
     "name": "stdout",
     "output_type": "stream",
     "text": [
      "cam2cam model (res):\n",
      "                    R_backbone has       1750 params (~ 50.7) %\n",
      "                    t_backbone has       1699 params (~ 49.3) %\n",
      "total params:                 3449\n",
      "cam2cam estimation => adding 3449 params to grad ...\n",
      "  training dataset length: 12\n",
      "  validation dataset length: 5\n",
      "Experiment name: human36m_alg_AlgebraicTriangulationNet@14.05.2021-17:07:08\n",
      "#[do_train]: epoch    0 has started!\n",
      "#[cam2cam]: training batch iter 0 losses: GEO ~ 4.553, TRANS ~ 257.989, POSE ~ 89233.922, ROTO ~ 6.094, 3D ~ 629.899, SELF ~ 40.508, TOTAL ~ 832.439\n",
      "#[cam2cam]: training batch iter 0 MPJPE: ~ 26250.980 mm\n",
      "#[cam2cam]: training batch iter 1 losses: GEO ~ 5.063, TRANS ~ 256.276, POSE ~ 96762.078, ROTO ~ 6.903, 3D ~ 684.879, SELF ~ 36.994, TOTAL ~ 869.849\n",
      "#[cam2cam]: training batch iter 1 MPJPE: ~ 7801.258 mm\n",
      "#[cam2cam]: training batch iter 2 losses: GEO ~ 4.791, TRANS ~ 268.314, POSE ~ 76630.492, ROTO ~ 6.361, 3D ~ 565.524, SELF ~ 40.899, TOTAL ~ 770.021\n",
      "#[cam2cam]: training batch iter 2 MPJPE: ~ 733.898 mm\n",
      "#[cam2cam]: training batch iter 3 losses: GEO ~ 4.492, TRANS ~ 301.936, POSE ~ 81862.375, ROTO ~ 6.597, 3D ~ 579.233, SELF ~ 35.280, TOTAL ~ 755.633\n",
      "#[cam2cam]: training batch iter 3 MPJPE: ~ 839.707 mm\n",
      "#[epoch]: training MPJPE relative to pelvis: 8906.461 mm\n",
      "#[epoch]: eval MPJPE relative to pelvis: 782.766 mm\n",
      "#[do_train]: epoch time ~ 3.1\" => 1173 epochs / hour, 28155 epochs / day\n",
      "#[do_train]: epoch    0 complete!\n",
      "#[do_train]: epoch    1 has started!\n",
      "#[cam2cam]: training batch iter 0 losses: GEO ~ 4.446, TRANS ~ 254.951, POSE ~ 84665.062, ROTO ~ 6.306, 3D ~ 617.607, SELF ~ 39.062, TOTAL ~ 812.915\n",
      "#[cam2cam]: training batch iter 0 MPJPE: ~ 2926.823 mm\n",
      "#[cam2cam]: training batch iter 1 losses: GEO ~ 4.783, TRANS ~ 281.623, POSE ~ 76692.047, ROTO ~ 6.397, 3D ~ 574.009, SELF ~ 37.749, TOTAL ~ 762.756\n",
      "#[cam2cam]: training batch iter 1 MPJPE: ~ 762.781 mm\n",
      "#[cam2cam]: training batch iter 2 losses: GEO ~ 5.094, TRANS ~ 240.183, POSE ~ 84313.734, ROTO ~ 7.330, 3D ~ 600.109, SELF ~ 37.853, TOTAL ~ 789.375\n",
      "#[cam2cam]: training batch iter 2 MPJPE: ~ 743.552 mm\n",
      "#[cam2cam]: training batch iter 3 losses: GEO ~ 4.451, TRANS ~ 308.976, POSE ~ 90516.023, ROTO ~ 5.606, 3D ~ 614.468, SELF ~ 36.279, TOTAL ~ 795.862\n",
      "#[cam2cam]: training batch iter 3 MPJPE: ~ 7716.979 mm\n",
      "#[epoch]: training MPJPE relative to pelvis: 3037.534 mm\n",
      "#[epoch]: eval MPJPE relative to pelvis: 781.585 mm\n",
      "#[do_train]: epoch time ~ 3.1\" => 1176 epochs / hour, 28217 epochs / day\n",
      "#[do_train]: epoch    1 complete!\n",
      "          BB forward x         12 ~        0.0 [min:        0.0,    max:        0.0,    last:        0.0]\n",
      "    evaluate results x          4 ~        0.0 [min:        0.0,    max:        0.0,    last:        0.0]\n",
      "     cam2cam forward x         12 ~        0.0 [min:        0.0,    max:        0.0,    last:        0.0]\n",
      "         cam2cam DLT x         12 ~        0.0 [min:        0.0,    max:        0.0,    last:        0.0]\n",
      "       backward pass x          8 ~        0.0 [min:        0.0,    max:        0.1,    last:        0.0]\n",
      "             do eval x          2 ~        0.8 [min:        0.8,    max:        0.8,    last:        0.8]\n",
      "            do train x          2 ~        2.3 [min:        2.3,    max:        2.3,    last:        2.3]\n",
      "    all times are in seconds\n"
     ]
    }
   ],
   "source": [
    "config = get_config(args)\n",
    "do_train(None, None, config, device, is_distributed, master)"
   ]
  }
 ],
 "metadata": {
  "kernelspec": {
   "display_name": "learnable-triangulation-pytorch",
   "language": "python",
   "name": "learnable-triangulation-pytorch"
  },
  "language_info": {
   "codemirror_mode": {
    "name": "ipython",
    "version": 3
   },
   "file_extension": ".py",
   "mimetype": "text/x-python",
   "name": "python",
   "nbconvert_exporter": "python",
   "pygments_lexer": "ipython3",
   "version": "3.8.5"
  }
 },
 "nbformat": 4,
 "nbformat_minor": 5
}
