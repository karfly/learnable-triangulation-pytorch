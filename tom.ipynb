{
 "cells": [
  {
   "cell_type": "code",
   "execution_count": 1,
   "id": "boxed-portsmouth",
   "metadata": {},
   "outputs": [],
   "source": [
    "%load_ext autoreload\n",
    "%reload_ext autoreload\n",
    "%autoreload 2\n",
    "%matplotlib inline"
   ]
  },
  {
   "cell_type": "code",
   "execution_count": 2,
   "id": "personal-brunswick",
   "metadata": {},
   "outputs": [],
   "source": [
    "import numpy as np\n",
    "from pathlib import Path\n",
    "from matplotlib import pyplot as plt\n",
    "\n",
    "from post.files import parse_metrics_log, parse_job_log\n",
    "from post.plots import get_figa, make_axis_great_again, plot_metrics, plot_losses, plot_lr\n",
    "from post.utils import parse_epochs"
   ]
  },
  {
   "cell_type": "code",
   "execution_count": 3,
   "id": "certified-department",
   "metadata": {},
   "outputs": [],
   "source": [
    "tesi_folder = Path('~/Scuola/now/thesis').expanduser()\n",
    "milestones = tesi_folder / 'milestones'\n",
    "current_milestone = milestones / '10.06_17.06_rescale'"
   ]
  },
  {
   "cell_type": "code",
   "execution_count": 4,
   "id": "tutorial-lexington",
   "metadata": {},
   "outputs": [],
   "source": [
    "# todo plot iters\n",
    "def plot_job(ax, job_id, title, training_batch_size, metrics_ylim, n_max_epochs):\n",
    "    job_log = current_milestone / '{}.out'.format(job_id)\n",
    "\n",
    "    try:\n",
    "        exp_name, train_data_amount, _, epochs, lr_reductions = parse_job_log(job_log)\n",
    "        batch_amount_per_epoch = np.ceil(train_data_amount / training_batch_size)\n",
    "        n_epochs = int(n_max_epochs)\n",
    "        xrange = np.arange(1, n_epochs + 1) * batch_amount_per_epoch\n",
    "\n",
    "        if title:\n",
    "            title = 'job #{}: \"{}\"'.format(job_id, title)\n",
    "        else:\n",
    "            title = ''\n",
    "\n",
    "        plot_losses(\n",
    "            ax, epochs[:n_epochs], xrange,\n",
    "            title=title, xlabel='# batch iterations'\n",
    "        )\n",
    "\n",
    "        plot_metrics(\n",
    "            ax.twinx(), epochs[:n_epochs], xrange,\n",
    "            train_metric_ylim=metrics_ylim,\n",
    "            eval_metric_ylim=metrics_ylim,\n",
    "            metric_ylabel='average MPJPE relative to pelvis (mm)',\n",
    "            with_SOTA=True\n",
    "        )\n",
    "\n",
    "        plot_lr(ax, lr_reductions, batch_amount_per_epoch)\n",
    "        make_axis_great_again(ax, xlim=xrange, ylim=[0, 1], hide_y=True)\n",
    "    except StopIteration:\n",
    "        print('does {} even contain 1 complete epoch ??'.format(job_log))\n",
    "\n",
    "    \n",
    "def plot_jobs(jobs, titles, training_batch_size=8, metrics_ylim=[0, 1e2], n_max_epochs=1e3):\n",
    "    fig, axis = get_figa(len(jobs), 1, heigth=12, width=30)  # 1 job foreach row\n",
    "\n",
    "    if len(jobs) > 1:\n",
    "        for ax, job_id, title in zip(axis.ravel(), jobs, titles):\n",
    "            plot_job(ax, job_id, title, training_batch_size, metrics_ylim, n_max_epochs)\n",
    "    else:\n",
    "        plot_job(axis, jobs[0], titles[0], training_batch_size, metrics_ylim, n_max_epochs)\n",
    "        \n",
    "    plt.tight_layout()"
   ]
  },
  {
   "cell_type": "code",
   "execution_count": 5,
   "id": "latest-radar",
   "metadata": {
    "scrolled": false
   },
   "outputs": [
    {
     "ename": "FileNotFoundError",
     "evalue": "[Errno 2] No such file or directory: '/home/stefano/Scuola/now/thesis/milestones/10.06_17.06_rescale/.out'",
     "output_type": "error",
     "traceback": [
      "\u001b[0;31m---------------------------------------------------------------------------\u001b[0m",
      "\u001b[0;31mFileNotFoundError\u001b[0m                         Traceback (most recent call last)",
      "\u001b[0;32m<ipython-input-5-849822689c4e>\u001b[0m in \u001b[0;36m<module>\u001b[0;34m\u001b[0m\n\u001b[1;32m     32\u001b[0m ]))\n\u001b[1;32m     33\u001b[0m \u001b[0;34m\u001b[0m\u001b[0m\n\u001b[0;32m---> 34\u001b[0;31m \u001b[0mplot_jobs\u001b[0m\u001b[0;34m(\u001b[0m\u001b[0mjobs\u001b[0m\u001b[0;34m[\u001b[0m\u001b[0;36m0\u001b[0m\u001b[0;34m]\u001b[0m\u001b[0;34m,\u001b[0m \u001b[0mjobs\u001b[0m\u001b[0;34m[\u001b[0m\u001b[0;36m1\u001b[0m\u001b[0;34m]\u001b[0m\u001b[0;34m,\u001b[0m \u001b[0mmetrics_ylim\u001b[0m\u001b[0;34m=\u001b[0m\u001b[0;34m[\u001b[0m\u001b[0;36m0\u001b[0m\u001b[0;34m,\u001b[0m \u001b[0;36m200\u001b[0m\u001b[0;34m]\u001b[0m\u001b[0;34m,\u001b[0m \u001b[0mn_max_epochs\u001b[0m\u001b[0;34m=\u001b[0m\u001b[0;36m100\u001b[0m\u001b[0;34m)\u001b[0m\u001b[0;34m\u001b[0m\u001b[0;34m\u001b[0m\u001b[0m\n\u001b[0m",
      "\u001b[0;32m<ipython-input-4-070ee570481f>\u001b[0m in \u001b[0;36mplot_jobs\u001b[0;34m(jobs, titles, training_batch_size, metrics_ylim, n_max_epochs)\u001b[0m\n\u001b[1;32m     40\u001b[0m             \u001b[0mplot_job\u001b[0m\u001b[0;34m(\u001b[0m\u001b[0max\u001b[0m\u001b[0;34m,\u001b[0m \u001b[0mjob_id\u001b[0m\u001b[0;34m,\u001b[0m \u001b[0mtitle\u001b[0m\u001b[0;34m,\u001b[0m \u001b[0mtraining_batch_size\u001b[0m\u001b[0;34m,\u001b[0m \u001b[0mmetrics_ylim\u001b[0m\u001b[0;34m,\u001b[0m \u001b[0mn_max_epochs\u001b[0m\u001b[0;34m)\u001b[0m\u001b[0;34m\u001b[0m\u001b[0;34m\u001b[0m\u001b[0m\n\u001b[1;32m     41\u001b[0m     \u001b[0;32melse\u001b[0m\u001b[0;34m:\u001b[0m\u001b[0;34m\u001b[0m\u001b[0;34m\u001b[0m\u001b[0m\n\u001b[0;32m---> 42\u001b[0;31m         \u001b[0mplot_job\u001b[0m\u001b[0;34m(\u001b[0m\u001b[0maxis\u001b[0m\u001b[0;34m,\u001b[0m \u001b[0mjobs\u001b[0m\u001b[0;34m[\u001b[0m\u001b[0;36m0\u001b[0m\u001b[0;34m]\u001b[0m\u001b[0;34m,\u001b[0m \u001b[0mtitles\u001b[0m\u001b[0;34m[\u001b[0m\u001b[0;36m0\u001b[0m\u001b[0;34m]\u001b[0m\u001b[0;34m,\u001b[0m \u001b[0mtraining_batch_size\u001b[0m\u001b[0;34m,\u001b[0m \u001b[0mmetrics_ylim\u001b[0m\u001b[0;34m,\u001b[0m \u001b[0mn_max_epochs\u001b[0m\u001b[0;34m)\u001b[0m\u001b[0;34m\u001b[0m\u001b[0;34m\u001b[0m\u001b[0m\n\u001b[0m\u001b[1;32m     43\u001b[0m \u001b[0;34m\u001b[0m\u001b[0m\n\u001b[1;32m     44\u001b[0m     \u001b[0mplt\u001b[0m\u001b[0;34m.\u001b[0m\u001b[0mtight_layout\u001b[0m\u001b[0;34m(\u001b[0m\u001b[0;34m)\u001b[0m\u001b[0;34m\u001b[0m\u001b[0;34m\u001b[0m\u001b[0m\n",
      "\u001b[0;32m<ipython-input-4-070ee570481f>\u001b[0m in \u001b[0;36mplot_job\u001b[0;34m(ax, job_id, title, training_batch_size, metrics_ylim, n_max_epochs)\u001b[0m\n\u001b[1;32m      4\u001b[0m \u001b[0;34m\u001b[0m\u001b[0m\n\u001b[1;32m      5\u001b[0m     \u001b[0;32mtry\u001b[0m\u001b[0;34m:\u001b[0m\u001b[0;34m\u001b[0m\u001b[0;34m\u001b[0m\u001b[0m\n\u001b[0;32m----> 6\u001b[0;31m         \u001b[0mexp_name\u001b[0m\u001b[0;34m,\u001b[0m \u001b[0mtrain_data_amount\u001b[0m\u001b[0;34m,\u001b[0m \u001b[0m_\u001b[0m\u001b[0;34m,\u001b[0m \u001b[0mepochs\u001b[0m\u001b[0;34m,\u001b[0m \u001b[0mlr_reductions\u001b[0m \u001b[0;34m=\u001b[0m \u001b[0mparse_job_log\u001b[0m\u001b[0;34m(\u001b[0m\u001b[0mjob_log\u001b[0m\u001b[0;34m)\u001b[0m\u001b[0;34m\u001b[0m\u001b[0;34m\u001b[0m\u001b[0m\n\u001b[0m\u001b[1;32m      7\u001b[0m         \u001b[0mbatch_amount_per_epoch\u001b[0m \u001b[0;34m=\u001b[0m \u001b[0mnp\u001b[0m\u001b[0;34m.\u001b[0m\u001b[0mceil\u001b[0m\u001b[0;34m(\u001b[0m\u001b[0mtrain_data_amount\u001b[0m \u001b[0;34m/\u001b[0m \u001b[0mtraining_batch_size\u001b[0m\u001b[0;34m)\u001b[0m\u001b[0;34m\u001b[0m\u001b[0;34m\u001b[0m\u001b[0m\n\u001b[1;32m      8\u001b[0m         \u001b[0mn_epochs\u001b[0m \u001b[0;34m=\u001b[0m \u001b[0mint\u001b[0m\u001b[0;34m(\u001b[0m\u001b[0mn_max_epochs\u001b[0m\u001b[0;34m)\u001b[0m\u001b[0;34m\u001b[0m\u001b[0;34m\u001b[0m\u001b[0m\n",
      "\u001b[0;32m~/scratch/learnable-triangulation-pytorch/post/files.py\u001b[0m in \u001b[0;36mparse_job_log\u001b[0;34m(f_path, verbose)\u001b[0m\n\u001b[1;32m     57\u001b[0m     \u001b[0;34m\"\"\" parses 14034239.out \"\"\"\u001b[0m\u001b[0;34m\u001b[0m\u001b[0;34m\u001b[0m\u001b[0m\n\u001b[1;32m     58\u001b[0m \u001b[0;34m\u001b[0m\u001b[0m\n\u001b[0;32m---> 59\u001b[0;31m     \u001b[0mlines\u001b[0m \u001b[0;34m=\u001b[0m \u001b[0mget_lines\u001b[0m\u001b[0;34m(\u001b[0m\u001b[0mf_path\u001b[0m\u001b[0;34m)\u001b[0m\u001b[0;34m\u001b[0m\u001b[0;34m\u001b[0m\u001b[0m\n\u001b[0m\u001b[1;32m     60\u001b[0m \u001b[0;34m\u001b[0m\u001b[0m\n\u001b[1;32m     61\u001b[0m     exp_name = next(filter(\n",
      "\u001b[0;32m~/scratch/learnable-triangulation-pytorch/post/files.py\u001b[0m in \u001b[0;36mget_lines\u001b[0;34m(f_path)\u001b[0m\n\u001b[1;32m      8\u001b[0m     \u001b[0mlines\u001b[0m \u001b[0;34m=\u001b[0m \u001b[0;34m[\u001b[0m\u001b[0;34m]\u001b[0m\u001b[0;34m\u001b[0m\u001b[0;34m\u001b[0m\u001b[0m\n\u001b[1;32m      9\u001b[0m \u001b[0;34m\u001b[0m\u001b[0m\n\u001b[0;32m---> 10\u001b[0;31m     \u001b[0;32mwith\u001b[0m \u001b[0mopen\u001b[0m\u001b[0;34m(\u001b[0m\u001b[0mf_path\u001b[0m\u001b[0;34m,\u001b[0m \u001b[0;34m'r'\u001b[0m\u001b[0;34m)\u001b[0m \u001b[0;32mas\u001b[0m \u001b[0mreader\u001b[0m\u001b[0;34m:\u001b[0m\u001b[0;34m\u001b[0m\u001b[0;34m\u001b[0m\u001b[0m\n\u001b[0m\u001b[1;32m     11\u001b[0m         \u001b[0mlines\u001b[0m \u001b[0;34m=\u001b[0m \u001b[0mreader\u001b[0m\u001b[0;34m.\u001b[0m\u001b[0mreadlines\u001b[0m\u001b[0;34m(\u001b[0m\u001b[0;34m)\u001b[0m\u001b[0;34m\u001b[0m\u001b[0;34m\u001b[0m\u001b[0m\n\u001b[1;32m     12\u001b[0m         lines = [\n",
      "\u001b[0;31mFileNotFoundError\u001b[0m: [Errno 2] No such file or directory: '/home/stefano/Scuola/now/thesis/milestones/10.06_17.06_rescale/.out'"
     ]
    },
    {
     "data": {
      "image/png": "[encoded data removed]",
      "text/plain": [
       "<Figure size 2160x864 with 1 Axes>"
      ]
     },
     "metadata": {
      "needs_background": "light"
     },
     "output_type": "display_data"
    }
   ],
   "source": [
    "jobs = list(zip(*[   \n",
    "    # pelvis NOT in origin, super R|t, super 3D KPs\n",
    "    #('16884215', 'fixed'),\n",
    "    \n",
    "    # pelvis in origin, superv R|t, super 3D KPs\n",
    "    #('16880504', 'variant I'),  # 17329211\n",
    "    #('17204555', 'variant II'),  # predict master.ext, master2others\n",
    "     \n",
    "    # pelvis in origin, super 3D KPs\n",
    "    #('16862312', '76d6959 supervising 3D'),  # here I was predicting directly the cam i -> j ...\n",
    "    #('17037093', '8fcd56a'),  # ... here I predict ext for each cam. Others: 16932527\n",
    "    #('17201912', 'variant II'),\n",
    "        \n",
    "    # pelvis in origin, super 1 3D KP\n",
    "    #('17121242', 'just HEAD'),  # from 17121075-17113436\n",
    "    #('17149053', 'just HEAD on 10% dataset'),  # from 17121767, evaluation job: 17151377\n",
    "    \n",
    "    # pelvis in origin, self-supervised\n",
    "    #('17018882', 'a meno di rotazione/scaling ...'),  # variant I\n",
    "    #('16983176', 'ScaleIndependentProjectionLoss (HuberLoss)'),  # 2 GT world points, using noisy KPs\n",
    "    #('17295283', 'variant I (pre-trained with head -|)')\n",
    "    #('17342429', 'variant I (re-scaled-aligned)'),  # 17352673, 17408538, 17408588\n",
    "    #('17359339', '=17342429 but on 10% dataset, with `BerHuLoss(threshold=0.25)`'),\n",
    "    #('', 'variant II (re-scaled-aligned)'),\n",
    "    \n",
    "    # pelvis in origin, self-supervised, many cams (re-aligned)\n",
    "    ('', 'variant I'),  # 17405118\n",
    "    #('17394960', 'variant I (supervised)')\n",
    "    \n",
    "    # pelvis in origin, self-supervised, 1 GT cam\n",
    "    #('', 'variant I'),\n",
    "]))\n",
    "\n",
    "plot_jobs(jobs[0], jobs[1], metrics_ylim=[0, 200], n_max_epochs=100)"
   ]
  }
 ],
 "metadata": {
  "kernelspec": {
   "display_name": "learnable-triangulation-pytorch",
   "language": "python",
   "name": "learnable-triangulation-pytorch"
  },
  "language_info": {
   "codemirror_mode": {
    "name": "ipython",
    "version": 3
   },
   "file_extension": ".py",
   "mimetype": "text/x-python",
   "name": "python",
   "nbconvert_exporter": "python",
   "pygments_lexer": "ipython3",
   "version": "3.9.5"
  }
 },
 "nbformat": 4,
 "nbformat_minor": 5
}
