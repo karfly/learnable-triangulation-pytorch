{
 "cells": [
  {
   "cell_type": "code",
   "execution_count": 1,
   "id": "boxed-portsmouth",
   "metadata": {},
   "outputs": [],
   "source": [
    "%load_ext autoreload\n",
    "%reload_ext autoreload\n",
    "%autoreload 2\n",
    "%matplotlib inline"
   ]
  },
  {
   "cell_type": "code",
   "execution_count": 2,
   "id": "personal-brunswick",
   "metadata": {},
   "outputs": [],
   "source": [
    "import numpy as np\n",
    "from pathlib import Path\n",
    "\n",
    "from post.files import parse_metrics_log, parse_job_log\n",
    "from post.plots import get_figa, make_axis_great_again, plot_metrics, plot_losses, plot_lr\n",
    "from post.utils import parse_epochs"
   ]
  },
  {
   "cell_type": "code",
   "execution_count": 3,
   "id": "certified-department",
   "metadata": {},
   "outputs": [],
   "source": [
    "tesi_folder = Path('~/Scuola/now/thesis').expanduser()\n",
    "milestones = tesi_folder / 'milestones'\n",
    "current_milestone = milestones / '20.05_27.05_rodrigezzzzzzzzzz'"
   ]
  },
  {
   "cell_type": "code",
   "execution_count": 4,
   "id": "tutorial-lexington",
   "metadata": {},
   "outputs": [],
   "source": [
    "# todo plot iters\n",
    "def plot_job(ax, job_id, title, training_batch_size, metrics_ylim, n_max_epochs):\n",
    "    job_log = current_milestone / '{}.out'.format(job_id)\n",
    "\n",
    "    try:\n",
    "        exp_name, train_data_amount, _, epochs, lr_reductions = parse_job_log(job_log)\n",
    "        batch_amount_per_epoch = np.ceil(train_data_amount / training_batch_size)\n",
    "        n_epochs = int(n_max_epochs)\n",
    "        xrange = np.arange(1, n_epochs + 1) * batch_amount_per_epoch\n",
    "\n",
    "        if title:\n",
    "            title = 'job #{}: \"{}\"'.format(job_id, title)\n",
    "        else:\n",
    "            title = ''\n",
    "\n",
    "        plot_losses(\n",
    "            ax, epochs[:n_epochs], xrange,\n",
    "            title=title, xlabel='# batch iterations'\n",
    "        )\n",
    "\n",
    "        plot_metrics(\n",
    "            ax.twinx(), epochs[:n_epochs], xrange,\n",
    "            train_metric_ylim=metrics_ylim,\n",
    "            eval_metric_ylim=metrics_ylim,\n",
    "            metric_ylabel='average MPJPE relative to pelvis (mm)',\n",
    "            with_SOTA=True\n",
    "        )\n",
    "\n",
    "        plot_lr(ax, lr_reductions, batch_amount_per_epoch)\n",
    "\n",
    "        make_axis_great_again(ax, xlim=xrange, ylim=[0, 1e2], hide_y=True)\n",
    "    except StopIteration:\n",
    "        print('does {} even contain 1 complete epoch ??'.format(job_log))\n",
    "\n",
    "    \n",
    "def plot_jobs(jobs, titles, training_batch_size=8, metrics_ylim=[0, 1e2], n_max_epochs=1e3):\n",
    "    fig, axis = get_figa(len(jobs), 1, heigth=12, width=30)  # 1 job foreach row\n",
    "\n",
    "    if len(jobs) > 1:\n",
    "        for ax, job_id, title in zip(axis.ravel(), jobs, titles):\n",
    "            plot_job(ax, job_id, title, training_batch_size, metrics_ylim, n_max_epochs)\n",
    "    else:\n",
    "        plot_job(axis, jobs[0], titles[0], training_batch_size, metrics_ylim, n_max_epochs)"
   ]
  },
  {
   "cell_type": "code",
   "execution_count": 5,
   "id": "latest-radar",
   "metadata": {
    "scrolled": false
   },
   "outputs": [
    {
     "ename": "IndexError",
     "evalue": "list index out of range",
     "output_type": "error",
     "traceback": [
      "\u001b[0;31m---------------------------------------------------------------------------\u001b[0m",
      "\u001b[0;31mIndexError\u001b[0m                                Traceback (most recent call last)",
      "\u001b[0;32m<ipython-input-5-2adacdbf4ac9>\u001b[0m in \u001b[0;36m<module>\u001b[0;34m\u001b[0m\n\u001b[1;32m     32\u001b[0m ]))\n\u001b[1;32m     33\u001b[0m \u001b[0;34m\u001b[0m\u001b[0m\n\u001b[0;32m---> 34\u001b[0;31m \u001b[0mplot_jobs\u001b[0m\u001b[0;34m(\u001b[0m\u001b[0mjobs\u001b[0m\u001b[0;34m[\u001b[0m\u001b[0;36m0\u001b[0m\u001b[0;34m]\u001b[0m\u001b[0;34m,\u001b[0m \u001b[0mjobs\u001b[0m\u001b[0;34m[\u001b[0m\u001b[0;36m1\u001b[0m\u001b[0;34m]\u001b[0m\u001b[0;34m,\u001b[0m \u001b[0mmetrics_ylim\u001b[0m\u001b[0;34m=\u001b[0m\u001b[0;34m[\u001b[0m\u001b[0;36m0\u001b[0m\u001b[0;34m,\u001b[0m \u001b[0;36m100\u001b[0m\u001b[0;34m]\u001b[0m\u001b[0;34m,\u001b[0m \u001b[0mn_max_epochs\u001b[0m\u001b[0;34m=\u001b[0m\u001b[0;36m10.1e2\u001b[0m\u001b[0;34m)\u001b[0m\u001b[0;34m\u001b[0m\u001b[0;34m\u001b[0m\u001b[0m\n\u001b[0m",
      "\u001b[0;31mIndexError\u001b[0m: list index out of range"
     ]
    }
   ],
   "source": [
    "jobs = list(zip(*[\n",
    "    # pelvis NOT in origin, super R|t, super 3D KPs\n",
    "    #('16884215', 'fixed'),\n",
    "    #('16647158', '=16640073, 10% dataset'),\n",
    "    #('16809173_16831062', '33f91fc, Fro, 1024, 1e-4'),  # continuing from 16809173  # 16795195, 16797454, 16802162\n",
    "    \n",
    "    # pelvis NOT in origin, NOT super R|t, super 3D KPs\n",
    "    # ...\n",
    "    \n",
    "    # pelvis in origin, superv R|t, super 3D KPs\n",
    "    # ('16825120', '~16822962 but with 6D'),\n",
    "    #('16700068', '1ac51aa but with Rod'),  # 16772316 by mean Fro\n",
    "    # ('16864803', 'deca149, predicting plain E'),\n",
    "    # ('16871156', '6ebb4b8 with masters2world GT, 6D roto-param, w_geo = 600, w_t=8, w_3D=1'),\n",
    "    # ('16880504', 'fixed'),\n",
    "     \n",
    "    # pelvis in origin, NOT superv R|t, super 3D KPs\n",
    "    #('16712639', '6db8028 (Rod) but no KP centering!'),  # 16711084\n",
    "    #('16862312', '76d6959 supervising 3D'),    \n",
    "    \n",
    "    # pelvis NOT in origin, super R|t, super 2D KPs\n",
    "    # ...\n",
    "    \n",
    "    # pelvis NOT in origin, NOT super R|t, super 2D KPs\n",
    "    # ...\n",
    "    \n",
    "    # pelvis in origin, superv R|t, super 2D KPs\n",
    "    # ('16881089', 'fixed'),\n",
    "    \n",
    "    # pelvis in origin, NOT superv R|t, super 2D KPs\n",
    "    #('16731852', '217c24c but wdecy=2, gclip=0.25'),  # 16731537, 16729378, 16721459\n",
    "]))\n",
    "\n",
    "plot_jobs(jobs[0], jobs[1], metrics_ylim=[0, 100], n_max_epochs=10.1e2)"
   ]
  }
 ],
 "metadata": {
  "kernelspec": {
   "display_name": "learnable-triangulation-pytorch",
   "language": "python",
   "name": "learnable-triangulation-pytorch"
  },
  "language_info": {
   "codemirror_mode": {
    "name": "ipython",
    "version": 3
   },
   "file_extension": ".py",
   "mimetype": "text/x-python",
   "name": "python",
   "nbconvert_exporter": "python",
   "pygments_lexer": "ipython3",
   "version": "3.9.4"
  }
 },
 "nbformat": 4,
 "nbformat_minor": 5
}
